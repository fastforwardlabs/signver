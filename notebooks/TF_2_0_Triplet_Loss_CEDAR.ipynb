{
  "nbformat": 4,
  "nbformat_minor": 0,
  "metadata": {
    "colab": {
      "name": "TF 2.0 Triplet Loss - CEDAR.ipynb",
      "provenance": [],
      "machine_shape": "hm"
    },
    "kernelspec": {
      "name": "python3",
      "display_name": "Python 3"
    },
    "language_info": {
      "name": "python"
    },
    "accelerator": "GPU",
    "widgets": {
      "application/vnd.jupyter.widget-state+json": {
        "c4ab5b6d6b364cb38426aab06bae6a8a": {
          "model_module": "@jupyter-widgets/controls",
          "model_name": "HBoxModel",
          "state": {
            "_view_name": "HBoxView",
            "_dom_classes": [],
            "_model_name": "HBoxModel",
            "_view_module": "@jupyter-widgets/controls",
            "_model_module_version": "1.5.0",
            "_view_count": null,
            "_view_module_version": "1.5.0",
            "box_style": "",
            "layout": "IPY_MODEL_53114b711ca0446e9e837411d6f22852",
            "_model_module": "@jupyter-widgets/controls",
            "children": [
              "IPY_MODEL_24566cf0ab644fe28e16c78549bddcf8",
              "IPY_MODEL_ed5fd62049af40e68d9e449c02c73e26"
            ]
          }
        },
        "53114b711ca0446e9e837411d6f22852": {
          "model_module": "@jupyter-widgets/base",
          "model_name": "LayoutModel",
          "state": {
            "_view_name": "LayoutView",
            "grid_template_rows": null,
            "right": null,
            "justify_content": null,
            "_view_module": "@jupyter-widgets/base",
            "overflow": null,
            "_model_module_version": "1.2.0",
            "_view_count": null,
            "flex_flow": null,
            "width": null,
            "min_width": null,
            "border": null,
            "align_items": null,
            "bottom": null,
            "_model_module": "@jupyter-widgets/base",
            "top": null,
            "grid_column": null,
            "overflow_y": null,
            "overflow_x": null,
            "grid_auto_flow": null,
            "grid_area": null,
            "grid_template_columns": null,
            "flex": null,
            "_model_name": "LayoutModel",
            "justify_items": null,
            "grid_row": null,
            "max_height": null,
            "align_content": null,
            "visibility": null,
            "align_self": null,
            "height": null,
            "min_height": null,
            "padding": null,
            "grid_auto_rows": null,
            "grid_gap": null,
            "max_width": null,
            "order": null,
            "_view_module_version": "1.2.0",
            "grid_template_areas": null,
            "object_position": null,
            "object_fit": null,
            "grid_auto_columns": null,
            "margin": null,
            "display": null,
            "left": null
          }
        },
        "24566cf0ab644fe28e16c78549bddcf8": {
          "model_module": "@jupyter-widgets/controls",
          "model_name": "FloatProgressModel",
          "state": {
            "_view_name": "ProgressView",
            "style": "IPY_MODEL_b888d7623e7b4634bbbb2610d9cadb8b",
            "_dom_classes": [],
            "description": "100%",
            "_model_name": "FloatProgressModel",
            "bar_style": "success",
            "max": 55,
            "_view_module": "@jupyter-widgets/controls",
            "_model_module_version": "1.5.0",
            "value": 55,
            "_view_count": null,
            "_view_module_version": "1.5.0",
            "orientation": "horizontal",
            "min": 0,
            "description_tooltip": null,
            "_model_module": "@jupyter-widgets/controls",
            "layout": "IPY_MODEL_89a60f16c8574bb2906db1bd2aee1551"
          }
        },
        "ed5fd62049af40e68d9e449c02c73e26": {
          "model_module": "@jupyter-widgets/controls",
          "model_name": "HTMLModel",
          "state": {
            "_view_name": "HTMLView",
            "style": "IPY_MODEL_61d1ef66befb434b84aeb3b0e489c565",
            "_dom_classes": [],
            "description": "",
            "_model_name": "HTMLModel",
            "placeholder": "​",
            "_view_module": "@jupyter-widgets/controls",
            "_model_module_version": "1.5.0",
            "value": " 55/55 [01:01&lt;00:00,  1.13s/it]",
            "_view_count": null,
            "_view_module_version": "1.5.0",
            "description_tooltip": null,
            "_model_module": "@jupyter-widgets/controls",
            "layout": "IPY_MODEL_0ba5fd679fde4ac18c5e39451ce139ef"
          }
        },
        "b888d7623e7b4634bbbb2610d9cadb8b": {
          "model_module": "@jupyter-widgets/controls",
          "model_name": "ProgressStyleModel",
          "state": {
            "_view_name": "StyleView",
            "_model_name": "ProgressStyleModel",
            "description_width": "initial",
            "_view_module": "@jupyter-widgets/base",
            "_model_module_version": "1.5.0",
            "_view_count": null,
            "_view_module_version": "1.2.0",
            "bar_color": null,
            "_model_module": "@jupyter-widgets/controls"
          }
        },
        "89a60f16c8574bb2906db1bd2aee1551": {
          "model_module": "@jupyter-widgets/base",
          "model_name": "LayoutModel",
          "state": {
            "_view_name": "LayoutView",
            "grid_template_rows": null,
            "right": null,
            "justify_content": null,
            "_view_module": "@jupyter-widgets/base",
            "overflow": null,
            "_model_module_version": "1.2.0",
            "_view_count": null,
            "flex_flow": null,
            "width": null,
            "min_width": null,
            "border": null,
            "align_items": null,
            "bottom": null,
            "_model_module": "@jupyter-widgets/base",
            "top": null,
            "grid_column": null,
            "overflow_y": null,
            "overflow_x": null,
            "grid_auto_flow": null,
            "grid_area": null,
            "grid_template_columns": null,
            "flex": null,
            "_model_name": "LayoutModel",
            "justify_items": null,
            "grid_row": null,
            "max_height": null,
            "align_content": null,
            "visibility": null,
            "align_self": null,
            "height": null,
            "min_height": null,
            "padding": null,
            "grid_auto_rows": null,
            "grid_gap": null,
            "max_width": null,
            "order": null,
            "_view_module_version": "1.2.0",
            "grid_template_areas": null,
            "object_position": null,
            "object_fit": null,
            "grid_auto_columns": null,
            "margin": null,
            "display": null,
            "left": null
          }
        },
        "61d1ef66befb434b84aeb3b0e489c565": {
          "model_module": "@jupyter-widgets/controls",
          "model_name": "DescriptionStyleModel",
          "state": {
            "_view_name": "StyleView",
            "_model_name": "DescriptionStyleModel",
            "description_width": "",
            "_view_module": "@jupyter-widgets/base",
            "_model_module_version": "1.5.0",
            "_view_count": null,
            "_view_module_version": "1.2.0",
            "_model_module": "@jupyter-widgets/controls"
          }
        },
        "0ba5fd679fde4ac18c5e39451ce139ef": {
          "model_module": "@jupyter-widgets/base",
          "model_name": "LayoutModel",
          "state": {
            "_view_name": "LayoutView",
            "grid_template_rows": null,
            "right": null,
            "justify_content": null,
            "_view_module": "@jupyter-widgets/base",
            "overflow": null,
            "_model_module_version": "1.2.0",
            "_view_count": null,
            "flex_flow": null,
            "width": null,
            "min_width": null,
            "border": null,
            "align_items": null,
            "bottom": null,
            "_model_module": "@jupyter-widgets/base",
            "top": null,
            "grid_column": null,
            "overflow_y": null,
            "overflow_x": null,
            "grid_auto_flow": null,
            "grid_area": null,
            "grid_template_columns": null,
            "flex": null,
            "_model_name": "LayoutModel",
            "justify_items": null,
            "grid_row": null,
            "max_height": null,
            "align_content": null,
            "visibility": null,
            "align_self": null,
            "height": null,
            "min_height": null,
            "padding": null,
            "grid_auto_rows": null,
            "grid_gap": null,
            "max_width": null,
            "order": null,
            "_view_module_version": "1.2.0",
            "grid_template_areas": null,
            "object_position": null,
            "object_fit": null,
            "grid_auto_columns": null,
            "margin": null,
            "display": null,
            "left": null
          }
        },
        "10572732faea4e5a98ef86f72cc65bbb": {
          "model_module": "@jupyter-widgets/controls",
          "model_name": "HBoxModel",
          "state": {
            "_view_name": "HBoxView",
            "_dom_classes": [],
            "_model_name": "HBoxModel",
            "_view_module": "@jupyter-widgets/controls",
            "_model_module_version": "1.5.0",
            "_view_count": null,
            "_view_module_version": "1.5.0",
            "box_style": "",
            "layout": "IPY_MODEL_f1ffffa54a4d418ca62a36665702b893",
            "_model_module": "@jupyter-widgets/controls",
            "children": [
              "IPY_MODEL_241b412fd72c430fbe110cfa6f4aec33",
              "IPY_MODEL_03fd53777ad64b35882d1d3cea216636"
            ]
          }
        },
        "f1ffffa54a4d418ca62a36665702b893": {
          "model_module": "@jupyter-widgets/base",
          "model_name": "LayoutModel",
          "state": {
            "_view_name": "LayoutView",
            "grid_template_rows": null,
            "right": null,
            "justify_content": null,
            "_view_module": "@jupyter-widgets/base",
            "overflow": null,
            "_model_module_version": "1.2.0",
            "_view_count": null,
            "flex_flow": null,
            "width": null,
            "min_width": null,
            "border": null,
            "align_items": null,
            "bottom": null,
            "_model_module": "@jupyter-widgets/base",
            "top": null,
            "grid_column": null,
            "overflow_y": null,
            "overflow_x": null,
            "grid_auto_flow": null,
            "grid_area": null,
            "grid_template_columns": null,
            "flex": null,
            "_model_name": "LayoutModel",
            "justify_items": null,
            "grid_row": null,
            "max_height": null,
            "align_content": null,
            "visibility": null,
            "align_self": null,
            "height": null,
            "min_height": null,
            "padding": null,
            "grid_auto_rows": null,
            "grid_gap": null,
            "max_width": null,
            "order": null,
            "_view_module_version": "1.2.0",
            "grid_template_areas": null,
            "object_position": null,
            "object_fit": null,
            "grid_auto_columns": null,
            "margin": null,
            "display": null,
            "left": null
          }
        },
        "241b412fd72c430fbe110cfa6f4aec33": {
          "model_module": "@jupyter-widgets/controls",
          "model_name": "FloatProgressModel",
          "state": {
            "_view_name": "ProgressView",
            "style": "IPY_MODEL_bfa4b2e501ab447d8b9c1c490bf69fc8",
            "_dom_classes": [],
            "description": "100%",
            "_model_name": "FloatProgressModel",
            "bar_style": "success",
            "max": 55,
            "_view_module": "@jupyter-widgets/controls",
            "_model_module_version": "1.5.0",
            "value": 55,
            "_view_count": null,
            "_view_module_version": "1.5.0",
            "orientation": "horizontal",
            "min": 0,
            "description_tooltip": null,
            "_model_module": "@jupyter-widgets/controls",
            "layout": "IPY_MODEL_c028bc5cddbf44f089806c9796da2ff9"
          }
        },
        "03fd53777ad64b35882d1d3cea216636": {
          "model_module": "@jupyter-widgets/controls",
          "model_name": "HTMLModel",
          "state": {
            "_view_name": "HTMLView",
            "style": "IPY_MODEL_947dff86e666472fb741dbd1b5a8fcac",
            "_dom_classes": [],
            "description": "",
            "_model_name": "HTMLModel",
            "placeholder": "​",
            "_view_module": "@jupyter-widgets/controls",
            "_model_module_version": "1.5.0",
            "value": " 55/55 [00:50&lt;00:00,  1.09it/s]",
            "_view_count": null,
            "_view_module_version": "1.5.0",
            "description_tooltip": null,
            "_model_module": "@jupyter-widgets/controls",
            "layout": "IPY_MODEL_2c7ea0f347c049879c529f28d10db7a8"
          }
        },
        "bfa4b2e501ab447d8b9c1c490bf69fc8": {
          "model_module": "@jupyter-widgets/controls",
          "model_name": "ProgressStyleModel",
          "state": {
            "_view_name": "StyleView",
            "_model_name": "ProgressStyleModel",
            "description_width": "initial",
            "_view_module": "@jupyter-widgets/base",
            "_model_module_version": "1.5.0",
            "_view_count": null,
            "_view_module_version": "1.2.0",
            "bar_color": null,
            "_model_module": "@jupyter-widgets/controls"
          }
        },
        "c028bc5cddbf44f089806c9796da2ff9": {
          "model_module": "@jupyter-widgets/base",
          "model_name": "LayoutModel",
          "state": {
            "_view_name": "LayoutView",
            "grid_template_rows": null,
            "right": null,
            "justify_content": null,
            "_view_module": "@jupyter-widgets/base",
            "overflow": null,
            "_model_module_version": "1.2.0",
            "_view_count": null,
            "flex_flow": null,
            "width": null,
            "min_width": null,
            "border": null,
            "align_items": null,
            "bottom": null,
            "_model_module": "@jupyter-widgets/base",
            "top": null,
            "grid_column": null,
            "overflow_y": null,
            "overflow_x": null,
            "grid_auto_flow": null,
            "grid_area": null,
            "grid_template_columns": null,
            "flex": null,
            "_model_name": "LayoutModel",
            "justify_items": null,
            "grid_row": null,
            "max_height": null,
            "align_content": null,
            "visibility": null,
            "align_self": null,
            "height": null,
            "min_height": null,
            "padding": null,
            "grid_auto_rows": null,
            "grid_gap": null,
            "max_width": null,
            "order": null,
            "_view_module_version": "1.2.0",
            "grid_template_areas": null,
            "object_position": null,
            "object_fit": null,
            "grid_auto_columns": null,
            "margin": null,
            "display": null,
            "left": null
          }
        },
        "947dff86e666472fb741dbd1b5a8fcac": {
          "model_module": "@jupyter-widgets/controls",
          "model_name": "DescriptionStyleModel",
          "state": {
            "_view_name": "StyleView",
            "_model_name": "DescriptionStyleModel",
            "description_width": "",
            "_view_module": "@jupyter-widgets/base",
            "_model_module_version": "1.5.0",
            "_view_count": null,
            "_view_module_version": "1.2.0",
            "_model_module": "@jupyter-widgets/controls"
          }
        },
        "2c7ea0f347c049879c529f28d10db7a8": {
          "model_module": "@jupyter-widgets/base",
          "model_name": "LayoutModel",
          "state": {
            "_view_name": "LayoutView",
            "grid_template_rows": null,
            "right": null,
            "justify_content": null,
            "_view_module": "@jupyter-widgets/base",
            "overflow": null,
            "_model_module_version": "1.2.0",
            "_view_count": null,
            "flex_flow": null,
            "width": null,
            "min_width": null,
            "border": null,
            "align_items": null,
            "bottom": null,
            "_model_module": "@jupyter-widgets/base",
            "top": null,
            "grid_column": null,
            "overflow_y": null,
            "overflow_x": null,
            "grid_auto_flow": null,
            "grid_area": null,
            "grid_template_columns": null,
            "flex": null,
            "_model_name": "LayoutModel",
            "justify_items": null,
            "grid_row": null,
            "max_height": null,
            "align_content": null,
            "visibility": null,
            "align_self": null,
            "height": null,
            "min_height": null,
            "padding": null,
            "grid_auto_rows": null,
            "grid_gap": null,
            "max_width": null,
            "order": null,
            "_view_module_version": "1.2.0",
            "grid_template_areas": null,
            "object_position": null,
            "object_fit": null,
            "grid_auto_columns": null,
            "margin": null,
            "display": null,
            "left": null
          }
        }
      }
    }
  },
  "cells": [
    {
      "cell_type": "code",
      "metadata": {
        "colab": {
          "base_uri": "https://localhost:8080/"
        },
        "id": "U3OBIbhbRG61",
        "outputId": "5794a2b5-b119-4a8e-a61e-60ae5cd6f7ac"
      },
      "source": [
        "!pip install -q -U tensorflow-addons umap-learn"
      ],
      "execution_count": 29,
      "outputs": [
        {
          "output_type": "stream",
          "text": [
            "\u001b[K     |████████████████████████████████| 686kB 9.9MB/s \n",
            "\u001b[K     |████████████████████████████████| 81kB 8.7MB/s \n",
            "\u001b[K     |████████████████████████████████| 1.2MB 23.8MB/s \n",
            "\u001b[?25h  Building wheel for umap-learn (setup.py) ... \u001b[?25l\u001b[?25hdone\n",
            "  Building wheel for pynndescent (setup.py) ... \u001b[?25l\u001b[?25hdone\n"
          ],
          "name": "stdout"
        }
      ]
    },
    {
      "cell_type": "code",
      "metadata": {
        "colab": {
          "base_uri": "https://localhost:8080/"
        },
        "id": "nPBdRtAQYpzL",
        "outputId": "cf3f0c93-559f-415b-f1c8-36e36e1a5ef8"
      },
      "source": [
        "import random\n",
        "import numpy as np\n",
        "import matplotlib.pyplot as plt\n",
        "import statsmodels.api as sm\n",
        "import os\n",
        "\n",
        "np.random.seed(2018)\n",
        "np.random.RandomState(2018)\n",
        "random.seed(2018)\n",
        "\n",
        "from tensorflow.keras.preprocessing.image import load_img, img_to_array\n",
        "  \n",
        "from skimage.filters import try_all_threshold, threshold_otsu\n",
        "\n",
        "import io\n",
        "import numpy as np\n",
        "import tensorflow as tf\n",
        "import tensorflow_addons as tfa\n",
        "import tensorflow_datasets as tfds\n",
        "import umap\n",
        "\n",
        "from tensorflow.keras.applications import resnet\n",
        "from tensorflow.keras import layers\n",
        "from tensorflow.keras import Model\n",
        "\n",
        "import random\n",
        "import tensorflow as tf\n",
        "from tqdm.notebook import tqdm\n",
        "\n",
        "from tensorflow.keras.datasets import mnist\n",
        " \n",
        "from tensorflow.keras.datasets import mnist, cifar10\n",
        "from tensorflow.keras.models import Model\n",
        "from tensorflow.keras.layers import Input, Flatten, Dense, Dropout, Lambda, Conv2D, MaxPooling2D\n",
        "from tensorflow.keras.optimizers import RMSprop\n",
        "from tensorflow.keras import backend as K\n",
        "from tensorflow.keras.utils import model_to_dot\n",
        "\n",
        "from IPython.display import SVG\n",
        "from matplotlib import pyplot as plt\n",
        "import math\n",
        "import plotly.express as px\n",
        "from sklearn.model_selection import train_test_split\n",
        "\n",
        "np.random.seed(37)"
      ],
      "execution_count": 1,
      "outputs": [
        {
          "output_type": "stream",
          "text": [
            "/usr/local/lib/python3.7/dist-packages/statsmodels/tools/_testing.py:19: FutureWarning: pandas.util.testing is deprecated. Use the functions in the public API at pandas.testing instead.\n",
            "  import pandas.util.testing as tm\n"
          ],
          "name": "stderr"
        }
      ]
    },
    {
      "cell_type": "code",
      "metadata": {
        "id": "pMjs26SsWswX"
      },
      "source": [
        ""
      ],
      "execution_count": 1,
      "outputs": []
    },
    {
      "cell_type": "code",
      "metadata": {
        "colab": {
          "base_uri": "https://localhost:8080/"
        },
        "id": "Zr6d-HOwWxtW",
        "outputId": "ef2b9510-e39d-4d7b-c3f7-dfa9f25457f4"
      },
      "source": [
        "data_base_path = \"drive/MyDrive/mlexperiments/data/cedar\"\n",
        "img_base_path = data_base_path\n",
        "forg_list = os.listdir(data_base_path + \"/full_forg\")\n",
        "orig_list = os.listdir(data_base_path + \"/full_org\")\n",
        "forg_list.sort()\n",
        "len(forg_list)\n",
        "forg_list.remove(\"Thumbs.db\")\n",
        "orig_list.remove(\"Thumbs.db\")\n",
        "forg_list[:2], orig_list[:2]"
      ],
      "execution_count": 3,
      "outputs": [
        {
          "output_type": "execute_result",
          "data": {
            "text/plain": [
              "(['forgeries_10_1.png', 'forgeries_10_10.png'],\n",
              " ['original_1_11.png', 'original_6_24.png'])"
            ]
          },
          "metadata": {
            "tags": []
          },
          "execution_count": 3
        }
      ]
    },
    {
      "cell_type": "markdown",
      "metadata": {
        "id": "J8Gj8eDQaCa0"
      },
      "source": [
        " ## Structuring as Classification Task\n",
        "\n",
        "- Each original signer is an individual class. 55 signers each with 24 examples.\n",
        "- Each forgery is an individual class. 55 forgeries, each with 24 examples.\n",
        "- 110 example classes total"
      ]
    },
    {
      "cell_type": "code",
      "metadata": {
        "colab": {
          "base_uri": "https://localhost:8080/",
          "height": 183,
          "referenced_widgets": [
            "c4ab5b6d6b364cb38426aab06bae6a8a",
            "53114b711ca0446e9e837411d6f22852",
            "24566cf0ab644fe28e16c78549bddcf8",
            "ed5fd62049af40e68d9e449c02c73e26",
            "b888d7623e7b4634bbbb2610d9cadb8b",
            "89a60f16c8574bb2906db1bd2aee1551",
            "61d1ef66befb434b84aeb3b0e489c565",
            "0ba5fd679fde4ac18c5e39451ce139ef",
            "10572732faea4e5a98ef86f72cc65bbb",
            "f1ffffa54a4d418ca62a36665702b893",
            "241b412fd72c430fbe110cfa6f4aec33",
            "03fd53777ad64b35882d1d3cea216636",
            "bfa4b2e501ab447d8b9c1c490bf69fc8",
            "c028bc5cddbf44f089806c9796da2ff9",
            "947dff86e666472fb741dbd1b5a8fcac",
            "2c7ea0f347c049879c529f28d10db7a8"
          ]
        },
        "id": "zt9lw8kWYnu3",
        "outputId": "b8ce0383-76c7-4131-9dac-79a08417c66d"
      },
      "source": [
        "img_target_size = (224, 224)\n",
        "\n",
        "def threshold_image(img):\n",
        "  thresh = threshold_otsu(img)\n",
        "  return img > thresh\n",
        "\n",
        "def get_data_np():\n",
        "  orig_holder = []\n",
        "  label_holder = []\n",
        "  data_holder = []\n",
        "\n",
        "  for i in tqdm(range(1,56)):\n",
        "    for j in range(1,25): \n",
        "      img_path = data_base_path + \"/full_org/original_\" + str(i) + \"_\" + str(j) + \".png\" \n",
        "      img_np = load_img(img_path, target_size=img_target_size )\n",
        "      img_np = np.squeeze(img_to_array(img_np)) \n",
        "      img_np = resnet.preprocess_input(img_np)\n",
        "      img_np = threshold_image(img_np) \n",
        "       \n",
        "      data_holder.append(img_np )\n",
        "      label_holder.append(i)\n",
        "  for i in tqdm(range(1,56)):\n",
        "    for j in range(1,25): \n",
        "      img_path = data_base_path + \"/full_forg/forgeries_\" + str(i) + \"_\" + str(j) + \".png\" \n",
        "      img_np = load_img(img_path, target_size=img_target_size )\n",
        "      img_np = np.squeeze(img_to_array(img_np)) \n",
        "      img_np = threshold_image(img_np)\n",
        "      img_np = resnet.preprocess_input(img_np)\n",
        "       \n",
        "      data_holder.append(img_np )\n",
        "      label_holder.append(i+55)\n",
        "\n",
        "  return np.array(data_holder), np.array(label_holder)\n",
        "\n",
        "X, y = get_data_np()"
      ],
      "execution_count": 4,
      "outputs": [
        {
          "output_type": "display_data",
          "data": {
            "application/vnd.jupyter.widget-view+json": {
              "model_id": "c4ab5b6d6b364cb38426aab06bae6a8a",
              "version_minor": 0,
              "version_major": 2
            },
            "text/plain": [
              "HBox(children=(FloatProgress(value=0.0, max=55.0), HTML(value='')))"
            ]
          },
          "metadata": {
            "tags": []
          }
        },
        {
          "output_type": "stream",
          "text": [
            "/usr/local/lib/python3.7/dist-packages/ipykernel_launcher.py:4: UserWarning:\n",
            "\n",
            "threshold_otsu is expected to work correctly only for grayscale images; image shape (224, 224, 3) looks like an RGB image\n",
            "\n"
          ],
          "name": "stderr"
        },
        {
          "output_type": "stream",
          "text": [
            "\n"
          ],
          "name": "stdout"
        },
        {
          "output_type": "display_data",
          "data": {
            "application/vnd.jupyter.widget-view+json": {
              "model_id": "10572732faea4e5a98ef86f72cc65bbb",
              "version_minor": 0,
              "version_major": 2
            },
            "text/plain": [
              "HBox(children=(FloatProgress(value=0.0, max=55.0), HTML(value='')))"
            ]
          },
          "metadata": {
            "tags": []
          }
        },
        {
          "output_type": "stream",
          "text": [
            "\n"
          ],
          "name": "stdout"
        }
      ]
    },
    {
      "cell_type": "code",
      "metadata": {
        "colab": {
          "base_uri": "https://localhost:8080/",
          "height": 219
        },
        "id": "k0vIyWyqvlCT",
        "outputId": "339a170d-6b7d-4e2b-dfda-6584680d103d"
      },
      "source": [
        "X_train, X_test, y_train, y_test = train_test_split( X, y, test_size=0.2, random_state=42)\n",
        "plt.imshow(np.concatenate((X[0],X[2]), axis=1));"
      ],
      "execution_count": 12,
      "outputs": [
        {
          "output_type": "display_data",
          "data": {
            "image/png": "[encoded data removed]",
            "text/plain": [
              "<Figure size 432x288 with 1 Axes>"
            ]
          },
          "metadata": {
            "tags": [],
            "needs_background": "light"
          }
        }
      ]
    },
    {
      "cell_type": "code",
      "metadata": {
        "id": "fQ1soU1erXbt"
      },
      "source": [
        "def get_resnet(input_shape):\n",
        "  base_cnn = resnet.ResNet50(\n",
        "    weights=\"imagenet\", input_shape=input_shape, include_top=False\n",
        "  )\n",
        "\n",
        "  flatten = layers.Flatten()(base_cnn.output)\n",
        "  dense1 = layers.Dense(512, activation=\"relu\")(flatten)\n",
        "  dense1 = layers.BatchNormalization()(dense1)\n",
        "  dense2 = layers.Dense(256, activation=\"relu\")(dense1)\n",
        "  dense2 = layers.BatchNormalization()(dense2)\n",
        "  output = layers.Dense(256)(dense1)\n",
        "  output = layers.Lambda(lambda x: tf.math.l2_normalize(x, axis=1))(output) # L2 normalize embeddings\n",
        "\n",
        "  embedding = Model(base_cnn.input, output, name=\"Embedding\")\n",
        "\n",
        "  # trainable = False\n",
        "  # for layer in base_cnn.layers:\n",
        "  #     if layer.name == \"conv5_block1_out\":\n",
        "  #         trainable = True\n",
        "  #     layer.trainable = trainable \n",
        "  return embedding   "
      ],
      "execution_count": 14,
      "outputs": []
    },
    {
      "cell_type": "code",
      "metadata": {
        "id": "4mjsbi9Ir9WG"
      },
      "source": [
        "# Compile the model\n",
        "triplet_model = get_resnet(input_shape)\n",
        "triplet_model.compile(\n",
        "    optimizer=tf.keras.optimizers.Adam(0.0001),  \n",
        "    loss=tfa.losses.TripletSemiHardLoss())"
      ],
      "execution_count": 15,
      "outputs": []
    },
    {
      "cell_type": "code",
      "metadata": {
        "id": "ZN7TwSVc1D7j"
      },
      "source": [
        "# warning .. without setting batch size to 64, training loss degrades to nan .. oops!"
      ],
      "execution_count": 16,
      "outputs": []
    },
    {
      "cell_type": "code",
      "metadata": {
        "colab": {
          "base_uri": "https://localhost:8080/"
        },
        "id": "HB6ifu02r-IC",
        "outputId": "c30175eb-46ab-43b4-cb35-833330ab40d6"
      },
      "source": [
        "# Train the network\n",
        "triplet_history = triplet_model.fit(\n",
        "    X_train, y_train, \n",
        "    batch_size=64,\n",
        "    validation_data=(X_test, y_test),\n",
        "    epochs=30)"
      ],
      "execution_count": 17,
      "outputs": [
        {
          "output_type": "stream",
          "text": [
            "Epoch 1/30\n",
            "33/33 [==============================] - 22s 385ms/step - loss: 0.9049 - val_loss: 0.9518\n",
            "Epoch 2/30\n",
            "33/33 [==============================] - 11s 343ms/step - loss: 0.7174 - val_loss: 0.9395\n",
            "Epoch 3/30\n",
            "33/33 [==============================] - 11s 343ms/step - loss: 0.5475 - val_loss: 0.9341\n",
            "Epoch 4/30\n",
            "33/33 [==============================] - 11s 343ms/step - loss: 0.4590 - val_loss: 0.9376\n",
            "Epoch 5/30\n",
            "33/33 [==============================] - 11s 343ms/step - loss: 0.3569 - val_loss: 0.9492\n",
            "Epoch 6/30\n",
            "33/33 [==============================] - 11s 343ms/step - loss: 0.2741 - val_loss: 0.9600\n",
            "Epoch 7/30\n",
            "33/33 [==============================] - 11s 343ms/step - loss: 0.2194 - val_loss: 0.9575\n",
            "Epoch 8/30\n",
            "33/33 [==============================] - 11s 343ms/step - loss: 0.1773 - val_loss: 0.9246\n",
            "Epoch 9/30\n",
            "33/33 [==============================] - 11s 343ms/step - loss: 0.1372 - val_loss: 0.8493\n",
            "Epoch 10/30\n",
            "33/33 [==============================] - 11s 343ms/step - loss: 0.0944 - val_loss: 0.8984\n",
            "Epoch 11/30\n",
            "33/33 [==============================] - 11s 343ms/step - loss: 0.0738 - val_loss: 0.8257\n",
            "Epoch 12/30\n",
            "33/33 [==============================] - 11s 343ms/step - loss: 0.0684 - val_loss: 0.7614\n",
            "Epoch 13/30\n",
            "33/33 [==============================] - 11s 342ms/step - loss: 0.0423 - val_loss: 0.6062\n",
            "Epoch 14/30\n",
            "33/33 [==============================] - 11s 343ms/step - loss: 0.0339 - val_loss: 0.5214\n",
            "Epoch 15/30\n",
            "33/33 [==============================] - 11s 343ms/step - loss: 0.0330 - val_loss: 0.6379\n",
            "Epoch 16/30\n",
            "33/33 [==============================] - 11s 343ms/step - loss: 0.0447 - val_loss: 0.5952\n",
            "Epoch 17/30\n",
            "33/33 [==============================] - 11s 343ms/step - loss: 0.0397 - val_loss: 0.5311\n",
            "Epoch 18/30\n",
            "33/33 [==============================] - 11s 343ms/step - loss: 0.0233 - val_loss: 0.4673\n",
            "Epoch 19/30\n",
            "33/33 [==============================] - 11s 342ms/step - loss: 0.0131 - val_loss: 0.3018\n",
            "Epoch 20/30\n",
            "33/33 [==============================] - 11s 342ms/step - loss: 0.0105 - val_loss: 0.4246\n",
            "Epoch 21/30\n",
            "33/33 [==============================] - 11s 343ms/step - loss: 0.0107 - val_loss: 0.1524\n",
            "Epoch 22/30\n",
            "33/33 [==============================] - 11s 342ms/step - loss: 0.0093 - val_loss: 0.4449\n",
            "Epoch 23/30\n",
            "33/33 [==============================] - 11s 343ms/step - loss: 0.0027 - val_loss: 0.3254\n",
            "Epoch 24/30\n",
            "33/33 [==============================] - 11s 343ms/step - loss: 0.0059 - val_loss: 0.2817\n",
            "Epoch 25/30\n",
            "33/33 [==============================] - 11s 343ms/step - loss: 0.0041 - val_loss: 0.3027\n",
            "Epoch 26/30\n",
            "33/33 [==============================] - 11s 343ms/step - loss: 0.0024 - val_loss: 0.1712\n",
            "Epoch 27/30\n",
            "33/33 [==============================] - 11s 342ms/step - loss: 0.0020 - val_loss: 0.4681\n",
            "Epoch 28/30\n",
            "33/33 [==============================] - 11s 343ms/step - loss: 0.0049 - val_loss: 0.3480\n",
            "Epoch 29/30\n",
            "33/33 [==============================] - 11s 343ms/step - loss: 0.0022 - val_loss: 0.4918\n",
            "Epoch 30/30\n",
            "33/33 [==============================] - 11s 342ms/step - loss: 0.0015 - val_loss: 0.5054\n"
          ],
          "name": "stdout"
        }
      ]
    },
    {
      "cell_type": "code",
      "metadata": {
        "colab": {
          "base_uri": "https://localhost:8080/",
          "height": 295
        },
        "id": "urgwvTOe6BoG",
        "outputId": "3e268b3c-8a6a-4d58-e30a-6659c9f738e1"
      },
      "source": [
        "plot_history(triplet_history)\n",
        "test_features = triplet_model(X_test)"
      ],
      "execution_count": 21,
      "outputs": [
        {
          "output_type": "display_data",
          "data": {
            "image/png": "[encoded data removed]",
            "text/plain": [
              "<Figure size 432x288 with 1 Axes>"
            ]
          },
          "metadata": {
            "tags": [],
            "needs_background": "light"
          }
        }
      ]
    },
    {
      "cell_type": "code",
      "metadata": {
        "id": "oV9zL8Ff15ri"
      },
      "source": [
        "def plot_features(test_features, y, title=\"UMAP Embedding Projection\", metric=\"euclidean\"): \n",
        "  print(\"Compute UMAP for vector with shape\", test_features.shape, \" metric:\", metric)\n",
        "  reducer = umap.UMAP(n_neighbors=15, n_components=2, metric=metric)\n",
        "  embedding = reducer.fit_transform(test_features)\n",
        "\n",
        "  colors = [ x for x in y] \n",
        "  acm = [x for x in colors]\n",
        "\n",
        "  fig = px.scatter(\n",
        "      x=embedding[:, 0],\n",
        "      y=embedding[:, 1],\n",
        "      color=acm,\n",
        "      opacity=0.5,\n",
        "      hover_name=acm,\n",
        "      symbol=acm,\n",
        "      width=1200,\n",
        "      height=900,\n",
        "      title=title,\n",
        "  )\n",
        "  fig.show()  \n",
        "\n",
        "def plot_history(history, title=\"\"): \n",
        "   \n",
        "  # Plot training & validation loss values\n",
        "  plt.plot(history.history['loss'])\n",
        "  plt.plot(history.history['val_loss'])\n",
        "  plt.title('Model Losss | ' + title)\n",
        "  plt.ylabel('Loss')\n",
        "  plt.xlabel('Epoch')\n",
        "  plt.legend(['Train', 'Test'], loc='upper left')\n",
        "\n",
        "  \n",
        "  plt.show()"
      ],
      "execution_count": 20,
      "outputs": []
    },
    {
      "cell_type": "code",
      "metadata": {
        "colab": {
          "base_uri": "https://localhost:8080/",
          "height": 934
        },
        "id": "qmmqGHPa2HKZ",
        "outputId": "a210596a-407e-4723-b8aa-095a7a5cf0aa"
      },
      "source": [
        "\n",
        "plot_features(test_features, y_test, title=\"UMAP Embedding Projection  Triplet\" , metric=\"cosine\" )"
      ],
      "execution_count": 22,
      "outputs": [
        {
          "output_type": "stream",
          "text": [
            "Compute UMAP for vector with shape (528, 256)  metric: cosine\n"
          ],
          "name": "stdout"
        },
        {
          "output_type": "display_data",
          "data": {
            "text/html": [
              "<html>\n",
              "<head><meta charset=\"utf-8\" /></head>\n",
              "<body>\n",
              "    <div>\n",
              "            <script src=\"https://cdnjs.cloudflare.com/ajax/libs/mathjax/2.7.5/MathJax.js?config=TeX-AMS-MML_SVG\"></script><script type=\"text/javascript\">if (window.MathJax) {MathJax.Hub.Config({SVG: {font: \"STIX-Web\"}});}</script>\n",
              "                <script type=\"text/javascript\">window.PlotlyConfig = {MathJaxConfig: 'local'};</script>\n",
              "        <script src=\"https://cdn.plot.ly/plotly-latest.min.js\"></script>    \n",
              "            <div id=\"f8613d1e-150b-4a84-91a3-ea655b15cec3\" class=\"plotly-graph-div\" style=\"height:900px; width:1200px;\"></div>\n",
              "            <script type=\"text/javascript\">\n",
              "                \n",
              "                    window.PLOTLYENV=window.PLOTLYENV || {};\n",
              "                    \n",
              "                if (document.getElementById(\"f8613d1e-150b-4a84-91a3-ea655b15cec3\")) {\n",
              "                    Plotly.newPlot(\n",
              "                        'f8613d1e-150b-4a84-91a3-ea655b15cec3',\n",
              "                        [{\"hoverlabel\": {\"namelength\": 0}, \"hovertemplate\": \"<b>%{hovertext}</b><br><br>symbol=84<br>x=%{x}<br>y=%{y}<br>color=%{marker.color}\", \"hovertext\": [84.0, 84.0, 84.0, 84.0, 84.0, 84.0], \"legendgroup\": \"symbol=84\", \"marker\": {\"color\": [84, 84, 84, 84, 84, 84], \"coloraxis\": \"coloraxis\", \"opacity\": 0.5, \"symbol\": \"circle\"}, \"mode\": \"markers\", \"name\": \"symbol=84\", \"showlegend\": true, \"type\": \"scatter\", \"x\": [10.03217601776123, 11.749680519104004, 11.569705963134766, 11.750055313110352, 11.754290580749512, 11.648988723754883], \"xaxis\": \"x\", \"y\": [3.665462017059326, 2.283745527267456, 2.5767858028411865, 2.376075029373169, 2.2934467792510986, 2.4324939250946045], \"yaxis\": \"y\"}, {\"hoverlabel\": {\"namelength\": 0}, \"hovertemplate\": \"<b>%{hovertext}</b><br><br>symbol=2<br>x=%{x}<br>y=%{y}<br>color=%{marker.color}\", \"hovertext\": [2.0, 2.0, 2.0, 2.0, 2.0], \"legendgroup\": \"symbol=2\", \"marker\": {\"color\": [2, 2, 2, 2, 2], \"coloraxis\": \"coloraxis\", \"opacity\": 0.5, \"symbol\": \"diamond\"}, \"mode\": \"markers\", \"name\": \"symbol=2\", \"showlegend\": true, \"type\": \"scatter\", \"x\": [1.8436790704727173, 1.859395980834961, 1.8540066480636597, 1.8545258045196533, 1.84401535987854], \"xaxis\": \"x\", \"y\": [3.201964855194092, 3.2084202766418457, 3.207571029663086, 3.206362724304199, 3.199286699295044], \"yaxis\": \"y\"}, {\"hoverlabel\": {\"namelength\": 0}, \"hovertemplate\": \"<b>%{hovertext}</b><br><br>symbol=41<br>x=%{x}<br>y=%{y}<br>color=%{marker.color}\", \"hovertext\": [41.0, 41.0, 41.0, 41.0], \"legendgroup\": \"symbol=41\", \"marker\": {\"color\": [41, 41, 41, 41], \"coloraxis\": \"coloraxis\", \"opacity\": 0.5, \"symbol\": \"square\"}, \"mode\": \"markers\", \"name\": \"symbol=41\", \"showlegend\": true, \"type\": \"scatter\", \"x\": [9.633942604064941, 9.637380599975586, 9.640560150146484, 9.661056518554688], \"xaxis\": \"x\", \"y\": [1.9830141067504883, 1.9877221584320068, 1.9901683330535889, 1.9999761581420898], \"yaxis\": \"y\"}, {\"hoverlabel\": {\"namelength\": 0}, \"hovertemplate\": \"<b>%{hovertext}</b><br><br>symbol=61<br>x=%{x}<br>y=%{y}<br>color=%{marker.color}\", \"hovertext\": [61.0, 61.0, 61.0, 61.0, 61.0, 61.0], \"legendgroup\": \"symbol=61\", \"marker\": {\"color\": [61, 61, 61, 61, 61, 61], \"coloraxis\": \"coloraxis\", \"opacity\": 0.5, \"symbol\": \"x\"}, \"mode\": \"markers\", \"name\": \"symbol=61\", \"showlegend\": true, \"type\": \"scatter\", \"x\": [10.500964164733887, 11.301797866821289, 11.444748878479004, 10.41734504699707, 11.701348304748535, 11.480499267578125], \"xaxis\": \"x\", \"y\": [2.0848307609558105, 3.5671534538269043, 3.7137656211853027, 2.1030783653259277, 3.6345043182373047, 3.60168194770813], \"yaxis\": \"y\"}, {\"hoverlabel\": {\"namelength\": 0}, \"hovertemplate\": \"<b>%{hovertext}</b><br><br>symbol=20<br>x=%{x}<br>y=%{y}<br>color=%{marker.color}\", \"hovertext\": [20.0, 20.0, 20.0, 20.0, 20.0, 20.0, 20.0, 20.0], \"legendgroup\": \"symbol=20\", \"marker\": {\"color\": [20, 20, 20, 20, 20, 20, 20, 20], \"coloraxis\": \"coloraxis\", \"opacity\": 0.5, \"symbol\": \"cross\"}, \"mode\": \"markers\", \"name\": \"symbol=20\", \"showlegend\": true, \"type\": \"scatter\", \"x\": [5.041330337524414, 5.003247261047363, 4.985117435455322, 5.030494689941406, 4.982114791870117, 4.966915607452393, 4.998556613922119, 4.987232208251953], \"xaxis\": \"x\", \"y\": [15.777637481689453, 15.739191055297852, 15.721450805664062, 15.767029762268066, 15.715402603149414, 15.703899383544922, 15.73489761352539, 15.723615646362305], \"yaxis\": \"y\"}, {\"hoverlabel\": {\"namelength\": 0}, \"hovertemplate\": \"<b>%{hovertext}</b><br><br>symbol=54<br>x=%{x}<br>y=%{y}<br>color=%{marker.color}\", \"hovertext\": [54.0, 54.0, 54.0, 54.0], \"legendgroup\": \"symbol=54\", \"marker\": {\"color\": [54, 54, 54, 54], \"coloraxis\": \"coloraxis\", \"opacity\": 0.5, \"symbol\": \"circle\"}, \"mode\": \"markers\", \"name\": \"symbol=54\", \"showlegend\": true, \"type\": \"scatter\", \"x\": [-0.4656391441822052, -0.4405316412448883, -0.4349924623966217, -0.4549764096736908], \"xaxis\": \"x\", \"y\": [3.1568288803100586, 3.117368459701538, 3.113292932510376, 3.132596731185913], \"yaxis\": \"y\"}, {\"hoverlabel\": {\"namelength\": 0}, \"hovertemplate\": \"<b>%{hovertext}</b><br><br>symbol=9<br>x=%{x}<br>y=%{y}<br>color=%{marker.color}\", \"hovertext\": [9.0, 9.0, 9.0, 9.0, 9.0, 9.0, 9.0], \"legendgroup\": \"symbol=9\", \"marker\": {\"color\": [9, 9, 9, 9, 9, 9, 9], \"coloraxis\": \"coloraxis\", \"opacity\": 0.5, \"symbol\": \"diamond\"}, \"mode\": \"markers\", \"name\": \"symbol=9\", \"showlegend\": true, \"type\": \"scatter\", \"x\": [-4.117674350738525, -4.08681583404541, -4.0686163902282715, -4.150435924530029, -4.1215410232543945, -4.1142096519470215, -4.11787748336792], \"xaxis\": \"x\", \"y\": [9.473116874694824, 9.454431533813477, 9.436725616455078, 9.50574779510498, 9.488085746765137, 9.482845306396484, 9.47723388671875], \"yaxis\": \"y\"}, {\"hoverlabel\": {\"namelength\": 0}, \"hovertemplate\": \"<b>%{hovertext}</b><br><br>symbol=55<br>x=%{x}<br>y=%{y}<br>color=%{marker.color}\", \"hovertext\": [55.0, 55.0, 55.0], \"legendgroup\": \"symbol=55\", \"marker\": {\"color\": [55, 55, 55], \"coloraxis\": \"coloraxis\", \"opacity\": 0.5, \"symbol\": \"square\"}, \"mode\": \"markers\", \"name\": \"symbol=55\", \"showlegend\": true, \"type\": \"scatter\", \"x\": [-2.8025500774383545, -2.7840077877044678, -2.747358560562134], \"xaxis\": \"x\", \"y\": [6.560744285583496, 6.593756675720215, 6.571728706359863], \"yaxis\": \"y\"}, {\"hoverlabel\": {\"namelength\": 0}, \"hovertemplate\": \"<b>%{hovertext}</b><br><br>symbol=73<br>x=%{x}<br>y=%{y}<br>color=%{marker.color}\", \"hovertext\": [73.0, 73.0, 73.0, 73.0, 73.0, 73.0, 73.0, 73.0, 73.0], \"legendgroup\": \"symbol=73\", \"marker\": {\"color\": [73, 73, 73, 73, 73, 73, 73, 73, 73], \"coloraxis\": \"coloraxis\", \"opacity\": 0.5, \"symbol\": \"x\"}, \"mode\": \"markers\", \"name\": \"symbol=73\", \"showlegend\": true, \"type\": \"scatter\", \"x\": [13.766899108886719, 13.701910018920898, 13.75496768951416, 13.650561332702637, 13.750410079956055, 13.68716812133789, 13.686177253723145, 13.627830505371094, 13.685062408447266], \"xaxis\": \"x\", \"y\": [2.9677679538726807, 3.1095564365386963, 2.980503559112549, 3.0330491065979004, 3.0554535388946533, 3.060044050216675, 3.1029560565948486, 2.9050753116607666, 3.009016275405884], \"yaxis\": \"y\"}, {\"hoverlabel\": {\"namelength\": 0}, \"hovertemplate\": \"<b>%{hovertext}</b><br><br>symbol=63<br>x=%{x}<br>y=%{y}<br>color=%{marker.color}\", \"hovertext\": [63.0, 63.0, 63.0, 63.0, 63.0, 63.0, 63.0, 63.0], \"legendgroup\": \"symbol=63\", \"marker\": {\"color\": [63, 63, 63, 63, 63, 63, 63, 63], \"coloraxis\": \"coloraxis\", \"opacity\": 0.5, \"symbol\": \"cross\"}, \"mode\": \"markers\", \"name\": \"symbol=63\", \"showlegend\": true, \"type\": \"scatter\", \"x\": [11.35667896270752, 11.455788612365723, 11.29134750366211, 11.42794132232666, 12.339914321899414, 11.474623680114746, 11.33802318572998, 11.848089218139648], \"xaxis\": \"x\", \"y\": [4.747011661529541, 5.107540130615234, 5.092340469360352, 5.085230350494385, 4.588742733001709, 4.9488606452941895, 5.125202655792236, 4.84480094909668], \"yaxis\": \"y\"}, {\"hoverlabel\": {\"namelength\": 0}, \"hovertemplate\": \"<b>%{hovertext}</b><br><br>symbol=59<br>x=%{x}<br>y=%{y}<br>color=%{marker.color}\", \"hovertext\": [59.0, 59.0, 59.0, 59.0, 59.0, 59.0, 59.0], \"legendgroup\": \"symbol=59\", \"marker\": {\"color\": [59, 59, 59, 59, 59, 59, 59], \"coloraxis\": \"coloraxis\", \"opacity\": 0.5, \"symbol\": \"circle\"}, \"mode\": \"markers\", \"name\": \"symbol=59\", \"showlegend\": true, \"type\": \"scatter\", \"x\": [11.809919357299805, 12.294957160949707, 11.506634712219238, 12.633033752441406, 10.267288208007812, 12.124841690063477, 10.401906967163086], \"xaxis\": \"x\", \"y\": [3.904350519180298, 4.1702165603637695, 4.024999141693115, 3.9116921424865723, 4.297370910644531, 4.067323207855225, 4.522473335266113], \"yaxis\": \"y\"}, {\"hoverlabel\": {\"namelength\": 0}, \"hovertemplate\": \"<b>%{hovertext}</b><br><br>symbol=104<br>x=%{x}<br>y=%{y}<br>color=%{marker.color}\", \"hovertext\": [104.0, 104.0, 104.0, 104.0, 104.0], \"legendgroup\": \"symbol=104\", \"marker\": {\"color\": [104, 104, 104, 104, 104], \"coloraxis\": \"coloraxis\", \"opacity\": 0.5, \"symbol\": \"diamond\"}, \"mode\": \"markers\", \"name\": \"symbol=104\", \"showlegend\": true, \"type\": \"scatter\", \"x\": [11.817620277404785, 11.970142364501953, 11.87505054473877, 11.6505765914917, 11.647540092468262], \"xaxis\": \"x\", \"y\": [4.082583427429199, 3.977954864501953, 4.075431823730469, 3.85207200050354, 3.428257703781128], \"yaxis\": \"y\"}, {\"hoverlabel\": {\"namelength\": 0}, \"hovertemplate\": \"<b>%{hovertext}</b><br><br>symbol=53<br>x=%{x}<br>y=%{y}<br>color=%{marker.color}\", \"hovertext\": [53.0, 53.0, 53.0, 53.0, 53.0, 53.0, 53.0], \"legendgroup\": \"symbol=53\", \"marker\": {\"color\": [53, 53, 53, 53, 53, 53, 53], \"coloraxis\": \"coloraxis\", \"opacity\": 0.5, \"symbol\": \"square\"}, \"mode\": \"markers\", \"name\": \"symbol=53\", \"showlegend\": true, \"type\": \"scatter\", \"x\": [-0.20826490223407745, -0.3036583960056305, -0.20669256150722504, -0.21144181489944458, -0.2730654180049896, -0.29775649309158325, -0.2805509865283966], \"xaxis\": \"x\", \"y\": [2.440960168838501, 2.4693410396575928, 2.5116565227508545, 2.523409128189087, 2.4597253799438477, 2.4514667987823486, 2.4302868843078613], \"yaxis\": \"y\"}, {\"hoverlabel\": {\"namelength\": 0}, \"hovertemplate\": \"<b>%{hovertext}</b><br><br>symbol=102<br>x=%{x}<br>y=%{y}<br>color=%{marker.color}\", \"hovertext\": [102.0, 102.0, 102.0, 102.0, 102.0, 102.0], \"legendgroup\": \"symbol=102\", \"marker\": {\"color\": [102, 102, 102, 102, 102, 102], \"coloraxis\": \"coloraxis\", \"opacity\": 0.5, \"symbol\": \"x\"}, \"mode\": \"markers\", \"name\": \"symbol=102\", \"showlegend\": true, \"type\": \"scatter\", \"x\": [12.921584129333496, 13.150976181030273, 13.574474334716797, 13.302809715270996, 12.898065567016602, 12.891961097717285], \"xaxis\": \"x\", \"y\": [2.407454252243042, 2.523674249649048, 3.1870336532592773, 3.479884147644043, 2.3800649642944336, 2.429023265838623], \"yaxis\": \"y\"}, {\"hoverlabel\": {\"namelength\": 0}, \"hovertemplate\": \"<b>%{hovertext}</b><br><br>symbol=89<br>x=%{x}<br>y=%{y}<br>color=%{marker.color}\", \"hovertext\": [89.0, 89.0, 89.0, 89.0, 89.0, 89.0, 89.0, 89.0, 89.0, 89.0, 89.0], \"legendgroup\": \"symbol=89\", \"marker\": {\"color\": [89, 89, 89, 89, 89, 89, 89, 89, 89, 89, 89], \"coloraxis\": \"coloraxis\", \"opacity\": 0.5, \"symbol\": \"cross\"}, \"mode\": \"markers\", \"name\": \"symbol=89\", \"showlegend\": true, \"type\": \"scatter\", \"x\": [12.888245582580566, 12.032872200012207, 13.254424095153809, 12.753995895385742, 11.455909729003906, 12.46349811553955, 12.491527557373047, 11.280410766601562, 13.085758209228516, 13.291372299194336, 11.34516716003418], \"xaxis\": \"x\", \"y\": [4.393292427062988, 3.7144978046417236, 4.002425193786621, 4.443865776062012, 4.907207489013672, 4.4988298416137695, 4.4856791496276855, 4.857224941253662, 4.17441463470459, 4.086165904998779, 4.993635654449463], \"yaxis\": \"y\"}, {\"hoverlabel\": {\"namelength\": 0}, \"hovertemplate\": \"<b>%{hovertext}</b><br><br>symbol=56<br>x=%{x}<br>y=%{y}<br>color=%{marker.color}\", \"hovertext\": [56.0, 56.0, 56.0, 56.0], \"legendgroup\": \"symbol=56\", \"marker\": {\"color\": [56, 56, 56, 56], \"coloraxis\": \"coloraxis\", \"opacity\": 0.5, \"symbol\": \"circle\"}, \"mode\": \"markers\", \"name\": \"symbol=56\", \"showlegend\": true, \"type\": \"scatter\", \"x\": [10.192893028259277, 10.177160263061523, 10.235133171081543, 10.229610443115234], \"xaxis\": \"x\", \"y\": [2.5094664096832275, 2.3784327507019043, 2.5207133293151855, 2.5329747200012207], \"yaxis\": \"y\"}, {\"hoverlabel\": {\"namelength\": 0}, \"hovertemplate\": \"<b>%{hovertext}</b><br><br>symbol=21<br>x=%{x}<br>y=%{y}<br>color=%{marker.color}\", \"hovertext\": [21.0, 21.0, 21.0, 21.0, 21.0], \"legendgroup\": \"symbol=21\", \"marker\": {\"color\": [21, 21, 21, 21, 21], \"coloraxis\": \"coloraxis\", \"opacity\": 0.5, \"symbol\": \"diamond\"}, \"mode\": \"markers\", \"name\": \"symbol=21\", \"showlegend\": true, \"type\": \"scatter\", \"x\": [-2.3313510417938232, -2.3470890522003174, -2.3384180068969727, -2.3055691719055176, -2.3360238075256348], \"xaxis\": \"x\", \"y\": [5.848336696624756, 5.843778610229492, 5.820356369018555, 5.86801815032959, 5.845314025878906], \"yaxis\": \"y\"}, {\"hoverlabel\": {\"namelength\": 0}, \"hovertemplate\": \"<b>%{hovertext}</b><br><br>symbol=45<br>x=%{x}<br>y=%{y}<br>color=%{marker.color}\", \"hovertext\": [45.0, 45.0, 45.0, 45.0, 45.0, 45.0, 45.0], \"legendgroup\": \"symbol=45\", \"marker\": {\"color\": [45, 45, 45, 45, 45, 45, 45], \"coloraxis\": \"coloraxis\", \"opacity\": 0.5, \"symbol\": \"square\"}, \"mode\": \"markers\", \"name\": \"symbol=45\", \"showlegend\": true, \"type\": \"scatter\", \"x\": [-2.51578688621521, -2.504755735397339, -2.493607759475708, -2.469184160232544, -2.537144184112549, -2.542696714401245, -2.5453381538391113], \"xaxis\": \"x\", \"y\": [9.832385063171387, 9.869773864746094, 9.780707359313965, 9.906335830688477, 9.822395324707031, 9.801877975463867, 9.806055068969727], \"yaxis\": \"y\"}, {\"hoverlabel\": {\"namelength\": 0}, \"hovertemplate\": \"<b>%{hovertext}</b><br><br>symbol=18<br>x=%{x}<br>y=%{y}<br>color=%{marker.color}\", \"hovertext\": [18.0, 18.0, 18.0, 18.0, 18.0, 18.0, 18.0], \"legendgroup\": \"symbol=18\", \"marker\": {\"color\": [18, 18, 18, 18, 18, 18, 18], \"coloraxis\": \"coloraxis\", \"opacity\": 0.5, \"symbol\": \"x\"}, \"mode\": \"markers\", \"name\": \"symbol=18\", \"showlegend\": true, \"type\": \"scatter\", \"x\": [-0.6120697259902954, -0.5770386457443237, -0.5397214889526367, -0.5626388788223267, -0.6094253659248352, -0.6032233238220215, -0.5856648683547974], \"xaxis\": \"x\", \"y\": [6.020295143127441, 5.973902225494385, 5.947625637054443, 6.008176803588867, 6.004765033721924, 6.01491117477417, 5.987103462219238], \"yaxis\": \"y\"}, {\"hoverlabel\": {\"namelength\": 0}, \"hovertemplate\": \"<b>%{hovertext}</b><br><br>symbol=51<br>x=%{x}<br>y=%{y}<br>color=%{marker.color}\", \"hovertext\": [51.0, 51.0, 51.0, 51.0, 51.0, 51.0], \"legendgroup\": \"symbol=51\", \"marker\": {\"color\": [51, 51, 51, 51, 51, 51], \"coloraxis\": \"coloraxis\", \"opacity\": 0.5, \"symbol\": \"cross\"}, \"mode\": \"markers\", \"name\": \"symbol=51\", \"showlegend\": true, \"type\": \"scatter\", \"x\": [-4.063844680786133, -4.130703449249268, -4.064509391784668, -4.146750450134277, -4.187580108642578, -4.102471351623535], \"xaxis\": \"x\", \"y\": [5.583293914794922, 5.636185646057129, 5.568119049072266, 5.669633388519287, 5.681880474090576, 5.628016471862793], \"yaxis\": \"y\"}, {\"hoverlabel\": {\"namelength\": 0}, \"hovertemplate\": \"<b>%{hovertext}</b><br><br>symbol=107<br>x=%{x}<br>y=%{y}<br>color=%{marker.color}\", \"hovertext\": [107.0, 107.0, 107.0, 107.0, 107.0], \"legendgroup\": \"symbol=107\", \"marker\": {\"color\": [107, 107, 107, 107, 107], \"coloraxis\": \"coloraxis\", \"opacity\": 0.5, \"symbol\": \"circle\"}, \"mode\": \"markers\", \"name\": \"symbol=107\", \"showlegend\": true, \"type\": \"scatter\", \"x\": [10.292654037475586, 10.51796817779541, 10.376835823059082, 11.532861709594727, 10.381919860839844], \"xaxis\": \"x\", \"y\": [2.440279006958008, 2.2446322441101074, 2.379560708999634, 2.5247766971588135, 2.3682069778442383], \"yaxis\": \"y\"}, {\"hoverlabel\": {\"namelength\": 0}, \"hovertemplate\": \"<b>%{hovertext}</b><br><br>symbol=103<br>x=%{x}<br>y=%{y}<br>color=%{marker.color}\", \"hovertext\": [103.0, 103.0, 103.0, 103.0, 103.0, 103.0], \"legendgroup\": \"symbol=103\", \"marker\": {\"color\": [103, 103, 103, 103, 103, 103], \"coloraxis\": \"coloraxis\", \"opacity\": 0.5, \"symbol\": \"diamond\"}, \"mode\": \"markers\", \"name\": \"symbol=103\", \"showlegend\": true, \"type\": \"scatter\", \"x\": [11.989339828491211, 12.076176643371582, 12.024741172790527, 12.033781051635742, 11.956167221069336, 12.02897834777832], \"xaxis\": \"x\", \"y\": [1.7462412118911743, 1.9322642087936401, 1.7828565835952759, 1.8062573671340942, 1.8291226625442505, 1.8386180400848389], \"yaxis\": \"y\"}, {\"hoverlabel\": {\"namelength\": 0}, \"hovertemplate\": \"<b>%{hovertext}</b><br><br>symbol=74<br>x=%{x}<br>y=%{y}<br>color=%{marker.color}\", \"hovertext\": [74.0, 74.0, 74.0], \"legendgroup\": \"symbol=74\", \"marker\": {\"color\": [74, 74, 74], \"coloraxis\": \"coloraxis\", \"opacity\": 0.5, \"symbol\": \"square\"}, \"mode\": \"markers\", \"name\": \"symbol=74\", \"showlegend\": true, \"type\": \"scatter\", \"x\": [11.979190826416016, 12.281521797180176, 11.259267807006836], \"xaxis\": \"x\", \"y\": [4.4540252685546875, 4.433035373687744, 3.768803119659424], \"yaxis\": \"y\"}, {\"hoverlabel\": {\"namelength\": 0}, \"hovertemplate\": \"<b>%{hovertext}</b><br><br>symbol=25<br>x=%{x}<br>y=%{y}<br>color=%{marker.color}\", \"hovertext\": [25.0, 25.0, 25.0, 25.0], \"legendgroup\": \"symbol=25\", \"marker\": {\"color\": [25, 25, 25, 25], \"coloraxis\": \"coloraxis\", \"opacity\": 0.5, \"symbol\": \"x\"}, \"mode\": \"markers\", \"name\": \"symbol=25\", \"showlegend\": true, \"type\": \"scatter\", \"x\": [-2.9386892318725586, -2.867316961288452, -2.8797736167907715, -2.8768770694732666], \"xaxis\": \"x\", \"y\": [5.3126606941223145, 5.371222972869873, 5.38079309463501, 5.378512859344482], \"yaxis\": \"y\"}, {\"hoverlabel\": {\"namelength\": 0}, \"hovertemplate\": \"<b>%{hovertext}</b><br><br>symbol=91<br>x=%{x}<br>y=%{y}<br>color=%{marker.color}\", \"hovertext\": [91.0, 91.0, 91.0, 91.0], \"legendgroup\": \"symbol=91\", \"marker\": {\"color\": [91, 91, 91, 91], \"coloraxis\": \"coloraxis\", \"opacity\": 0.5, \"symbol\": \"cross\"}, \"mode\": \"markers\", \"name\": \"symbol=91\", \"showlegend\": true, \"type\": \"scatter\", \"x\": [10.896537780761719, 12.522662162780762, 11.508225440979004, 11.489643096923828], \"xaxis\": \"x\", \"y\": [2.13517165184021, 3.8435146808624268, 4.1385979652404785, 3.8858561515808105], \"yaxis\": \"y\"}, {\"hoverlabel\": {\"namelength\": 0}, \"hovertemplate\": \"<b>%{hovertext}</b><br><br>symbol=58<br>x=%{x}<br>y=%{y}<br>color=%{marker.color}\", \"hovertext\": [58.0, 58.0], \"legendgroup\": \"symbol=58\", \"marker\": {\"color\": [58, 58], \"coloraxis\": \"coloraxis\", \"opacity\": 0.5, \"symbol\": \"circle\"}, \"mode\": \"markers\", \"name\": \"symbol=58\", \"showlegend\": true, \"type\": \"scatter\", \"x\": [11.162897109985352, 11.493490219116211], \"xaxis\": \"x\", \"y\": [3.142909526824951, 3.000300407409668], \"yaxis\": \"y\"}, {\"hoverlabel\": {\"namelength\": 0}, \"hovertemplate\": \"<b>%{hovertext}</b><br><br>symbol=85<br>x=%{x}<br>y=%{y}<br>color=%{marker.color}\", \"hovertext\": [85.0, 85.0, 85.0, 85.0, 85.0, 85.0], \"legendgroup\": \"symbol=85\", \"marker\": {\"color\": [85, 85, 85, 85, 85, 85], \"coloraxis\": \"coloraxis\", \"opacity\": 0.5, \"symbol\": \"diamond\"}, \"mode\": \"markers\", \"name\": \"symbol=85\", \"showlegend\": true, \"type\": \"scatter\", \"x\": [12.149688720703125, 12.555303573608398, 9.21390438079834, 9.192530632019043, 9.117095947265625, 9.147005081176758], \"xaxis\": \"x\", \"y\": [3.2424962520599365, 3.417998790740967, 4.394078254699707, 4.40678071975708, 4.391566753387451, 4.446177005767822], \"yaxis\": \"y\"}, {\"hoverlabel\": {\"namelength\": 0}, \"hovertemplate\": \"<b>%{hovertext}</b><br><br>symbol=3<br>x=%{x}<br>y=%{y}<br>color=%{marker.color}\", \"hovertext\": [3.0, 3.0, 3.0, 3.0, 3.0, 3.0], \"legendgroup\": \"symbol=3\", \"marker\": {\"color\": [3, 3, 3, 3, 3, 3], \"coloraxis\": \"coloraxis\", \"opacity\": 0.5, \"symbol\": \"square\"}, \"mode\": \"markers\", \"name\": \"symbol=3\", \"showlegend\": true, \"type\": \"scatter\", \"x\": [-4.0965752601623535, -4.107557773590088, -4.164173126220703, -4.10704231262207, -4.0958991050720215, -4.064466953277588], \"xaxis\": \"x\", \"y\": [6.778029441833496, 6.777855396270752, 6.840553283691406, 6.776185989379883, 6.769076824188232, 6.808157444000244], \"yaxis\": \"y\"}, {\"hoverlabel\": {\"namelength\": 0}, \"hovertemplate\": \"<b>%{hovertext}</b><br><br>symbol=82<br>x=%{x}<br>y=%{y}<br>color=%{marker.color}\", \"hovertext\": [82.0, 82.0, 82.0, 82.0, 82.0], \"legendgroup\": \"symbol=82\", \"marker\": {\"color\": [82, 82, 82, 82, 82], \"coloraxis\": \"coloraxis\", \"opacity\": 0.5, \"symbol\": \"x\"}, \"mode\": \"markers\", \"name\": \"symbol=82\", \"showlegend\": true, \"type\": \"scatter\", \"x\": [11.643350601196289, 11.348240852355957, 11.677591323852539, 11.509430885314941, 11.560364723205566], \"xaxis\": \"x\", \"y\": [5.545506954193115, 5.295044898986816, 5.649265289306641, 5.576449871063232, 5.5681071281433105], \"yaxis\": \"y\"}, {\"hoverlabel\": {\"namelength\": 0}, \"hovertemplate\": \"<b>%{hovertext}</b><br><br>symbol=47<br>x=%{x}<br>y=%{y}<br>color=%{marker.color}\", \"hovertext\": [47.0, 47.0, 47.0, 47.0], \"legendgroup\": \"symbol=47\", \"marker\": {\"color\": [47, 47, 47, 47], \"coloraxis\": \"coloraxis\", \"opacity\": 0.5, \"symbol\": \"cross\"}, \"mode\": \"markers\", \"name\": \"symbol=47\", \"showlegend\": true, \"type\": \"scatter\", \"x\": [-1.381022334098816, -1.3725649118423462, -1.39556884765625, -1.410010576248169], \"xaxis\": \"x\", \"y\": [3.6603569984436035, 3.7057652473449707, 3.693507432937622, 3.688937187194824], \"yaxis\": \"y\"}, {\"hoverlabel\": {\"namelength\": 0}, \"hovertemplate\": \"<b>%{hovertext}</b><br><br>symbol=30<br>x=%{x}<br>y=%{y}<br>color=%{marker.color}\", \"hovertext\": [30.0, 30.0, 30.0, 30.0], \"legendgroup\": \"symbol=30\", \"marker\": {\"color\": [30, 30, 30, 30], \"coloraxis\": \"coloraxis\", \"opacity\": 0.5, \"symbol\": \"circle\"}, \"mode\": \"markers\", \"name\": \"symbol=30\", \"showlegend\": true, \"type\": \"scatter\", \"x\": [-2.5470592975616455, -2.523226261138916, -2.5688209533691406, -2.5903289318084717], \"xaxis\": \"x\", \"y\": [6.330906867980957, 6.3443284034729, 6.405746936798096, 6.4319071769714355], \"yaxis\": \"y\"}, {\"hoverlabel\": {\"namelength\": 0}, \"hovertemplate\": \"<b>%{hovertext}</b><br><br>symbol=76<br>x=%{x}<br>y=%{y}<br>color=%{marker.color}\", \"hovertext\": [76.0, 76.0, 76.0, 76.0, 76.0, 76.0, 76.0], \"legendgroup\": \"symbol=76\", \"marker\": {\"color\": [76, 76, 76, 76, 76, 76, 76], \"coloraxis\": \"coloraxis\", \"opacity\": 0.5, \"symbol\": \"diamond\"}, \"mode\": \"markers\", \"name\": \"symbol=76\", \"showlegend\": true, \"type\": \"scatter\", \"x\": [9.739410400390625, 10.024800300598145, 9.840004920959473, 10.11728572845459, 10.02869701385498, 10.01542854309082, 10.194572448730469], \"xaxis\": \"x\", \"y\": [4.333332061767578, 4.212208271026611, 4.288830757141113, 3.812664270401001, 4.188409328460693, 4.039787292480469, 3.9138879776000977], \"yaxis\": \"y\"}, {\"hoverlabel\": {\"namelength\": 0}, \"hovertemplate\": \"<b>%{hovertext}</b><br><br>symbol=44<br>x=%{x}<br>y=%{y}<br>color=%{marker.color}\", \"hovertext\": [44.0, 44.0, 44.0, 44.0, 44.0, 44.0], \"legendgroup\": \"symbol=44\", \"marker\": {\"color\": [44, 44, 44, 44, 44, 44], \"coloraxis\": \"coloraxis\", \"opacity\": 0.5, \"symbol\": \"square\"}, \"mode\": \"markers\", \"name\": \"symbol=44\", \"showlegend\": true, \"type\": \"scatter\", \"x\": [-0.9985325932502747, -1.0035881996154785, -1.0233765840530396, -1.0070680379867554, -0.9803072810173035, -1.0127302408218384], \"xaxis\": \"x\", \"y\": [4.024650573730469, 3.970327854156494, 3.9939382076263428, 4.006663799285889, 3.9635069370269775, 4.014787197113037], \"yaxis\": \"y\"}, {\"hoverlabel\": {\"namelength\": 0}, \"hovertemplate\": \"<b>%{hovertext}</b><br><br>symbol=81<br>x=%{x}<br>y=%{y}<br>color=%{marker.color}\", \"hovertext\": [81.0, 81.0, 81.0, 81.0, 81.0], \"legendgroup\": \"symbol=81\", \"marker\": {\"color\": [81, 81, 81, 81, 81], \"coloraxis\": \"coloraxis\", \"opacity\": 0.5, \"symbol\": \"x\"}, \"mode\": \"markers\", \"name\": \"symbol=81\", \"showlegend\": true, \"type\": \"scatter\", \"x\": [9.20250415802002, 9.06006145477295, 11.422779083251953, 9.087532997131348, 9.061493873596191], \"xaxis\": \"x\", \"y\": [4.5369181632995605, 4.587746620178223, 2.5972797870635986, 4.496758937835693, 4.538310527801514], \"yaxis\": \"y\"}, {\"hoverlabel\": {\"namelength\": 0}, \"hovertemplate\": \"<b>%{hovertext}</b><br><br>symbol=27<br>x=%{x}<br>y=%{y}<br>color=%{marker.color}\", \"hovertext\": [27.0], \"legendgroup\": \"symbol=27\", \"marker\": {\"color\": [27], \"coloraxis\": \"coloraxis\", \"opacity\": 0.5, \"symbol\": \"cross\"}, \"mode\": \"markers\", \"name\": \"symbol=27\", \"showlegend\": true, \"type\": \"scatter\", \"x\": [-4.901825428009033], \"xaxis\": \"x\", \"y\": [6.637387275695801], \"yaxis\": \"y\"}, {\"hoverlabel\": {\"namelength\": 0}, \"hovertemplate\": \"<b>%{hovertext}</b><br><br>symbol=101<br>x=%{x}<br>y=%{y}<br>color=%{marker.color}\", \"hovertext\": [101.0, 101.0, 101.0], \"legendgroup\": \"symbol=101\", \"marker\": {\"color\": [101, 101, 101], \"coloraxis\": \"coloraxis\", \"opacity\": 0.5, \"symbol\": \"circle\"}, \"mode\": \"markers\", \"name\": \"symbol=101\", \"showlegend\": true, \"type\": \"scatter\", \"x\": [10.041749000549316, 10.008742332458496, 10.047204971313477], \"xaxis\": \"x\", \"y\": [4.751034736633301, 4.76503324508667, 4.728973865509033], \"yaxis\": \"y\"}, {\"hoverlabel\": {\"namelength\": 0}, \"hovertemplate\": \"<b>%{hovertext}</b><br><br>symbol=40<br>x=%{x}<br>y=%{y}<br>color=%{marker.color}\", \"hovertext\": [40.0, 40.0, 40.0, 40.0, 40.0], \"legendgroup\": \"symbol=40\", \"marker\": {\"color\": [40, 40, 40, 40, 40], \"coloraxis\": \"coloraxis\", \"opacity\": 0.5, \"symbol\": \"diamond\"}, \"mode\": \"markers\", \"name\": \"symbol=40\", \"showlegend\": true, \"type\": \"scatter\", \"x\": [-3.303032398223877, -3.200350761413574, -3.2512238025665283, -3.209669828414917, -3.304588556289673], \"xaxis\": \"x\", \"y\": [2.221928834915161, 2.288541555404663, 2.2646028995513916, 2.3017351627349854, 2.2156553268432617], \"yaxis\": \"y\"}, {\"hoverlabel\": {\"namelength\": 0}, \"hovertemplate\": \"<b>%{hovertext}</b><br><br>symbol=94<br>x=%{x}<br>y=%{y}<br>color=%{marker.color}\", \"hovertext\": [94.0, 94.0, 94.0, 94.0], \"legendgroup\": \"symbol=94\", \"marker\": {\"color\": [94, 94, 94, 94], \"coloraxis\": \"coloraxis\", \"opacity\": 0.5, \"symbol\": \"square\"}, \"mode\": \"markers\", \"name\": \"symbol=94\", \"showlegend\": true, \"type\": \"scatter\", \"x\": [11.245956420898438, 11.131800651550293, 11.305447578430176, 11.119925498962402], \"xaxis\": \"x\", \"y\": [4.438095569610596, 3.798102855682373, 3.905343532562256, 4.743521690368652], \"yaxis\": \"y\"}, {\"hoverlabel\": {\"namelength\": 0}, \"hovertemplate\": \"<b>%{hovertext}</b><br><br>symbol=62<br>x=%{x}<br>y=%{y}<br>color=%{marker.color}\", \"hovertext\": [62.0, 62.0, 62.0, 62.0, 62.0], \"legendgroup\": \"symbol=62\", \"marker\": {\"color\": [62, 62, 62, 62, 62], \"coloraxis\": \"coloraxis\", \"opacity\": 0.5, \"symbol\": \"x\"}, \"mode\": \"markers\", \"name\": \"symbol=62\", \"showlegend\": true, \"type\": \"scatter\", \"x\": [8.994132041931152, 9.000744819641113, 8.903951644897461, 9.396649360656738, 8.917956352233887], \"xaxis\": \"x\", \"y\": [4.688206672668457, 4.615262508392334, 4.534494876861572, 4.690220832824707, 4.669424057006836], \"yaxis\": \"y\"}, {\"hoverlabel\": {\"namelength\": 0}, \"hovertemplate\": \"<b>%{hovertext}</b><br><br>symbol=109<br>x=%{x}<br>y=%{y}<br>color=%{marker.color}\", \"hovertext\": [109.0, 109.0, 109.0, 109.0, 109.0], \"legendgroup\": \"symbol=109\", \"marker\": {\"color\": [109, 109, 109, 109, 109], \"coloraxis\": \"coloraxis\", \"opacity\": 0.5, \"symbol\": \"cross\"}, \"mode\": \"markers\", \"name\": \"symbol=109\", \"showlegend\": true, \"type\": \"scatter\", \"x\": [11.994904518127441, 12.870097160339355, 13.018360137939453, 13.084912300109863, 12.880927085876465], \"xaxis\": \"x\", \"y\": [4.112491130828857, 4.096583843231201, 3.985572338104248, 4.0778985023498535, 4.132626056671143], \"yaxis\": \"y\"}, {\"hoverlabel\": {\"namelength\": 0}, \"hovertemplate\": \"<b>%{hovertext}</b><br><br>symbol=98<br>x=%{x}<br>y=%{y}<br>color=%{marker.color}\", \"hovertext\": [98.0, 98.0, 98.0, 98.0, 98.0], \"legendgroup\": \"symbol=98\", \"marker\": {\"color\": [98, 98, 98, 98, 98], \"coloraxis\": \"coloraxis\", \"opacity\": 0.5, \"symbol\": \"circle\"}, \"mode\": \"markers\", \"name\": \"symbol=98\", \"showlegend\": true, \"type\": \"scatter\", \"x\": [11.940272331237793, 11.836241722106934, 11.893878936767578, 11.933072090148926, 12.024712562561035], \"xaxis\": \"x\", \"y\": [5.782824993133545, 5.786891937255859, 5.712012767791748, 5.743529319763184, 5.577061653137207], \"yaxis\": \"y\"}, {\"hoverlabel\": {\"namelength\": 0}, \"hovertemplate\": \"<b>%{hovertext}</b><br><br>symbol=17<br>x=%{x}<br>y=%{y}<br>color=%{marker.color}\", \"hovertext\": [17.0, 17.0, 17.0, 17.0], \"legendgroup\": \"symbol=17\", \"marker\": {\"color\": [17, 17, 17, 17], \"coloraxis\": \"coloraxis\", \"opacity\": 0.5, \"symbol\": \"diamond\"}, \"mode\": \"markers\", \"name\": \"symbol=17\", \"showlegend\": true, \"type\": \"scatter\", \"x\": [-4.435999393463135, -4.383795738220215, -4.398163318634033, -4.395834445953369], \"xaxis\": \"x\", \"y\": [4.860685348510742, 4.942301273345947, 4.905810356140137, 4.902658939361572], \"yaxis\": \"y\"}, {\"hoverlabel\": {\"namelength\": 0}, \"hovertemplate\": \"<b>%{hovertext}</b><br><br>symbol=92<br>x=%{x}<br>y=%{y}<br>color=%{marker.color}\", \"hovertext\": [92.0, 92.0, 92.0, 92.0], \"legendgroup\": \"symbol=92\", \"marker\": {\"color\": [92, 92, 92, 92], \"coloraxis\": \"coloraxis\", \"opacity\": 0.5, \"symbol\": \"square\"}, \"mode\": \"markers\", \"name\": \"symbol=92\", \"showlegend\": true, \"type\": \"scatter\", \"x\": [9.83072566986084, 10.153000831604004, 10.10286808013916, 10.187531471252441], \"xaxis\": \"x\", \"y\": [4.4321818351745605, 4.279227256774902, 4.373739242553711, 4.436251163482666], \"yaxis\": \"y\"}, {\"hoverlabel\": {\"namelength\": 0}, \"hovertemplate\": \"<b>%{hovertext}</b><br><br>symbol=4<br>x=%{x}<br>y=%{y}<br>color=%{marker.color}\", \"hovertext\": [4.0, 4.0], \"legendgroup\": \"symbol=4\", \"marker\": {\"color\": [4, 4], \"coloraxis\": \"coloraxis\", \"opacity\": 0.5, \"symbol\": \"x\"}, \"mode\": \"markers\", \"name\": \"symbol=4\", \"showlegend\": true, \"type\": \"scatter\", \"x\": [-3.243644952774048, -3.204805850982666], \"xaxis\": \"x\", \"y\": [6.47412109375, 6.548844814300537], \"yaxis\": \"y\"}, {\"hoverlabel\": {\"namelength\": 0}, \"hovertemplate\": \"<b>%{hovertext}</b><br><br>symbol=36<br>x=%{x}<br>y=%{y}<br>color=%{marker.color}\", \"hovertext\": [36.0, 36.0, 36.0, 36.0], \"legendgroup\": \"symbol=36\", \"marker\": {\"color\": [36, 36, 36, 36], \"coloraxis\": \"coloraxis\", \"opacity\": 0.5, \"symbol\": \"cross\"}, \"mode\": \"markers\", \"name\": \"symbol=36\", \"showlegend\": true, \"type\": \"scatter\", \"x\": [-3.126711130142212, -3.1056158542633057, -3.120203971862793, -3.111952304840088], \"xaxis\": \"x\", \"y\": [4.827939510345459, 4.951900959014893, 4.84684419631958, 4.836289405822754], \"yaxis\": \"y\"}, {\"hoverlabel\": {\"namelength\": 0}, \"hovertemplate\": \"<b>%{hovertext}</b><br><br>symbol=24<br>x=%{x}<br>y=%{y}<br>color=%{marker.color}\", \"hovertext\": [24.0, 24.0, 24.0, 24.0, 24.0, 24.0], \"legendgroup\": \"symbol=24\", \"marker\": {\"color\": [24, 24, 24, 24, 24, 24], \"coloraxis\": \"coloraxis\", \"opacity\": 0.5, \"symbol\": \"circle\"}, \"mode\": \"markers\", \"name\": \"symbol=24\", \"showlegend\": true, \"type\": \"scatter\", \"x\": [-5.236502170562744, -5.216793537139893, -5.2447991371154785, -5.224024295806885, -5.20026969909668, -5.256467342376709], \"xaxis\": \"x\", \"y\": [2.3874638080596924, 2.3862459659576416, 2.3672616481781006, 2.4166147708892822, 2.337231159210205, 2.445239543914795], \"yaxis\": \"y\"}, {\"hoverlabel\": {\"namelength\": 0}, \"hovertemplate\": \"<b>%{hovertext}</b><br><br>symbol=80<br>x=%{x}<br>y=%{y}<br>color=%{marker.color}\", \"hovertext\": [80.0, 80.0, 80.0, 80.0, 80.0, 80.0, 80.0], \"legendgroup\": \"symbol=80\", \"marker\": {\"color\": [80, 80, 80, 80, 80, 80, 80], \"coloraxis\": \"coloraxis\", \"opacity\": 0.5, \"symbol\": \"diamond\"}, \"mode\": \"markers\", \"name\": \"symbol=80\", \"showlegend\": true, \"type\": \"scatter\", \"x\": [11.147893905639648, 10.76391315460205, 10.67263126373291, 10.723503112792969, 10.701683044433594, 10.703666687011719, 10.721036911010742], \"xaxis\": \"x\", \"y\": [3.3721671104431152, 1.7343742847442627, 1.767075777053833, 1.8368312120437622, 1.759506344795227, 1.8491493463516235, 1.8087767362594604], \"yaxis\": \"y\"}, {\"hoverlabel\": {\"namelength\": 0}, \"hovertemplate\": \"<b>%{hovertext}</b><br><br>symbol=32<br>x=%{x}<br>y=%{y}<br>color=%{marker.color}\", \"hovertext\": [32.0, 32.0, 32.0, 32.0, 32.0], \"legendgroup\": \"symbol=32\", \"marker\": {\"color\": [32, 32, 32, 32, 32], \"coloraxis\": \"coloraxis\", \"opacity\": 0.5, \"symbol\": \"square\"}, \"mode\": \"markers\", \"name\": \"symbol=32\", \"showlegend\": true, \"type\": \"scatter\", \"x\": [-1.0695048570632935, -1.0748084783554077, -1.070921778678894, -1.0807539224624634, -1.1325914859771729], \"xaxis\": \"x\", \"y\": [1.708940863609314, 1.7038846015930176, 1.713437557220459, 1.7010842561721802, 1.6432154178619385], \"yaxis\": \"y\"}, {\"hoverlabel\": {\"namelength\": 0}, \"hovertemplate\": \"<b>%{hovertext}</b><br><br>symbol=64<br>x=%{x}<br>y=%{y}<br>color=%{marker.color}\", \"hovertext\": [64.0, 64.0, 64.0, 64.0, 64.0, 64.0], \"legendgroup\": \"symbol=64\", \"marker\": {\"color\": [64, 64, 64, 64, 64, 64], \"coloraxis\": \"coloraxis\", \"opacity\": 0.5, \"symbol\": \"x\"}, \"mode\": \"markers\", \"name\": \"symbol=64\", \"showlegend\": true, \"type\": \"scatter\", \"x\": [12.125532150268555, 12.796709060668945, 10.9920072555542, 12.623086929321289, 12.648476600646973, 12.726734161376953], \"xaxis\": \"x\", \"y\": [3.3265748023986816, 3.970212936401367, 2.209108352661133, 4.315173149108887, 3.6658430099487305, 4.384494781494141], \"yaxis\": \"y\"}, {\"hoverlabel\": {\"namelength\": 0}, \"hovertemplate\": \"<b>%{hovertext}</b><br><br>symbol=34<br>x=%{x}<br>y=%{y}<br>color=%{marker.color}\", \"hovertext\": [34.0, 34.0, 34.0, 34.0, 34.0, 34.0, 34.0, 34.0], \"legendgroup\": \"symbol=34\", \"marker\": {\"color\": [34, 34, 34, 34, 34, 34, 34, 34], \"coloraxis\": \"coloraxis\", \"opacity\": 0.5, \"symbol\": \"cross\"}, \"mode\": \"markers\", \"name\": \"symbol=34\", \"showlegend\": true, \"type\": \"scatter\", \"x\": [-4.768334865570068, -4.823692798614502, -4.772609710693359, -4.853906154632568, -4.8624796867370605, -4.799129486083984, -4.845504283905029, -4.780737400054932], \"xaxis\": \"x\", \"y\": [6.505029201507568, 6.403934478759766, 6.4723358154296875, 6.443211078643799, 6.391030788421631, 6.435790538787842, 6.399532794952393, 6.3405914306640625], \"yaxis\": \"y\"}, {\"hoverlabel\": {\"namelength\": 0}, \"hovertemplate\": \"<b>%{hovertext}</b><br><br>symbol=6<br>x=%{x}<br>y=%{y}<br>color=%{marker.color}\", \"hovertext\": [6.0, 6.0, 6.0, 6.0], \"legendgroup\": \"symbol=6\", \"marker\": {\"color\": [6, 6, 6, 6], \"coloraxis\": \"coloraxis\", \"opacity\": 0.5, \"symbol\": \"circle\"}, \"mode\": \"markers\", \"name\": \"symbol=6\", \"showlegend\": true, \"type\": \"scatter\", \"x\": [-4.923163890838623, -4.881012916564941, -4.880466461181641, -4.885026454925537], \"xaxis\": \"x\", \"y\": [3.3641786575317383, 3.363752603530884, 3.357625961303711, 3.3544187545776367], \"yaxis\": \"y\"}, {\"hoverlabel\": {\"namelength\": 0}, \"hovertemplate\": \"<b>%{hovertext}</b><br><br>symbol=66<br>x=%{x}<br>y=%{y}<br>color=%{marker.color}\", \"hovertext\": [66.0, 66.0, 66.0, 66.0, 66.0, 66.0, 66.0], \"legendgroup\": \"symbol=66\", \"marker\": {\"color\": [66, 66, 66, 66, 66, 66, 66], \"coloraxis\": \"coloraxis\", \"opacity\": 0.5, \"symbol\": \"diamond\"}, \"mode\": \"markers\", \"name\": \"symbol=66\", \"showlegend\": true, \"type\": \"scatter\", \"x\": [11.614068031311035, 12.386956214904785, 11.771105766296387, 12.39439582824707, 12.502317428588867, 12.360074996948242, 11.704109191894531], \"xaxis\": \"x\", \"y\": [4.456216812133789, 3.8416659832000732, 4.493995189666748, 4.17230749130249, 3.2739453315734863, 3.5511412620544434, 4.44553804397583], \"yaxis\": \"y\"}, {\"hoverlabel\": {\"namelength\": 0}, \"hovertemplate\": \"<b>%{hovertext}</b><br><br>symbol=97<br>x=%{x}<br>y=%{y}<br>color=%{marker.color}\", \"hovertext\": [97.0, 97.0, 97.0, 97.0, 97.0], \"legendgroup\": \"symbol=97\", \"marker\": {\"color\": [97, 97, 97, 97, 97], \"coloraxis\": \"coloraxis\", \"opacity\": 0.5, \"symbol\": \"square\"}, \"mode\": \"markers\", \"name\": \"symbol=97\", \"showlegend\": true, \"type\": \"scatter\", \"x\": [10.825552940368652, 11.378181457519531, 10.966500282287598, 10.818428993225098, 10.902474403381348], \"xaxis\": \"x\", \"y\": [5.384328842163086, 4.833034515380859, 5.228720664978027, 5.348398685455322, 5.306490421295166], \"yaxis\": \"y\"}, {\"hoverlabel\": {\"namelength\": 0}, \"hovertemplate\": \"<b>%{hovertext}</b><br><br>symbol=52<br>x=%{x}<br>y=%{y}<br>color=%{marker.color}\", \"hovertext\": [52.0, 52.0, 52.0, 52.0, 52.0, 52.0], \"legendgroup\": \"symbol=52\", \"marker\": {\"color\": [52, 52, 52, 52, 52, 52], \"coloraxis\": \"coloraxis\", \"opacity\": 0.5, \"symbol\": \"x\"}, \"mode\": \"markers\", \"name\": \"symbol=52\", \"showlegend\": true, \"type\": \"scatter\", \"x\": [-2.477726697921753, -2.5350406169891357, -2.4714388847351074, -2.5089991092681885, -2.520418167114258, -2.5196945667266846], \"xaxis\": \"x\", \"y\": [7.518511772155762, 7.534046649932861, 7.524264335632324, 7.538447380065918, 7.555516719818115, 7.572988986968994], \"yaxis\": \"y\"}, {\"hoverlabel\": {\"namelength\": 0}, \"hovertemplate\": \"<b>%{hovertext}</b><br><br>symbol=26<br>x=%{x}<br>y=%{y}<br>color=%{marker.color}\", \"hovertext\": [26.0, 26.0, 26.0, 26.0, 26.0, 26.0], \"legendgroup\": \"symbol=26\", \"marker\": {\"color\": [26, 26, 26, 26, 26, 26], \"coloraxis\": \"coloraxis\", \"opacity\": 0.5, \"symbol\": \"cross\"}, \"mode\": \"markers\", \"name\": \"symbol=26\", \"showlegend\": true, \"type\": \"scatter\", \"x\": [-9.338944435119629, -9.420719146728516, -9.324673652648926, -9.34080696105957, -9.341556549072266, -9.34776496887207], \"xaxis\": \"x\", \"y\": [2.993211507797241, 3.0797488689422607, 2.971506118774414, 2.991091251373291, 2.9919652938842773, 2.9981441497802734], \"yaxis\": \"y\"}, {\"hoverlabel\": {\"namelength\": 0}, \"hovertemplate\": \"<b>%{hovertext}</b><br><br>symbol=37<br>x=%{x}<br>y=%{y}<br>color=%{marker.color}\", \"hovertext\": [37.0, 37.0, 37.0, 37.0, 37.0], \"legendgroup\": \"symbol=37\", \"marker\": {\"color\": [37, 37, 37, 37, 37], \"coloraxis\": \"coloraxis\", \"opacity\": 0.5, \"symbol\": \"circle\"}, \"mode\": \"markers\", \"name\": \"symbol=37\", \"showlegend\": true, \"type\": \"scatter\", \"x\": [-4.180920600891113, -4.181588649749756, -4.19288969039917, -4.156380653381348, -4.180943489074707], \"xaxis\": \"x\", \"y\": [-2.010143995285034, -2.0108702182769775, -2.0232510566711426, -1.9854720830917358, -2.011125087738037], \"yaxis\": \"y\"}, {\"hoverlabel\": {\"namelength\": 0}, \"hovertemplate\": \"<b>%{hovertext}</b><br><br>symbol=100<br>x=%{x}<br>y=%{y}<br>color=%{marker.color}\", \"hovertext\": [100.0, 100.0, 100.0, 100.0, 100.0, 100.0, 100.0], \"legendgroup\": \"symbol=100\", \"marker\": {\"color\": [100, 100, 100, 100, 100, 100, 100], \"coloraxis\": \"coloraxis\", \"opacity\": 0.5, \"symbol\": \"diamond\"}, \"mode\": \"markers\", \"name\": \"symbol=100\", \"showlegend\": true, \"type\": \"scatter\", \"x\": [10.647879600524902, 13.012008666992188, 10.577629089355469, 10.453950881958008, 10.702713012695312, 10.508511543273926, 10.36441707611084], \"xaxis\": \"x\", \"y\": [2.603851795196533, 3.9236295223236084, 3.6752777099609375, 2.1558096408843994, 2.3714845180511475, 2.456285238265991, 2.3275842666625977], \"yaxis\": \"y\"}, {\"hoverlabel\": {\"namelength\": 0}, \"hovertemplate\": \"<b>%{hovertext}</b><br><br>symbol=79<br>x=%{x}<br>y=%{y}<br>color=%{marker.color}\", \"hovertext\": [79.0, 79.0, 79.0, 79.0, 79.0, 79.0], \"legendgroup\": \"symbol=79\", \"marker\": {\"color\": [79, 79, 79, 79, 79, 79], \"coloraxis\": \"coloraxis\", \"opacity\": 0.5, \"symbol\": \"square\"}, \"mode\": \"markers\", \"name\": \"symbol=79\", \"showlegend\": true, \"type\": \"scatter\", \"x\": [10.884551048278809, 11.874691009521484, 10.899480819702148, 10.848849296569824, 10.980859756469727, 10.757857322692871], \"xaxis\": \"x\", \"y\": [2.3969221115112305, 3.380126714706421, 2.355156660079956, 2.0521492958068848, 2.230419397354126, 2.3625454902648926], \"yaxis\": \"y\"}, {\"hoverlabel\": {\"namelength\": 0}, \"hovertemplate\": \"<b>%{hovertext}</b><br><br>symbol=57<br>x=%{x}<br>y=%{y}<br>color=%{marker.color}\", \"hovertext\": [57.0, 57.0, 57.0, 57.0, 57.0, 57.0, 57.0], \"legendgroup\": \"symbol=57\", \"marker\": {\"color\": [57, 57, 57, 57, 57, 57, 57], \"coloraxis\": \"coloraxis\", \"opacity\": 0.5, \"symbol\": \"x\"}, \"mode\": \"markers\", \"name\": \"symbol=57\", \"showlegend\": true, \"type\": \"scatter\", \"x\": [11.405484199523926, 11.573286056518555, 11.465320587158203, 11.622780799865723, 11.355328559875488, 11.424132347106934, 11.644881248474121], \"xaxis\": \"x\", \"y\": [2.7094473838806152, 2.7129201889038086, 2.45034122467041, 2.3276710510253906, 2.7084615230560303, 2.6254706382751465, 2.4623444080352783], \"yaxis\": \"y\"}, {\"hoverlabel\": {\"namelength\": 0}, \"hovertemplate\": \"<b>%{hovertext}</b><br><br>symbol=69<br>x=%{x}<br>y=%{y}<br>color=%{marker.color}\", \"hovertext\": [69.0, 69.0, 69.0, 69.0, 69.0, 69.0], \"legendgroup\": \"symbol=69\", \"marker\": {\"color\": [69, 69, 69, 69, 69, 69], \"coloraxis\": \"coloraxis\", \"opacity\": 0.5, \"symbol\": \"cross\"}, \"mode\": \"markers\", \"name\": \"symbol=69\", \"showlegend\": true, \"type\": \"scatter\", \"x\": [12.99792766571045, 12.990738868713379, 12.6929931640625, 12.840450286865234, 13.00424575805664, 13.00615119934082], \"xaxis\": \"x\", \"y\": [5.082866668701172, 5.124749660491943, 5.256316661834717, 5.154775142669678, 5.10540246963501, 5.112846851348877], \"yaxis\": \"y\"}, {\"hoverlabel\": {\"namelength\": 0}, \"hovertemplate\": \"<b>%{hovertext}</b><br><br>symbol=11<br>x=%{x}<br>y=%{y}<br>color=%{marker.color}\", \"hovertext\": [11.0, 11.0, 11.0, 11.0, 11.0, 11.0, 11.0, 11.0], \"legendgroup\": \"symbol=11\", \"marker\": {\"color\": [11, 11, 11, 11, 11, 11, 11, 11], \"coloraxis\": \"coloraxis\", \"opacity\": 0.5, \"symbol\": \"circle\"}, \"mode\": \"markers\", \"name\": \"symbol=11\", \"showlegend\": true, \"type\": \"scatter\", \"x\": [-7.273982048034668, -7.284388065338135, -7.229738712310791, -7.248617172241211, -7.278842449188232, -7.248826503753662, -7.302378177642822, -7.251842021942139], \"xaxis\": \"x\", \"y\": [9.295190811157227, 9.313982963562012, 9.34456729888916, 9.286249160766602, 9.293554306030273, 9.32470417022705, 9.267903327941895, 9.294170379638672], \"yaxis\": \"y\"}, {\"hoverlabel\": {\"namelength\": 0}, \"hovertemplate\": \"<b>%{hovertext}</b><br><br>symbol=90<br>x=%{x}<br>y=%{y}<br>color=%{marker.color}\", \"hovertext\": [90.0, 90.0, 90.0, 90.0, 90.0], \"legendgroup\": \"symbol=90\", \"marker\": {\"color\": [90, 90, 90, 90, 90], \"coloraxis\": \"coloraxis\", \"opacity\": 0.5, \"symbol\": \"diamond\"}, \"mode\": \"markers\", \"name\": \"symbol=90\", \"showlegend\": true, \"type\": \"scatter\", \"x\": [10.460128784179688, 11.782649993896484, 10.727946281433105, 10.721701622009277, 9.93494701385498], \"xaxis\": \"x\", \"y\": [3.9943885803222656, 3.94344162940979, 3.6756675243377686, 3.61650013923645, 4.632061004638672], \"yaxis\": \"y\"}, {\"hoverlabel\": {\"namelength\": 0}, \"hovertemplate\": \"<b>%{hovertext}</b><br><br>symbol=10<br>x=%{x}<br>y=%{y}<br>color=%{marker.color}\", \"hovertext\": [10.0, 10.0, 10.0, 10.0, 10.0, 10.0, 10.0, 10.0], \"legendgroup\": \"symbol=10\", \"marker\": {\"color\": [10, 10, 10, 10, 10, 10, 10, 10], \"coloraxis\": \"coloraxis\", \"opacity\": 0.5, \"symbol\": \"square\"}, \"mode\": \"markers\", \"name\": \"symbol=10\", \"showlegend\": true, \"type\": \"scatter\", \"x\": [-5.169772624969482, -5.167904376983643, -5.1761603355407715, -5.238894939422607, -5.226473808288574, -5.174805641174316, -5.206284046173096, -5.1821980476379395], \"xaxis\": \"x\", \"y\": [4.152318477630615, 4.149876117706299, 4.111440658569336, 4.213130474090576, 4.176690578460693, 4.130198001861572, 4.16272497177124, 4.154539585113525], \"yaxis\": \"y\"}, {\"hoverlabel\": {\"namelength\": 0}, \"hovertemplate\": \"<b>%{hovertext}</b><br><br>symbol=78<br>x=%{x}<br>y=%{y}<br>color=%{marker.color}\", \"hovertext\": [78.0, 78.0, 78.0, 78.0, 78.0, 78.0, 78.0, 78.0, 78.0], \"legendgroup\": \"symbol=78\", \"marker\": {\"color\": [78, 78, 78, 78, 78, 78, 78, 78, 78], \"coloraxis\": \"coloraxis\", \"opacity\": 0.5, \"symbol\": \"x\"}, \"mode\": \"markers\", \"name\": \"symbol=78\", \"showlegend\": true, \"type\": \"scatter\", \"x\": [10.224605560302734, 10.72714614868164, 10.207033157348633, 10.144489288330078, 10.729432106018066, 10.35118579864502, 10.131124496459961, 10.077475547790527, 10.947468757629395], \"xaxis\": \"x\", \"y\": [4.502391338348389, 3.618889331817627, 3.434427261352539, 3.8669350147247314, 3.17893385887146, 3.309756278991699, 4.3957061767578125, 3.7790606021881104, 4.05365514755249], \"yaxis\": \"y\"}, {\"hoverlabel\": {\"namelength\": 0}, \"hovertemplate\": \"<b>%{hovertext}</b><br><br>symbol=96<br>x=%{x}<br>y=%{y}<br>color=%{marker.color}\", \"hovertext\": [96.0, 96.0], \"legendgroup\": \"symbol=96\", \"marker\": {\"color\": [96, 96], \"coloraxis\": \"coloraxis\", \"opacity\": 0.5, \"symbol\": \"cross\"}, \"mode\": \"markers\", \"name\": \"symbol=96\", \"showlegend\": true, \"type\": \"scatter\", \"x\": [13.381763458251953, 10.580958366394043], \"xaxis\": \"x\", \"y\": [3.1322336196899414, 2.58440899848938], \"yaxis\": \"y\"}, {\"hoverlabel\": {\"namelength\": 0}, \"hovertemplate\": \"<b>%{hovertext}</b><br><br>symbol=46<br>x=%{x}<br>y=%{y}<br>color=%{marker.color}\", \"hovertext\": [46.0, 46.0, 46.0, 46.0, 46.0, 46.0, 46.0, 46.0, 46.0], \"legendgroup\": \"symbol=46\", \"marker\": {\"color\": [46, 46, 46, 46, 46, 46, 46, 46, 46], \"coloraxis\": \"coloraxis\", \"opacity\": 0.5, \"symbol\": \"circle\"}, \"mode\": \"markers\", \"name\": \"symbol=46\", \"showlegend\": true, \"type\": \"scatter\", \"x\": [-0.15782703459262848, -0.1902458816766739, -0.22831907868385315, -0.20506301522254944, -0.22550398111343384, -0.16149136424064636, -0.17031309008598328, -0.20192864537239075, -0.22003555297851562], \"xaxis\": \"x\", \"y\": [0.16092585027217865, 0.16433127224445343, 0.20444566011428833, 0.18015757203102112, 0.19702774286270142, 0.13857120275497437, 0.1450781673192978, 0.17675618827342987, 0.1931031495332718], \"yaxis\": \"y\"}, {\"hoverlabel\": {\"namelength\": 0}, \"hovertemplate\": \"<b>%{hovertext}</b><br><br>symbol=75<br>x=%{x}<br>y=%{y}<br>color=%{marker.color}\", \"hovertext\": [75.0, 75.0, 75.0], \"legendgroup\": \"symbol=75\", \"marker\": {\"color\": [75, 75, 75], \"coloraxis\": \"coloraxis\", \"opacity\": 0.5, \"symbol\": \"diamond\"}, \"mode\": \"markers\", \"name\": \"symbol=75\", \"showlegend\": true, \"type\": \"scatter\", \"x\": [11.996323585510254, 11.789352416992188, 10.375858306884766], \"xaxis\": \"x\", \"y\": [3.561534881591797, 3.158536672592163, 3.730944871902466], \"yaxis\": \"y\"}, {\"hoverlabel\": {\"namelength\": 0}, \"hovertemplate\": \"<b>%{hovertext}</b><br><br>symbol=13<br>x=%{x}<br>y=%{y}<br>color=%{marker.color}\", \"hovertext\": [13.0, 13.0, 13.0, 13.0], \"legendgroup\": \"symbol=13\", \"marker\": {\"color\": [13, 13, 13, 13], \"coloraxis\": \"coloraxis\", \"opacity\": 0.5, \"symbol\": \"square\"}, \"mode\": \"markers\", \"name\": \"symbol=13\", \"showlegend\": true, \"type\": \"scatter\", \"x\": [-3.3903937339782715, -3.4165656566619873, -3.408111333847046, -3.3755321502685547], \"xaxis\": \"x\", \"y\": [8.30103588104248, 8.317402839660645, 8.314451217651367, 8.271885871887207], \"yaxis\": \"y\"}, {\"hoverlabel\": {\"namelength\": 0}, \"hovertemplate\": \"<b>%{hovertext}</b><br><br>symbol=110<br>x=%{x}<br>y=%{y}<br>color=%{marker.color}\", \"hovertext\": [110.0, 110.0, 110.0], \"legendgroup\": \"symbol=110\", \"marker\": {\"color\": [110, 110, 110], \"coloraxis\": \"coloraxis\", \"opacity\": 0.5, \"symbol\": \"x\"}, \"mode\": \"markers\", \"name\": \"symbol=110\", \"showlegend\": true, \"type\": \"scatter\", \"x\": [12.764204025268555, 12.670937538146973, 12.898545265197754], \"xaxis\": \"x\", \"y\": [3.1921019554138184, 3.0512425899505615, 3.3074162006378174], \"yaxis\": \"y\"}, {\"hoverlabel\": {\"namelength\": 0}, \"hovertemplate\": \"<b>%{hovertext}</b><br><br>symbol=43<br>x=%{x}<br>y=%{y}<br>color=%{marker.color}\", \"hovertext\": [43.0, 43.0, 43.0], \"legendgroup\": \"symbol=43\", \"marker\": {\"color\": [43, 43, 43], \"coloraxis\": \"coloraxis\", \"opacity\": 0.5, \"symbol\": \"cross\"}, \"mode\": \"markers\", \"name\": \"symbol=43\", \"showlegend\": true, \"type\": \"scatter\", \"x\": [-4.878725051879883, -4.851537227630615, -4.827493190765381], \"xaxis\": \"x\", \"y\": [4.511266708374023, 4.552495956420898, 4.522244453430176], \"yaxis\": \"y\"}, {\"hoverlabel\": {\"namelength\": 0}, \"hovertemplate\": \"<b>%{hovertext}</b><br><br>symbol=68<br>x=%{x}<br>y=%{y}<br>color=%{marker.color}\", \"hovertext\": [68.0, 68.0, 68.0, 68.0, 68.0, 68.0], \"legendgroup\": \"symbol=68\", \"marker\": {\"color\": [68, 68, 68, 68, 68, 68], \"coloraxis\": \"coloraxis\", \"opacity\": 0.5, \"symbol\": \"circle\"}, \"mode\": \"markers\", \"name\": \"symbol=68\", \"showlegend\": true, \"type\": \"scatter\", \"x\": [12.268141746520996, 13.302743911743164, 12.520194053649902, 12.549311637878418, 12.491622924804688, 12.198173522949219], \"xaxis\": \"x\", \"y\": [3.1468300819396973, 3.4509005546569824, 4.610361576080322, 4.114991188049316, 4.386607646942139, 2.631359338760376], \"yaxis\": \"y\"}, {\"hoverlabel\": {\"namelength\": 0}, \"hovertemplate\": \"<b>%{hovertext}</b><br><br>symbol=19<br>x=%{x}<br>y=%{y}<br>color=%{marker.color}\", \"hovertext\": [19.0, 19.0, 19.0, 19.0, 19.0, 19.0, 19.0, 19.0], \"legendgroup\": \"symbol=19\", \"marker\": {\"color\": [19, 19, 19, 19, 19, 19, 19, 19], \"coloraxis\": \"coloraxis\", \"opacity\": 0.5, \"symbol\": \"diamond\"}, \"mode\": \"markers\", \"name\": \"symbol=19\", \"showlegend\": true, \"type\": \"scatter\", \"x\": [-1.0933889150619507, -1.098740577697754, -1.099886417388916, -1.151702880859375, -1.083588719367981, -1.079422950744629, -1.1199462413787842, -1.0694183111190796], \"xaxis\": \"x\", \"y\": [-9.208410263061523, -9.213823318481445, -9.214958190917969, -9.26576042175293, -9.198260307312012, -9.19449234008789, -9.235085487365723, -9.184414863586426], \"yaxis\": \"y\"}, {\"hoverlabel\": {\"namelength\": 0}, \"hovertemplate\": \"<b>%{hovertext}</b><br><br>symbol=105<br>x=%{x}<br>y=%{y}<br>color=%{marker.color}\", \"hovertext\": [105.0, 105.0, 105.0, 105.0, 105.0], \"legendgroup\": \"symbol=105\", \"marker\": {\"color\": [105, 105, 105, 105, 105], \"coloraxis\": \"coloraxis\", \"opacity\": 0.5, \"symbol\": \"square\"}, \"mode\": \"markers\", \"name\": \"symbol=105\", \"showlegend\": true, \"type\": \"scatter\", \"x\": [10.95937728881836, 10.972451210021973, 10.847662925720215, 10.841524124145508, 10.838095664978027], \"xaxis\": \"x\", \"y\": [5.424651145935059, 5.520854473114014, 5.475039482116699, 5.477050304412842, 5.425321578979492], \"yaxis\": \"y\"}, {\"hoverlabel\": {\"namelength\": 0}, \"hovertemplate\": \"<b>%{hovertext}</b><br><br>symbol=48<br>x=%{x}<br>y=%{y}<br>color=%{marker.color}\", \"hovertext\": [48.0, 48.0, 48.0, 48.0, 48.0], \"legendgroup\": \"symbol=48\", \"marker\": {\"color\": [48, 48, 48, 48, 48], \"coloraxis\": \"coloraxis\", \"opacity\": 0.5, \"symbol\": \"x\"}, \"mode\": \"markers\", \"name\": \"symbol=48\", \"showlegend\": true, \"type\": \"scatter\", \"x\": [-2.0996885299682617, -2.086564302444458, -2.1040756702423096, -2.085386037826538, -2.081666946411133], \"xaxis\": \"x\", \"y\": [3.7667624950408936, 3.781480073928833, 3.7874584197998047, 3.7852437496185303, 3.7835640907287598], \"yaxis\": \"y\"}, {\"hoverlabel\": {\"namelength\": 0}, \"hovertemplate\": \"<b>%{hovertext}</b><br><br>symbol=67<br>x=%{x}<br>y=%{y}<br>color=%{marker.color}\", \"hovertext\": [67.0, 67.0, 67.0, 67.0, 67.0], \"legendgroup\": \"symbol=67\", \"marker\": {\"color\": [67, 67, 67, 67, 67], \"coloraxis\": \"coloraxis\", \"opacity\": 0.5, \"symbol\": \"cross\"}, \"mode\": \"markers\", \"name\": \"symbol=67\", \"showlegend\": true, \"type\": \"scatter\", \"x\": [12.354820251464844, 12.453668594360352, 12.545443534851074, 12.229313850402832, 12.388628005981445], \"xaxis\": \"x\", \"y\": [2.3405158519744873, 2.5106515884399414, 2.4304819107055664, 2.3552095890045166, 2.4622418880462646], \"yaxis\": \"y\"}, {\"hoverlabel\": {\"namelength\": 0}, \"hovertemplate\": \"<b>%{hovertext}</b><br><br>symbol=35<br>x=%{x}<br>y=%{y}<br>color=%{marker.color}\", \"hovertext\": [35.0, 35.0, 35.0, 35.0, 35.0, 35.0, 35.0], \"legendgroup\": \"symbol=35\", \"marker\": {\"color\": [35, 35, 35, 35, 35, 35, 35], \"coloraxis\": \"coloraxis\", \"opacity\": 0.5, \"symbol\": \"circle\"}, \"mode\": \"markers\", \"name\": \"symbol=35\", \"showlegend\": true, \"type\": \"scatter\", \"x\": [-2.935091018676758, -2.867579936981201, -2.964679002761841, -2.943129301071167, -2.914151191711426, -2.959613561630249, -2.9298670291900635], \"xaxis\": \"x\", \"y\": [1.1722805500030518, 1.1854623556137085, 1.1009453535079956, 1.136160969734192, 1.115034818649292, 1.0996904373168945, 1.1440080404281616], \"yaxis\": \"y\"}, {\"hoverlabel\": {\"namelength\": 0}, \"hovertemplate\": \"<b>%{hovertext}</b><br><br>symbol=14<br>x=%{x}<br>y=%{y}<br>color=%{marker.color}\", \"hovertext\": [14.0, 14.0, 14.0, 14.0, 14.0, 14.0], \"legendgroup\": \"symbol=14\", \"marker\": {\"color\": [14, 14, 14, 14, 14, 14], \"coloraxis\": \"coloraxis\", \"opacity\": 0.5, \"symbol\": \"diamond\"}, \"mode\": \"markers\", \"name\": \"symbol=14\", \"showlegend\": true, \"type\": \"scatter\", \"x\": [-4.152450084686279, -4.121232509613037, -4.149030685424805, -4.163179874420166, -4.129115581512451, -4.123740196228027], \"xaxis\": \"x\", \"y\": [2.233201026916504, 2.2943060398101807, 2.242947578430176, 2.267169952392578, 2.2771987915039062, 2.2918589115142822], \"yaxis\": \"y\"}, {\"hoverlabel\": {\"namelength\": 0}, \"hovertemplate\": \"<b>%{hovertext}</b><br><br>symbol=42<br>x=%{x}<br>y=%{y}<br>color=%{marker.color}\", \"hovertext\": [42.0, 42.0, 42.0, 42.0, 42.0], \"legendgroup\": \"symbol=42\", \"marker\": {\"color\": [42, 42, 42, 42, 42], \"coloraxis\": \"coloraxis\", \"opacity\": 0.5, \"symbol\": \"square\"}, \"mode\": \"markers\", \"name\": \"symbol=42\", \"showlegend\": true, \"type\": \"scatter\", \"x\": [-1.8771541118621826, -1.8849996328353882, -1.8975334167480469, -1.8982551097869873, -1.8910831212997437], \"xaxis\": \"x\", \"y\": [7.035330295562744, 7.036949634552002, 7.022695541381836, 7.025461196899414, 7.024946212768555], \"yaxis\": \"y\"}, {\"hoverlabel\": {\"namelength\": 0}, \"hovertemplate\": \"<b>%{hovertext}</b><br><br>symbol=8<br>x=%{x}<br>y=%{y}<br>color=%{marker.color}\", \"hovertext\": [8.0, 8.0, 8.0, 8.0, 8.0, 8.0, 8.0], \"legendgroup\": \"symbol=8\", \"marker\": {\"color\": [8, 8, 8, 8, 8, 8, 8], \"coloraxis\": \"coloraxis\", \"opacity\": 0.5, \"symbol\": \"x\"}, \"mode\": \"markers\", \"name\": \"symbol=8\", \"showlegend\": true, \"type\": \"scatter\", \"x\": [-3.803014039993286, -3.8014724254608154, -3.811053991317749, -3.8065645694732666, -3.832397937774658, -3.832200765609741, -3.830414056777954], \"xaxis\": \"x\", \"y\": [4.2832183837890625, 4.222322463989258, 4.250821590423584, 4.247619152069092, 4.27091121673584, 4.260113716125488, 4.254422664642334], \"yaxis\": \"y\"}, {\"hoverlabel\": {\"namelength\": 0}, \"hovertemplate\": \"<b>%{hovertext}</b><br><br>symbol=28<br>x=%{x}<br>y=%{y}<br>color=%{marker.color}\", \"hovertext\": [28.0, 28.0, 28.0, 28.0, 28.0, 28.0], \"legendgroup\": \"symbol=28\", \"marker\": {\"color\": [28, 28, 28, 28, 28, 28], \"coloraxis\": \"coloraxis\", \"opacity\": 0.5, \"symbol\": \"cross\"}, \"mode\": \"markers\", \"name\": \"symbol=28\", \"showlegend\": true, \"type\": \"scatter\", \"x\": [-6.888901710510254, -6.877939224243164, -6.887945652008057, -6.913174629211426, -6.878349781036377, -6.8616814613342285], \"xaxis\": \"x\", \"y\": [-0.22155314683914185, -0.20958676934242249, -0.2206842303276062, -0.24891500174999237, -0.21104009449481964, -0.19431807100772858], \"yaxis\": \"y\"}, {\"hoverlabel\": {\"namelength\": 0}, \"hovertemplate\": \"<b>%{hovertext}</b><br><br>symbol=70<br>x=%{x}<br>y=%{y}<br>color=%{marker.color}\", \"hovertext\": [70.0, 70.0], \"legendgroup\": \"symbol=70\", \"marker\": {\"color\": [70, 70], \"coloraxis\": \"coloraxis\", \"opacity\": 0.5, \"symbol\": \"circle\"}, \"mode\": \"markers\", \"name\": \"symbol=70\", \"showlegend\": true, \"type\": \"scatter\", \"x\": [12.417718887329102, 12.676701545715332], \"xaxis\": \"x\", \"y\": [3.269543170928955, 3.4836456775665283], \"yaxis\": \"y\"}, {\"hoverlabel\": {\"namelength\": 0}, \"hovertemplate\": \"<b>%{hovertext}</b><br><br>symbol=99<br>x=%{x}<br>y=%{y}<br>color=%{marker.color}\", \"hovertext\": [99.0, 99.0, 99.0], \"legendgroup\": \"symbol=99\", \"marker\": {\"color\": [99, 99, 99], \"coloraxis\": \"coloraxis\", \"opacity\": 0.5, \"symbol\": \"diamond\"}, \"mode\": \"markers\", \"name\": \"symbol=99\", \"showlegend\": true, \"type\": \"scatter\", \"x\": [10.261960983276367, 10.313342094421387, 10.228261947631836], \"xaxis\": \"x\", \"y\": [3.803774356842041, 3.755352735519409, 3.9540176391601562], \"yaxis\": \"y\"}, {\"hoverlabel\": {\"namelength\": 0}, \"hovertemplate\": \"<b>%{hovertext}</b><br><br>symbol=108<br>x=%{x}<br>y=%{y}<br>color=%{marker.color}\", \"hovertext\": [108.0, 108.0, 108.0], \"legendgroup\": \"symbol=108\", \"marker\": {\"color\": [108, 108, 108], \"coloraxis\": \"coloraxis\", \"opacity\": 0.5, \"symbol\": \"square\"}, \"mode\": \"markers\", \"name\": \"symbol=108\", \"showlegend\": true, \"type\": \"scatter\", \"x\": [12.762598991394043, 11.524968147277832, 11.82252311706543], \"xaxis\": \"x\", \"y\": [3.59883975982666, 2.8373193740844727, 2.3373000621795654], \"yaxis\": \"y\"}, {\"hoverlabel\": {\"namelength\": 0}, \"hovertemplate\": \"<b>%{hovertext}</b><br><br>symbol=16<br>x=%{x}<br>y=%{y}<br>color=%{marker.color}\", \"hovertext\": [16.0, 16.0], \"legendgroup\": \"symbol=16\", \"marker\": {\"color\": [16, 16], \"coloraxis\": \"coloraxis\", \"opacity\": 0.5, \"symbol\": \"x\"}, \"mode\": \"markers\", \"name\": \"symbol=16\", \"showlegend\": true, \"type\": \"scatter\", \"x\": [-2.535457134246826, -2.4519190788269043], \"xaxis\": \"x\", \"y\": [6.947988033294678, 6.850861549377441], \"yaxis\": \"y\"}, {\"hoverlabel\": {\"namelength\": 0}, \"hovertemplate\": \"<b>%{hovertext}</b><br><br>symbol=60<br>x=%{x}<br>y=%{y}<br>color=%{marker.color}\", \"hovertext\": [60.0, 60.0, 60.0, 60.0, 60.0], \"legendgroup\": \"symbol=60\", \"marker\": {\"color\": [60, 60, 60, 60, 60], \"coloraxis\": \"coloraxis\", \"opacity\": 0.5, \"symbol\": \"cross\"}, \"mode\": \"markers\", \"name\": \"symbol=60\", \"showlegend\": true, \"type\": \"scatter\", \"x\": [11.831565856933594, 11.00772476196289, 12.161699295043945, 11.896224975585938, 11.876951217651367], \"xaxis\": \"x\", \"y\": [4.8734130859375, 4.437064170837402, 3.853776216506958, 4.816989898681641, 4.696028709411621], \"yaxis\": \"y\"}, {\"hoverlabel\": {\"namelength\": 0}, \"hovertemplate\": \"<b>%{hovertext}</b><br><br>symbol=39<br>x=%{x}<br>y=%{y}<br>color=%{marker.color}\", \"hovertext\": [39.0, 39.0], \"legendgroup\": \"symbol=39\", \"marker\": {\"color\": [39, 39], \"coloraxis\": \"coloraxis\", \"opacity\": 0.5, \"symbol\": \"circle\"}, \"mode\": \"markers\", \"name\": \"symbol=39\", \"showlegend\": true, \"type\": \"scatter\", \"x\": [-4.989480495452881, -5.045765399932861], \"xaxis\": \"x\", \"y\": [3.899049758911133, 4.050703048706055], \"yaxis\": \"y\"}, {\"hoverlabel\": {\"namelength\": 0}, \"hovertemplate\": \"<b>%{hovertext}</b><br><br>symbol=87<br>x=%{x}<br>y=%{y}<br>color=%{marker.color}\", \"hovertext\": [87.0, 87.0, 87.0, 87.0], \"legendgroup\": \"symbol=87\", \"marker\": {\"color\": [87, 87, 87, 87], \"coloraxis\": \"coloraxis\", \"opacity\": 0.5, \"symbol\": \"diamond\"}, \"mode\": \"markers\", \"name\": \"symbol=87\", \"showlegend\": true, \"type\": \"scatter\", \"x\": [12.717344284057617, 12.406001091003418, 12.03982162475586, 12.316845893859863], \"xaxis\": \"x\", \"y\": [2.712714433670044, 3.344644546508789, 2.393929958343506, 2.6341307163238525], \"yaxis\": \"y\"}, {\"hoverlabel\": {\"namelength\": 0}, \"hovertemplate\": \"<b>%{hovertext}</b><br><br>symbol=29<br>x=%{x}<br>y=%{y}<br>color=%{marker.color}\", \"hovertext\": [29.0, 29.0, 29.0, 29.0], \"legendgroup\": \"symbol=29\", \"marker\": {\"color\": [29, 29, 29, 29], \"coloraxis\": \"coloraxis\", \"opacity\": 0.5, \"symbol\": \"square\"}, \"mode\": \"markers\", \"name\": \"symbol=29\", \"showlegend\": true, \"type\": \"scatter\", \"x\": [-3.1986145973205566, -3.2056753635406494, -3.2087604999542236, -3.2180774211883545], \"xaxis\": \"x\", \"y\": [8.102683067321777, 8.120960235595703, 8.13298225402832, 8.14205551147461], \"yaxis\": \"y\"}, {\"hoverlabel\": {\"namelength\": 0}, \"hovertemplate\": \"<b>%{hovertext}</b><br><br>symbol=72<br>x=%{x}<br>y=%{y}<br>color=%{marker.color}\", \"hovertext\": [72.0, 72.0, 72.0, 72.0, 72.0, 72.0], \"legendgroup\": \"symbol=72\", \"marker\": {\"color\": [72, 72, 72, 72, 72, 72], \"coloraxis\": \"coloraxis\", \"opacity\": 0.5, \"symbol\": \"x\"}, \"mode\": \"markers\", \"name\": \"symbol=72\", \"showlegend\": true, \"type\": \"scatter\", \"x\": [12.505587577819824, 12.41287899017334, 12.572653770446777, 12.39102840423584, 12.468149185180664, 12.404377937316895], \"xaxis\": \"x\", \"y\": [5.441516399383545, 5.5827507972717285, 5.381261348724365, 5.526444435119629, 5.4280290603637695, 5.558694362640381], \"yaxis\": \"y\"}, {\"hoverlabel\": {\"namelength\": 0}, \"hovertemplate\": \"<b>%{hovertext}</b><br><br>symbol=95<br>x=%{x}<br>y=%{y}<br>color=%{marker.color}\", \"hovertext\": [95.0, 95.0, 95.0, 95.0, 95.0, 95.0, 95.0], \"legendgroup\": \"symbol=95\", \"marker\": {\"color\": [95, 95, 95, 95, 95, 95, 95], \"coloraxis\": \"coloraxis\", \"opacity\": 0.5, \"symbol\": \"cross\"}, \"mode\": \"markers\", \"name\": \"symbol=95\", \"showlegend\": true, \"type\": \"scatter\", \"x\": [10.811076164245605, 10.775375366210938, 10.920537948608398, 12.672351837158203, 13.007686614990234, 12.588339805603027, 12.602256774902344], \"xaxis\": \"x\", \"y\": [2.687657356262207, 2.1482748985290527, 2.744253635406494, 3.843714475631714, 3.9415640830993652, 3.9977314472198486, 3.904207944869995], \"yaxis\": \"y\"}, {\"hoverlabel\": {\"namelength\": 0}, \"hovertemplate\": \"<b>%{hovertext}</b><br><br>symbol=77<br>x=%{x}<br>y=%{y}<br>color=%{marker.color}\", \"hovertext\": [77.0], \"legendgroup\": \"symbol=77\", \"marker\": {\"color\": [77], \"coloraxis\": \"coloraxis\", \"opacity\": 0.5, \"symbol\": \"circle\"}, \"mode\": \"markers\", \"name\": \"symbol=77\", \"showlegend\": true, \"type\": \"scatter\", \"x\": [10.158210754394531], \"xaxis\": \"x\", \"y\": [4.662529468536377], \"yaxis\": \"y\"}, {\"hoverlabel\": {\"namelength\": 0}, \"hovertemplate\": \"<b>%{hovertext}</b><br><br>symbol=83<br>x=%{x}<br>y=%{y}<br>color=%{marker.color}\", \"hovertext\": [83.0, 83.0], \"legendgroup\": \"symbol=83\", \"marker\": {\"color\": [83, 83], \"coloraxis\": \"coloraxis\", \"opacity\": 0.5, \"symbol\": \"diamond\"}, \"mode\": \"markers\", \"name\": \"symbol=83\", \"showlegend\": true, \"type\": \"scatter\", \"x\": [10.980323791503906, 11.0455904006958], \"xaxis\": \"x\", \"y\": [4.483775615692139, 3.8633997440338135], \"yaxis\": \"y\"}, {\"hoverlabel\": {\"namelength\": 0}, \"hovertemplate\": \"<b>%{hovertext}</b><br><br>symbol=15<br>x=%{x}<br>y=%{y}<br>color=%{marker.color}\", \"hovertext\": [15.0, 15.0, 15.0], \"legendgroup\": \"symbol=15\", \"marker\": {\"color\": [15, 15, 15], \"coloraxis\": \"coloraxis\", \"opacity\": 0.5, \"symbol\": \"square\"}, \"mode\": \"markers\", \"name\": \"symbol=15\", \"showlegend\": true, \"type\": \"scatter\", \"x\": [-3.8989057540893555, -3.9013984203338623, -3.8825571537017822], \"xaxis\": \"x\", \"y\": [6.536012172698975, 6.524499893188477, 6.540929794311523], \"yaxis\": \"y\"}, {\"hoverlabel\": {\"namelength\": 0}, \"hovertemplate\": \"<b>%{hovertext}</b><br><br>symbol=65<br>x=%{x}<br>y=%{y}<br>color=%{marker.color}\", \"hovertext\": [65.0, 65.0], \"legendgroup\": \"symbol=65\", \"marker\": {\"color\": [65, 65], \"coloraxis\": \"coloraxis\", \"opacity\": 0.5, \"symbol\": \"x\"}, \"mode\": \"markers\", \"name\": \"symbol=65\", \"showlegend\": true, \"type\": \"scatter\", \"x\": [12.127769470214844, 12.23815631866455], \"xaxis\": \"x\", \"y\": [4.92141580581665, 3.7953102588653564], \"yaxis\": \"y\"}, {\"hoverlabel\": {\"namelength\": 0}, \"hovertemplate\": \"<b>%{hovertext}</b><br><br>symbol=71<br>x=%{x}<br>y=%{y}<br>color=%{marker.color}\", \"hovertext\": [71.0, 71.0], \"legendgroup\": \"symbol=71\", \"marker\": {\"color\": [71, 71], \"coloraxis\": \"coloraxis\", \"opacity\": 0.5, \"symbol\": \"cross\"}, \"mode\": \"markers\", \"name\": \"symbol=71\", \"showlegend\": true, \"type\": \"scatter\", \"x\": [13.09041690826416, 13.113129615783691], \"xaxis\": \"x\", \"y\": [3.228403329849243, 3.049673557281494], \"yaxis\": \"y\"}, {\"hoverlabel\": {\"namelength\": 0}, \"hovertemplate\": \"<b>%{hovertext}</b><br><br>symbol=22<br>x=%{x}<br>y=%{y}<br>color=%{marker.color}\", \"hovertext\": [22.0, 22.0, 22.0, 22.0, 22.0, 22.0], \"legendgroup\": \"symbol=22\", \"marker\": {\"color\": [22, 22, 22, 22, 22, 22], \"coloraxis\": \"coloraxis\", \"opacity\": 0.5, \"symbol\": \"circle\"}, \"mode\": \"markers\", \"name\": \"symbol=22\", \"showlegend\": true, \"type\": \"scatter\", \"x\": [-9.138402938842773, -9.112442016601562, -9.121301651000977, -9.121445655822754, -9.118741989135742, -9.104032516479492], \"xaxis\": \"x\", \"y\": [6.9227166175842285, 6.950970649719238, 6.941044807434082, 6.941598892211914, 6.9406208992004395, 6.959749698638916], \"yaxis\": \"y\"}, {\"hoverlabel\": {\"namelength\": 0}, \"hovertemplate\": \"<b>%{hovertext}</b><br><br>symbol=50<br>x=%{x}<br>y=%{y}<br>color=%{marker.color}\", \"hovertext\": [50.0, 50.0], \"legendgroup\": \"symbol=50\", \"marker\": {\"color\": [50, 50], \"coloraxis\": \"coloraxis\", \"opacity\": 0.5, \"symbol\": \"diamond\"}, \"mode\": \"markers\", \"name\": \"symbol=50\", \"showlegend\": true, \"type\": \"scatter\", \"x\": [-3.670849561691284, -3.7183175086975098], \"xaxis\": \"x\", \"y\": [5.476132392883301, 5.446136474609375], \"yaxis\": \"y\"}, {\"hoverlabel\": {\"namelength\": 0}, \"hovertemplate\": \"<b>%{hovertext}</b><br><br>symbol=12<br>x=%{x}<br>y=%{y}<br>color=%{marker.color}\", \"hovertext\": [12.0, 12.0], \"legendgroup\": \"symbol=12\", \"marker\": {\"color\": [12, 12], \"coloraxis\": \"coloraxis\", \"opacity\": 0.5, \"symbol\": \"square\"}, \"mode\": \"markers\", \"name\": \"symbol=12\", \"showlegend\": true, \"type\": \"scatter\", \"x\": [-4.264059066772461, -4.192761421203613], \"xaxis\": \"x\", \"y\": [2.566532850265503, 2.5530247688293457], \"yaxis\": \"y\"}, {\"hoverlabel\": {\"namelength\": 0}, \"hovertemplate\": \"<b>%{hovertext}</b><br><br>symbol=88<br>x=%{x}<br>y=%{y}<br>color=%{marker.color}\", \"hovertext\": [88.0, 88.0, 88.0, 88.0, 88.0], \"legendgroup\": \"symbol=88\", \"marker\": {\"color\": [88, 88, 88, 88, 88], \"coloraxis\": \"coloraxis\", \"opacity\": 0.5, \"symbol\": \"x\"}, \"mode\": \"markers\", \"name\": \"symbol=88\", \"showlegend\": true, \"type\": \"scatter\", \"x\": [10.584141731262207, 10.067399024963379, 9.973368644714355, 9.513726234436035, 10.782214164733887], \"xaxis\": \"x\", \"y\": [3.9687998294830322, 4.66042423248291, 3.862442970275879, 4.29037618637085, 3.3397278785705566], \"yaxis\": \"y\"}, {\"hoverlabel\": {\"namelength\": 0}, \"hovertemplate\": \"<b>%{hovertext}</b><br><br>symbol=5<br>x=%{x}<br>y=%{y}<br>color=%{marker.color}\", \"hovertext\": [5.0, 5.0, 5.0, 5.0, 5.0], \"legendgroup\": \"symbol=5\", \"marker\": {\"color\": [5, 5, 5, 5, 5], \"coloraxis\": \"coloraxis\", \"opacity\": 0.5, \"symbol\": \"cross\"}, \"mode\": \"markers\", \"name\": \"symbol=5\", \"showlegend\": true, \"type\": \"scatter\", \"x\": [-3.912816286087036, -3.931668758392334, -3.97358775138855, -3.943828582763672, -3.980940341949463], \"xaxis\": \"x\", \"y\": [3.4352197647094727, 3.4493212699890137, 3.503173589706421, 3.525017261505127, 3.514378786087036], \"yaxis\": \"y\"}, {\"hoverlabel\": {\"namelength\": 0}, \"hovertemplate\": \"<b>%{hovertext}</b><br><br>symbol=31<br>x=%{x}<br>y=%{y}<br>color=%{marker.color}\", \"hovertext\": [31.0], \"legendgroup\": \"symbol=31\", \"marker\": {\"color\": [31], \"coloraxis\": \"coloraxis\", \"opacity\": 0.5, \"symbol\": \"circle\"}, \"mode\": \"markers\", \"name\": \"symbol=31\", \"showlegend\": true, \"type\": \"scatter\", \"x\": [-1.0554128885269165], \"xaxis\": \"x\", \"y\": [3.9688327312469482], \"yaxis\": \"y\"}, {\"hoverlabel\": {\"namelength\": 0}, \"hovertemplate\": \"<b>%{hovertext}</b><br><br>symbol=38<br>x=%{x}<br>y=%{y}<br>color=%{marker.color}\", \"hovertext\": [38.0, 38.0, 38.0], \"legendgroup\": \"symbol=38\", \"marker\": {\"color\": [38, 38, 38], \"coloraxis\": \"coloraxis\", \"opacity\": 0.5, \"symbol\": \"diamond\"}, \"mode\": \"markers\", \"name\": \"symbol=38\", \"showlegend\": true, \"type\": \"scatter\", \"x\": [-3.8032267093658447, -3.836965560913086, -3.880225658416748], \"xaxis\": \"x\", \"y\": [2.2101900577545166, 2.214426279067993, 2.3097083568573], \"yaxis\": \"y\"}, {\"hoverlabel\": {\"namelength\": 0}, \"hovertemplate\": \"<b>%{hovertext}</b><br><br>symbol=23<br>x=%{x}<br>y=%{y}<br>color=%{marker.color}\", \"hovertext\": [23.0, 23.0, 23.0], \"legendgroup\": \"symbol=23\", \"marker\": {\"color\": [23, 23, 23], \"coloraxis\": \"coloraxis\", \"opacity\": 0.5, \"symbol\": \"square\"}, \"mode\": \"markers\", \"name\": \"symbol=23\", \"showlegend\": true, \"type\": \"scatter\", \"x\": [-3.798926830291748, -3.8104562759399414, -3.801848888397217], \"xaxis\": \"x\", \"y\": [9.252653121948242, 9.38320255279541, 9.347867012023926], \"yaxis\": \"y\"}, {\"hoverlabel\": {\"namelength\": 0}, \"hovertemplate\": \"<b>%{hovertext}</b><br><br>symbol=106<br>x=%{x}<br>y=%{y}<br>color=%{marker.color}\", \"hovertext\": [106.0, 106.0], \"legendgroup\": \"symbol=106\", \"marker\": {\"color\": [106, 106], \"coloraxis\": \"coloraxis\", \"opacity\": 0.5, \"symbol\": \"x\"}, \"mode\": \"markers\", \"name\": \"symbol=106\", \"showlegend\": true, \"type\": \"scatter\", \"x\": [12.865713119506836, 13.063897132873535], \"xaxis\": \"x\", \"y\": [3.3427178859710693, 3.1454882621765137], \"yaxis\": \"y\"}, {\"hoverlabel\": {\"namelength\": 0}, \"hovertemplate\": \"<b>%{hovertext}</b><br><br>symbol=7<br>x=%{x}<br>y=%{y}<br>color=%{marker.color}\", \"hovertext\": [7.0, 7.0, 7.0], \"legendgroup\": \"symbol=7\", \"marker\": {\"color\": [7, 7, 7], \"coloraxis\": \"coloraxis\", \"opacity\": 0.5, \"symbol\": \"cross\"}, \"mode\": \"markers\", \"name\": \"symbol=7\", \"showlegend\": true, \"type\": \"scatter\", \"x\": [-3.233593463897705, -3.295593500137329, -3.2815418243408203], \"xaxis\": \"x\", \"y\": [5.239789009094238, 5.251554012298584, 5.255627155303955], \"yaxis\": \"y\"}, {\"hoverlabel\": {\"namelength\": 0}, \"hovertemplate\": \"<b>%{hovertext}</b><br><br>symbol=33<br>x=%{x}<br>y=%{y}<br>color=%{marker.color}\", \"hovertext\": [33.0, 33.0, 33.0, 33.0], \"legendgroup\": \"symbol=33\", \"marker\": {\"color\": [33, 33, 33, 33], \"coloraxis\": \"coloraxis\", \"opacity\": 0.5, \"symbol\": \"circle\"}, \"mode\": \"markers\", \"name\": \"symbol=33\", \"showlegend\": true, \"type\": \"scatter\", \"x\": [-2.541679620742798, -2.523977518081665, -2.4899470806121826, -2.5234789848327637], \"xaxis\": \"x\", \"y\": [8.04265022277832, 8.0398530960083, 8.09353256225586, 8.051483154296875], \"yaxis\": \"y\"}, {\"hoverlabel\": {\"namelength\": 0}, \"hovertemplate\": \"<b>%{hovertext}</b><br><br>symbol=93<br>x=%{x}<br>y=%{y}<br>color=%{marker.color}\", \"hovertext\": [93.0, 93.0, 93.0], \"legendgroup\": \"symbol=93\", \"marker\": {\"color\": [93, 93, 93], \"coloraxis\": \"coloraxis\", \"opacity\": 0.5, \"symbol\": \"diamond\"}, \"mode\": \"markers\", \"name\": \"symbol=93\", \"showlegend\": true, \"type\": \"scatter\", \"x\": [10.849223136901855, 10.580055236816406, 10.61270523071289], \"xaxis\": \"x\", \"y\": [2.3899521827697754, 2.4307353496551514, 2.2404897212982178], \"yaxis\": \"y\"}, {\"hoverlabel\": {\"namelength\": 0}, \"hovertemplate\": \"<b>%{hovertext}</b><br><br>symbol=49<br>x=%{x}<br>y=%{y}<br>color=%{marker.color}\", \"hovertext\": [49.0], \"legendgroup\": \"symbol=49\", \"marker\": {\"color\": [49], \"coloraxis\": \"coloraxis\", \"opacity\": 0.5, \"symbol\": \"square\"}, \"mode\": \"markers\", \"name\": \"symbol=49\", \"showlegend\": true, \"type\": \"scatter\", \"x\": [-2.8999993801116943], \"xaxis\": \"x\", \"y\": [1.1595675945281982], \"yaxis\": \"y\"}, {\"hoverlabel\": {\"namelength\": 0}, \"hovertemplate\": \"<b>%{hovertext}</b><br><br>symbol=86<br>x=%{x}<br>y=%{y}<br>color=%{marker.color}\", \"hovertext\": [86.0], \"legendgroup\": \"symbol=86\", \"marker\": {\"color\": [86], \"coloraxis\": \"coloraxis\", \"opacity\": 0.5, \"symbol\": \"x\"}, \"mode\": \"markers\", \"name\": \"symbol=86\", \"showlegend\": true, \"type\": \"scatter\", \"x\": [12.100892066955566], \"xaxis\": \"x\", \"y\": [5.3753180503845215], \"yaxis\": \"y\"}],\n",
              "                        {\"coloraxis\": {\"colorbar\": {\"title\": {\"text\": \"color\"}}, \"colorscale\": [[0.0, \"#0d0887\"], [0.1111111111111111, \"#46039f\"], [0.2222222222222222, \"#7201a8\"], [0.3333333333333333, \"#9c179e\"], [0.4444444444444444, \"#bd3786\"], [0.5555555555555556, \"#d8576b\"], [0.6666666666666666, \"#ed7953\"], [0.7777777777777778, \"#fb9f3a\"], [0.8888888888888888, \"#fdca26\"], [1.0, \"#f0f921\"]]}, \"height\": 900, \"legend\": {\"tracegroupgap\": 0}, \"template\": {\"data\": {\"bar\": [{\"error_x\": {\"color\": \"#2a3f5f\"}, \"error_y\": {\"color\": \"#2a3f5f\"}, \"marker\": {\"line\": {\"color\": \"#E5ECF6\", \"width\": 0.5}}, \"type\": \"bar\"}], \"barpolar\": [{\"marker\": {\"line\": {\"color\": \"#E5ECF6\", \"width\": 0.5}}, \"type\": \"barpolar\"}], \"carpet\": [{\"aaxis\": {\"endlinecolor\": \"#2a3f5f\", \"gridcolor\": \"white\", \"linecolor\": \"white\", \"minorgridcolor\": \"white\", \"startlinecolor\": \"#2a3f5f\"}, \"baxis\": {\"endlinecolor\": \"#2a3f5f\", \"gridcolor\": \"white\", \"linecolor\": \"white\", \"minorgridcolor\": \"white\", \"startlinecolor\": \"#2a3f5f\"}, \"type\": \"carpet\"}], \"choropleth\": [{\"colorbar\": {\"outlinewidth\": 0, \"ticks\": \"\"}, \"type\": \"choropleth\"}], \"contour\": [{\"colorbar\": {\"outlinewidth\": 0, \"ticks\": \"\"}, \"colorscale\": [[0.0, \"#0d0887\"], [0.1111111111111111, \"#46039f\"], [0.2222222222222222, \"#7201a8\"], [0.3333333333333333, \"#9c179e\"], [0.4444444444444444, \"#bd3786\"], [0.5555555555555556, \"#d8576b\"], [0.6666666666666666, \"#ed7953\"], [0.7777777777777778, \"#fb9f3a\"], [0.8888888888888888, \"#fdca26\"], [1.0, \"#f0f921\"]], \"type\": \"contour\"}], \"contourcarpet\": [{\"colorbar\": {\"outlinewidth\": 0, \"ticks\": \"\"}, \"type\": \"contourcarpet\"}], \"heatmap\": [{\"colorbar\": {\"outlinewidth\": 0, \"ticks\": \"\"}, \"colorscale\": [[0.0, \"#0d0887\"], [0.1111111111111111, \"#46039f\"], [0.2222222222222222, \"#7201a8\"], [0.3333333333333333, \"#9c179e\"], [0.4444444444444444, \"#bd3786\"], [0.5555555555555556, \"#d8576b\"], [0.6666666666666666, \"#ed7953\"], [0.7777777777777778, \"#fb9f3a\"], [0.8888888888888888, \"#fdca26\"], [1.0, \"#f0f921\"]], \"type\": \"heatmap\"}], \"heatmapgl\": [{\"colorbar\": {\"outlinewidth\": 0, \"ticks\": \"\"}, \"colorscale\": [[0.0, \"#0d0887\"], [0.1111111111111111, \"#46039f\"], [0.2222222222222222, \"#7201a8\"], [0.3333333333333333, \"#9c179e\"], [0.4444444444444444, \"#bd3786\"], [0.5555555555555556, \"#d8576b\"], [0.6666666666666666, \"#ed7953\"], [0.7777777777777778, \"#fb9f3a\"], [0.8888888888888888, \"#fdca26\"], [1.0, \"#f0f921\"]], \"type\": \"heatmapgl\"}], \"histogram\": [{\"marker\": {\"colorbar\": {\"outlinewidth\": 0, \"ticks\": \"\"}}, \"type\": \"histogram\"}], \"histogram2d\": [{\"colorbar\": {\"outlinewidth\": 0, \"ticks\": \"\"}, \"colorscale\": [[0.0, \"#0d0887\"], [0.1111111111111111, \"#46039f\"], [0.2222222222222222, \"#7201a8\"], [0.3333333333333333, \"#9c179e\"], [0.4444444444444444, \"#bd3786\"], [0.5555555555555556, \"#d8576b\"], [0.6666666666666666, \"#ed7953\"], [0.7777777777777778, \"#fb9f3a\"], [0.8888888888888888, \"#fdca26\"], [1.0, \"#f0f921\"]], \"type\": \"histogram2d\"}], \"histogram2dcontour\": [{\"colorbar\": {\"outlinewidth\": 0, \"ticks\": \"\"}, \"colorscale\": [[0.0, \"#0d0887\"], [0.1111111111111111, \"#46039f\"], [0.2222222222222222, \"#7201a8\"], [0.3333333333333333, \"#9c179e\"], [0.4444444444444444, \"#bd3786\"], [0.5555555555555556, \"#d8576b\"], [0.6666666666666666, \"#ed7953\"], [0.7777777777777778, \"#fb9f3a\"], [0.8888888888888888, \"#fdca26\"], [1.0, \"#f0f921\"]], \"type\": \"histogram2dcontour\"}], \"mesh3d\": [{\"colorbar\": {\"outlinewidth\": 0, \"ticks\": \"\"}, \"type\": \"mesh3d\"}], \"parcoords\": [{\"line\": {\"colorbar\": {\"outlinewidth\": 0, \"ticks\": \"\"}}, \"type\": \"parcoords\"}], \"pie\": [{\"automargin\": true, \"type\": \"pie\"}], \"scatter\": [{\"marker\": {\"colorbar\": {\"outlinewidth\": 0, \"ticks\": \"\"}}, \"type\": \"scatter\"}], \"scatter3d\": [{\"line\": {\"colorbar\": {\"outlinewidth\": 0, \"ticks\": \"\"}}, \"marker\": {\"colorbar\": {\"outlinewidth\": 0, \"ticks\": \"\"}}, \"type\": \"scatter3d\"}], \"scattercarpet\": [{\"marker\": {\"colorbar\": {\"outlinewidth\": 0, \"ticks\": \"\"}}, \"type\": \"scattercarpet\"}], \"scattergeo\": [{\"marker\": {\"colorbar\": {\"outlinewidth\": 0, \"ticks\": \"\"}}, \"type\": \"scattergeo\"}], \"scattergl\": [{\"marker\": {\"colorbar\": {\"outlinewidth\": 0, \"ticks\": \"\"}}, \"type\": \"scattergl\"}], \"scattermapbox\": [{\"marker\": {\"colorbar\": {\"outlinewidth\": 0, \"ticks\": \"\"}}, \"type\": \"scattermapbox\"}], \"scatterpolar\": [{\"marker\": {\"colorbar\": {\"outlinewidth\": 0, \"ticks\": \"\"}}, \"type\": \"scatterpolar\"}], \"scatterpolargl\": [{\"marker\": {\"colorbar\": {\"outlinewidth\": 0, \"ticks\": \"\"}}, \"type\": \"scatterpolargl\"}], \"scatterternary\": [{\"marker\": {\"colorbar\": {\"outlinewidth\": 0, \"ticks\": \"\"}}, \"type\": \"scatterternary\"}], \"surface\": [{\"colorbar\": {\"outlinewidth\": 0, \"ticks\": \"\"}, \"colorscale\": [[0.0, \"#0d0887\"], [0.1111111111111111, \"#46039f\"], [0.2222222222222222, \"#7201a8\"], [0.3333333333333333, \"#9c179e\"], [0.4444444444444444, \"#bd3786\"], [0.5555555555555556, \"#d8576b\"], [0.6666666666666666, \"#ed7953\"], [0.7777777777777778, \"#fb9f3a\"], [0.8888888888888888, \"#fdca26\"], [1.0, \"#f0f921\"]], \"type\": \"surface\"}], \"table\": [{\"cells\": {\"fill\": {\"color\": \"#EBF0F8\"}, \"line\": {\"color\": \"white\"}}, \"header\": {\"fill\": {\"color\": \"#C8D4E3\"}, \"line\": {\"color\": \"white\"}}, \"type\": \"table\"}]}, \"layout\": {\"annotationdefaults\": {\"arrowcolor\": \"#2a3f5f\", \"arrowhead\": 0, \"arrowwidth\": 1}, \"coloraxis\": {\"colorbar\": {\"outlinewidth\": 0, \"ticks\": \"\"}}, \"colorscale\": {\"diverging\": [[0, \"#8e0152\"], [0.1, \"#c51b7d\"], [0.2, \"#de77ae\"], [0.3, \"#f1b6da\"], [0.4, \"#fde0ef\"], [0.5, \"#f7f7f7\"], [0.6, \"#e6f5d0\"], [0.7, \"#b8e186\"], [0.8, \"#7fbc41\"], [0.9, \"#4d9221\"], [1, \"#276419\"]], \"sequential\": [[0.0, \"#0d0887\"], [0.1111111111111111, \"#46039f\"], [0.2222222222222222, \"#7201a8\"], [0.3333333333333333, \"#9c179e\"], [0.4444444444444444, \"#bd3786\"], [0.5555555555555556, \"#d8576b\"], [0.6666666666666666, \"#ed7953\"], [0.7777777777777778, \"#fb9f3a\"], [0.8888888888888888, \"#fdca26\"], [1.0, \"#f0f921\"]], \"sequentialminus\": [[0.0, \"#0d0887\"], [0.1111111111111111, \"#46039f\"], [0.2222222222222222, \"#7201a8\"], [0.3333333333333333, \"#9c179e\"], [0.4444444444444444, \"#bd3786\"], [0.5555555555555556, \"#d8576b\"], [0.6666666666666666, \"#ed7953\"], [0.7777777777777778, \"#fb9f3a\"], [0.8888888888888888, \"#fdca26\"], [1.0, \"#f0f921\"]]}, \"colorway\": [\"#636efa\", \"#EF553B\", \"#00cc96\", \"#ab63fa\", \"#FFA15A\", \"#19d3f3\", \"#FF6692\", \"#B6E880\", \"#FF97FF\", \"#FECB52\"], \"font\": {\"color\": \"#2a3f5f\"}, \"geo\": {\"bgcolor\": \"white\", \"lakecolor\": \"white\", \"landcolor\": \"#E5ECF6\", \"showlakes\": true, \"showland\": true, \"subunitcolor\": \"white\"}, \"hoverlabel\": {\"align\": \"left\"}, \"hovermode\": \"closest\", \"mapbox\": {\"style\": \"light\"}, \"paper_bgcolor\": \"white\", \"plot_bgcolor\": \"#E5ECF6\", \"polar\": {\"angularaxis\": {\"gridcolor\": \"white\", \"linecolor\": \"white\", \"ticks\": \"\"}, \"bgcolor\": \"#E5ECF6\", \"radialaxis\": {\"gridcolor\": \"white\", \"linecolor\": \"white\", \"ticks\": \"\"}}, \"scene\": {\"xaxis\": {\"backgroundcolor\": \"#E5ECF6\", \"gridcolor\": \"white\", \"gridwidth\": 2, \"linecolor\": \"white\", \"showbackground\": true, \"ticks\": \"\", \"zerolinecolor\": \"white\"}, \"yaxis\": {\"backgroundcolor\": \"#E5ECF6\", \"gridcolor\": \"white\", \"gridwidth\": 2, \"linecolor\": \"white\", \"showbackground\": true, \"ticks\": \"\", \"zerolinecolor\": \"white\"}, \"zaxis\": {\"backgroundcolor\": \"#E5ECF6\", \"gridcolor\": \"white\", \"gridwidth\": 2, \"linecolor\": \"white\", \"showbackground\": true, \"ticks\": \"\", \"zerolinecolor\": \"white\"}}, \"shapedefaults\": {\"line\": {\"color\": \"#2a3f5f\"}}, \"ternary\": {\"aaxis\": {\"gridcolor\": \"white\", \"linecolor\": \"white\", \"ticks\": \"\"}, \"baxis\": {\"gridcolor\": \"white\", \"linecolor\": \"white\", \"ticks\": \"\"}, \"bgcolor\": \"#E5ECF6\", \"caxis\": {\"gridcolor\": \"white\", \"linecolor\": \"white\", \"ticks\": \"\"}}, \"title\": {\"x\": 0.05}, \"xaxis\": {\"automargin\": true, \"gridcolor\": \"white\", \"linecolor\": \"white\", \"ticks\": \"\", \"title\": {\"standoff\": 15}, \"zerolinecolor\": \"white\", \"zerolinewidth\": 2}, \"yaxis\": {\"automargin\": true, \"gridcolor\": \"white\", \"linecolor\": \"white\", \"ticks\": \"\", \"title\": {\"standoff\": 15}, \"zerolinecolor\": \"white\", \"zerolinewidth\": 2}}}, \"title\": {\"text\": \"UMAP Embedding Projection  Triplet\"}, \"width\": 1200, \"xaxis\": {\"anchor\": \"y\", \"domain\": [0.0, 1.0], \"title\": {\"text\": \"x\"}}, \"yaxis\": {\"anchor\": \"x\", \"domain\": [0.0, 1.0], \"title\": {\"text\": \"y\"}}},\n",
              "                        {\"responsive\": true}\n",
              "                    ).then(function(){\n",
              "                            \n",
              "var gd = document.getElementById('f8613d1e-150b-4a84-91a3-ea655b15cec3');\n",
              "var x = new MutationObserver(function (mutations, observer) {{\n",
              "        var display = window.getComputedStyle(gd).display;\n",
              "        if (!display || display === 'none') {{\n",
              "            console.log([gd, 'removed!']);\n",
              "            Plotly.purge(gd);\n",
              "            observer.disconnect();\n",
              "        }}\n",
              "}});\n",
              "\n",
              "// Listen for the removal of the full notebook cells\n",
              "var notebookContainer = gd.closest('#notebook-container');\n",
              "if (notebookContainer) {{\n",
              "    x.observe(notebookContainer, {childList: true});\n",
              "}}\n",
              "\n",
              "// Listen for the clearing of the current output cell\n",
              "var outputEl = gd.closest('.output');\n",
              "if (outputEl) {{\n",
              "    x.observe(outputEl, {childList: true});\n",
              "}}\n",
              "\n",
              "                        })\n",
              "                };\n",
              "                \n",
              "            </script>\n",
              "        </div>\n",
              "</body>\n",
              "</html>"
            ]
          },
          "metadata": {
            "tags": []
          }
        }
      ]
    },
    {
      "cell_type": "code",
      "metadata": {
        "id": "6SjVhauR2rah"
      },
      "source": [
        ""
      ],
      "execution_count": null,
      "outputs": []
    }
  ]
}