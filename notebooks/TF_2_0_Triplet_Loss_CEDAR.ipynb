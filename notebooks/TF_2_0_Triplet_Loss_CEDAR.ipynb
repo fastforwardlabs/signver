{
  "nbformat": 4,
  "nbformat_minor": 0,
  "metadata": {
    "colab": {
      "name": "TF 2.0 Triplet Loss - CEDAR.ipynb",
      "provenance": [],
      "toc_visible": true,
      "machine_shape": "hm"
    },
    "kernelspec": {
      "name": "python3",
      "display_name": "Python 3"
    },
    "language_info": {
      "name": "python"
    },
    "accelerator": "GPU"
  },
  "cells": [
    {
      "cell_type": "code",
      "metadata": {
        "colab": {
          "base_uri": "https://localhost:8080/"
        },
        "id": "U3OBIbhbRG61",
        "outputId": "b6ddd034-3963-4c5a-9d2c-21bb6a5bdb04"
      },
      "source": [
        "!pip install -q -U tensorflow-addons umap-learn"
      ],
      "execution_count": null,
      "outputs": [
        {
          "output_type": "stream",
          "text": [
            "\u001b[K     |████████████████████████████████| 686kB 4.0MB/s \n",
            "\u001b[K     |████████████████████████████████| 81kB 11.2MB/s \n",
            "\u001b[K     |████████████████████████████████| 1.2MB 52.6MB/s \n",
            "\u001b[?25h  Building wheel for umap-learn (setup.py) ... \u001b[?25l\u001b[?25hdone\n",
            "  Building wheel for pynndescent (setup.py) ... \u001b[?25l\u001b[?25hdone\n"
          ],
          "name": "stdout"
        }
      ]
    },
    {
      "cell_type": "code",
      "metadata": {
        "id": "nPBdRtAQYpzL"
      },
      "source": [
        "import random\n",
        "import numpy as np\n",
        "import matplotlib.pyplot as plt\n",
        "import statsmodels.api as sm\n",
        "import os\n",
        "\n",
        "np.random.seed(2018)\n",
        "np.random.RandomState(2018)\n",
        "random.seed(2018)\n",
        "\n",
        "from tensorflow.keras.preprocessing.image import load_img, img_to_array\n",
        "  \n",
        "from skimage.filters import try_all_threshold, threshold_otsu\n",
        "\n",
        "import io\n",
        "import numpy as np\n",
        "import tensorflow as tf\n",
        "import tensorflow_addons as tfa\n",
        "import tensorflow_datasets as tfds\n",
        "import umap\n",
        "\n",
        "from tensorflow.keras.applications import resnet, EfficientNetB0\n",
        "from tensorflow.keras import layers\n",
        "from tensorflow.keras import Model\n",
        "\n",
        "import random\n",
        "import tensorflow as tf\n",
        "from tqdm.notebook import tqdm\n",
        "\n",
        "from tensorflow.keras.datasets import mnist\n",
        " \n",
        "from tensorflow.keras.datasets import mnist, cifar10\n",
        "from tensorflow.keras.models import Model\n",
        "from tensorflow.keras.layers import Input, Flatten, Dense, Dropout, Lambda, Conv2D, MaxPooling2D\n",
        "from tensorflow.keras.optimizers import RMSprop\n",
        "from tensorflow.keras import backend as K\n",
        "from tensorflow.keras.utils import model_to_dot\n",
        "\n",
        "from IPython.display import SVG\n",
        "from matplotlib import pyplot as plt\n",
        "import math\n",
        "import plotly.express as px\n",
        "from sklearn.model_selection import train_test_split\n",
        "\n",
        "np.random.seed(37)"
      ],
      "execution_count": 49,
      "outputs": []
    },
    {
      "cell_type": "code",
      "metadata": {
        "id": "giJKjLn68W0_"
      },
      "source": [
        ""
      ],
      "execution_count": null,
      "outputs": []
    },
    {
      "cell_type": "code",
      "metadata": {
        "id": "pMjs26SsWswX"
      },
      "source": [
        "def save_numpy(arr, file_path):\n",
        "  with open(file_path, 'wb') as f:\n",
        "    np.save(f, arr)\n",
        "\n",
        "def load_numpy(file_path):  \n",
        "  with open(file_path, 'rb') as f:\n",
        "      return np.load(f) "
      ],
      "execution_count": null,
      "outputs": []
    },
    {
      "cell_type": "code",
      "metadata": {
        "colab": {
          "base_uri": "https://localhost:8080/"
        },
        "id": "Zr6d-HOwWxtW",
        "outputId": "5c5f1dea-6718-4721-b299-c170e083cbd2"
      },
      "source": [
        "data_base_path = \"drive/MyDrive/mlexperiments/data/cedar\"\n",
        "img_base_path = data_base_path\n",
        "forg_list = os.listdir(data_base_path + \"/full_forg\")\n",
        "orig_list = os.listdir(data_base_path + \"/full_org\")\n",
        "forg_list.sort()\n",
        "len(forg_list)\n",
        "forg_list.remove(\"Thumbs.db\")\n",
        "orig_list.remove(\"Thumbs.db\")\n",
        "forg_list[:2], orig_list[:2]"
      ],
      "execution_count": null,
      "outputs": [
        {
          "output_type": "execute_result",
          "data": {
            "text/plain": [
              "(['forgeries_10_1.png', 'forgeries_10_10.png'],\n",
              " ['original_14_19.png', 'original_14_18.png'])"
            ]
          },
          "metadata": {
            "tags": []
          },
          "execution_count": 3
        }
      ]
    },
    {
      "cell_type": "markdown",
      "metadata": {
        "id": "J8Gj8eDQaCa0"
      },
      "source": [
        " ## Structuring as Classification Task\n",
        "\n",
        "- Each original signer is an individual class. 55 signers each with 24 examples.\n",
        "- Each forgery is an individual class. 55 forgeries, each with 24 examples.\n",
        "- 110 example classes total"
      ]
    },
    {
      "cell_type": "code",
      "metadata": {
        "id": "zt9lw8kWYnu3"
      },
      "source": [
        "img_target_size = (224, 224)\n",
        "\n",
        "def threshold_image(img):\n",
        "  thresh = threshold_otsu(img)\n",
        "  return img > thresh\n",
        "\n",
        "def get_data_np():\n",
        "  orig_holder = []\n",
        "  label_holder = []\n",
        "  data_holder = []\n",
        "\n",
        "  for i in tqdm(range(1,56)):\n",
        "    for j in range(1,25): \n",
        "      img_path = data_base_path + \"/full_org/original_\" + str(i) + \"_\" + str(j) + \".png\" \n",
        "      img_np = load_img(img_path, target_size=img_target_size )\n",
        "      img_np = np.squeeze(img_to_array(img_np)) \n",
        "      img_np = resnet.preprocess_input(img_np)\n",
        "      img_np = threshold_image(img_np) \n",
        "       \n",
        "      data_holder.append(img_np )\n",
        "      label_holder.append(i)\n",
        "  for i in tqdm(range(1,56)):\n",
        "    for j in range(1,25): \n",
        "      img_path = data_base_path + \"/full_forg/forgeries_\" + str(i) + \"_\" + str(j) + \".png\" \n",
        "      img_np = load_img(img_path, target_size=img_target_size )\n",
        "      img_np = np.squeeze(img_to_array(img_np)) \n",
        "      img_np = threshold_image(img_np)\n",
        "      img_np = resnet.preprocess_input(img_np)\n",
        "       \n",
        "      data_holder.append(img_np )\n",
        "      label_holder.append(i+55)\n",
        "\n",
        "  return np.array(data_holder), np.array(label_holder)\n",
        "\n",
        "def generate_data():\n",
        "  X, y = get_data_np()\n",
        "  save_numpy(X, data_base_path+\"/numpy/x.npy\")\n",
        "  save_numpy(y, data_base_path+\"/numpy/y.npy\")\n",
        "\n",
        "\n",
        "def plot_features(test_features, y, title=\"UMAP Embedding Projection\", metric=\"euclidean\"): \n",
        "  print(\"Compute UMAP for vector with shape\", test_features.shape, \" metric:\", metric)\n",
        "  reducer = umap.UMAP(n_neighbors=15, n_components=2, metric=metric)\n",
        "  embedding = reducer.fit_transform(test_features)\n",
        "\n",
        "  colors = [ str(x) for x in y] \n",
        "  acm = [x for x in colors]\n",
        "\n",
        "  fig = px.scatter(\n",
        "      x=embedding[:, 0],\n",
        "      y=embedding[:, 1],\n",
        "      color=acm,\n",
        "      opacity=0.5,\n",
        "      hover_name=acm,\n",
        "      symbol=acm,\n",
        "      width=1200,\n",
        "      height=900,\n",
        "      title=title,\n",
        "  )\n",
        "  fig.show()  \n",
        "\n",
        "def plot_history(history, title=\"\"): \n",
        "   \n",
        "  # Plot training & validation loss values\n",
        "  plt.plot(history.history['loss'])\n",
        "  plt.plot(history.history['val_loss'])\n",
        "  plt.title('Model Losss | ' + title)\n",
        "  plt.ylabel('Loss')\n",
        "  plt.xlabel('Epoch')\n",
        "  plt.legend(['Train', 'Test'], loc='upper left')\n",
        "\n",
        "  \n",
        "  plt.show()"
      ],
      "execution_count": null,
      "outputs": []
    },
    {
      "cell_type": "code",
      "metadata": {
        "colab": {
          "base_uri": "https://localhost:8080/"
        },
        "id": "vBMM4cOkBbgM",
        "outputId": "bd63ca12-7139-4473-cb73-bfdd05dc6033"
      },
      "source": [
        "X = load_numpy(data_base_path+\"/numpy/x.npy\") \n",
        "y = load_numpy(data_base_path+\"/numpy/y.npy\") \n",
        "X.shape, y.shape"
      ],
      "execution_count": null,
      "outputs": [
        {
          "output_type": "execute_result",
          "data": {
            "text/plain": [
              "((2640, 224, 224, 3), (2640,))"
            ]
          },
          "metadata": {
            "tags": []
          },
          "execution_count": 20
        }
      ]
    },
    {
      "cell_type": "code",
      "metadata": {
        "colab": {
          "base_uri": "https://localhost:8080/",
          "height": 219
        },
        "id": "k0vIyWyqvlCT",
        "outputId": "6ae455f3-faed-440f-a1bf-127488156983"
      },
      "source": [
        "X_train, X_test, y_train, y_test = train_test_split( X, y, test_size=0.2, random_state=42)\n",
        "plt.imshow(np.concatenate((X[0],X[2]), axis=1));"
      ],
      "execution_count": null,
      "outputs": [
        {
          "output_type": "display_data",
          "data": {
            "image/png": "[encoded data removed]",
            "text/plain": [
              "<Figure size 432x288 with 1 Axes>"
            ]
          },
          "metadata": {
            "tags": [],
            "needs_background": "light"
          }
        }
      ]
    },
    {
      "cell_type": "code",
      "metadata": {
        "id": "fQ1soU1erXbt"
      },
      "source": [
        "input_shape =(224,224,3)\n",
        "def get_resnet(input_shape):\n",
        "  base_cnn = resnet.ResNet50(\n",
        "    weights=\"imagenet\", input_shape=input_shape, include_top=False\n",
        "  )\n",
        "\n",
        "  flatten = layers.Flatten()(base_cnn.output)\n",
        "  dense1 = layers.Dense(512, activation=\"relu\")(flatten)\n",
        "  dense1 = layers.BatchNormalization()(dense1)\n",
        "  dense2 = layers.Dense(256, activation=\"relu\")(dense1)\n",
        "  dense2 = layers.BatchNormalization()(dense2)\n",
        "  output = layers.Dense(256)(dense1)\n",
        "  output = layers.Lambda(lambda x: tf.math.l2_normalize(x, axis=1))(output) # L2 normalize embeddings\n",
        "\n",
        "  embedding = Model(base_cnn.input, output, name=\"Embedding\")\n",
        "\n",
        "  # trainable = False\n",
        "  # for layer in base_cnn.layers:\n",
        "  #     if layer.name == \"conv5_block1_out\":\n",
        "  #         trainable = True\n",
        "  #     layer.trainable = trainable \n",
        "  return embedding   \n",
        "\n",
        "input_shape =(224,224,3)\n",
        "def get_effB0(input_shape):\n",
        "  base_cnn = EfficientNetB0. resnet.ResNet50(\n",
        "    weights=\"imagenet\", input_shape=input_shape, include_top=False\n",
        "  )\n",
        "\n",
        "  flatten = layers.Flatten()(base_cnn.output)\n",
        "  dense1 = layers.Dense(512, activation=\"relu\")(flatten)\n",
        "  dense1 = layers.BatchNormalization()(dense1)\n",
        "  dense2 = layers.Dense(256, activation=\"relu\")(dense1)\n",
        "  dense2 = layers.BatchNormalization()(dense2)\n",
        "  output = layers.Dense(256)(dense1)\n",
        "  output = layers.Lambda(lambda x: tf.math.l2_normalize(x, axis=1))(output) # L2 normalize embeddings\n",
        "\n",
        "  embedding = Model(base_cnn.input, output, name=\"Embedding\")\n",
        "\n",
        "  # trainable = False\n",
        "  # for layer in base_cnn.layers:\n",
        "  #     if layer.name == \"conv5_block1_out\":\n",
        "  #         trainable = True\n",
        "  #     layer.trainable = trainable \n",
        "  return embedding  \n"
      ],
      "execution_count": null,
      "outputs": []
    },
    {
      "cell_type": "code",
      "metadata": {
        "id": "4mjsbi9Ir9WG"
      },
      "source": [
        "# Compile the model\n",
        "# warning .. without setting batch size to something reasonable like 64, \n",
        "# training loss degrades to nan .. oops!\n",
        "num_epochs = 80\n",
        "batch_size = 64\n",
        "\n",
        "\n",
        "initial_learning_rate = 0.001\n",
        "lr_schedule = tf.keras.optimizers.schedules.ExponentialDecay(\n",
        "    initial_learning_rate,\n",
        "    decay_steps=10,\n",
        "    decay_rate=0.80,\n",
        "    staircase=False)\n",
        "\n",
        "triplet_model = get_resnet(input_shape)\n",
        "triplet_model.compile(\n",
        "    optimizer=tf.keras.optimizers.Adam(learning_rate=lr_schedule),  \n",
        "    loss=tfa.losses.TripletSemiHardLoss())"
      ],
      "execution_count": null,
      "outputs": []
    },
    {
      "cell_type": "code",
      "metadata": {
        "colab": {
          "base_uri": "https://localhost:8080/"
        },
        "id": "HB6ifu02r-IC",
        "outputId": "96ff3ff3-454f-48d0-b318-8c858997b833"
      },
      "source": [
        "# Train the network\n",
        "triplet_history = triplet_model.fit(\n",
        "    X_train, y_train, \n",
        "    batch_size=batch_size,\n",
        "    validation_data=(X_test, y_test),\n",
        "    epochs=num_epochs)"
      ],
      "execution_count": null,
      "outputs": [
        {
          "output_type": "stream",
          "text": [
            "Epoch 1/80\n",
            "33/33 [==============================] - 17s 368ms/step - loss: 0.9128 - val_loss: 0.9928\n",
            "Epoch 2/80\n",
            "33/33 [==============================] - 11s 342ms/step - loss: 0.8195 - val_loss: 0.9930\n",
            "Epoch 3/80\n",
            "33/33 [==============================] - 11s 342ms/step - loss: 0.7282 - val_loss: 0.9940\n",
            "Epoch 4/80\n",
            "33/33 [==============================] - 11s 342ms/step - loss: 0.6621 - val_loss: 0.9863\n",
            "Epoch 5/80\n",
            "33/33 [==============================] - 11s 342ms/step - loss: 0.5838 - val_loss: 0.9399\n",
            "Epoch 6/80\n",
            "33/33 [==============================] - 11s 342ms/step - loss: 0.5255 - val_loss: 0.8154\n",
            "Epoch 7/80\n",
            "33/33 [==============================] - 11s 342ms/step - loss: 0.5690 - val_loss: 0.7495\n",
            "Epoch 8/80\n",
            "33/33 [==============================] - 11s 342ms/step - loss: 0.5200 - val_loss: 0.7074\n",
            "Epoch 9/80\n",
            "33/33 [==============================] - 11s 341ms/step - loss: 0.5480 - val_loss: 0.6859\n",
            "Epoch 10/80\n",
            "33/33 [==============================] - 11s 342ms/step - loss: 0.5005 - val_loss: 0.6693\n",
            "Epoch 11/80\n",
            "33/33 [==============================] - 11s 342ms/step - loss: 0.5263 - val_loss: 0.6542\n",
            "Epoch 12/80\n",
            "33/33 [==============================] - 11s 342ms/step - loss: 0.5331 - val_loss: 0.6479\n",
            "Epoch 13/80\n",
            "33/33 [==============================] - 11s 341ms/step - loss: 0.5069 - val_loss: 0.6395\n",
            "Epoch 14/80\n",
            "33/33 [==============================] - 11s 342ms/step - loss: 0.4945 - val_loss: 0.6340\n",
            "Epoch 15/80\n",
            "33/33 [==============================] - 11s 342ms/step - loss: 0.5208 - val_loss: 0.6285\n",
            "Epoch 16/80\n",
            "33/33 [==============================] - 11s 342ms/step - loss: 0.5026 - val_loss: 0.6258\n",
            "Epoch 17/80\n",
            "33/33 [==============================] - 11s 342ms/step - loss: 0.5084 - val_loss: 0.6227\n",
            "Epoch 18/80\n",
            "33/33 [==============================] - 11s 341ms/step - loss: 0.5212 - val_loss: 0.6218\n",
            "Epoch 19/80\n",
            "33/33 [==============================] - 11s 342ms/step - loss: 0.4726 - val_loss: 0.6201\n",
            "Epoch 20/80\n",
            "33/33 [==============================] - 11s 342ms/step - loss: 0.4763 - val_loss: 0.6196\n",
            "Epoch 21/80\n",
            "33/33 [==============================] - 11s 342ms/step - loss: 0.4839 - val_loss: 0.6192\n",
            "Epoch 22/80\n",
            "33/33 [==============================] - 11s 342ms/step - loss: 0.5026 - val_loss: 0.6195\n",
            "Epoch 23/80\n",
            "33/33 [==============================] - 11s 342ms/step - loss: 0.5118 - val_loss: 0.6192\n",
            "Epoch 24/80\n",
            "33/33 [==============================] - 11s 342ms/step - loss: 0.5025 - val_loss: 0.6193\n",
            "Epoch 25/80\n",
            "33/33 [==============================] - 11s 341ms/step - loss: 0.5130 - val_loss: 0.6192\n",
            "Epoch 26/80\n",
            "33/33 [==============================] - 11s 342ms/step - loss: 0.5140 - val_loss: 0.6191\n",
            "Epoch 27/80\n",
            "33/33 [==============================] - 11s 342ms/step - loss: 0.5068 - val_loss: 0.6191\n",
            "Epoch 28/80\n",
            "33/33 [==============================] - 11s 341ms/step - loss: 0.5285 - val_loss: 0.6192\n",
            "Epoch 29/80\n",
            "33/33 [==============================] - 11s 341ms/step - loss: 0.5242 - val_loss: 0.6192\n",
            "Epoch 30/80\n",
            "33/33 [==============================] - 11s 341ms/step - loss: 0.4843 - val_loss: 0.6191\n",
            "Epoch 31/80\n",
            "33/33 [==============================] - 11s 342ms/step - loss: 0.5039 - val_loss: 0.6191\n",
            "Epoch 32/80\n",
            "33/33 [==============================] - 11s 342ms/step - loss: 0.5165 - val_loss: 0.6192\n",
            "Epoch 33/80\n",
            "33/33 [==============================] - 11s 342ms/step - loss: 0.5385 - val_loss: 0.6192\n",
            "Epoch 34/80\n",
            "33/33 [==============================] - 11s 342ms/step - loss: 0.4938 - val_loss: 0.6191\n",
            "Epoch 35/80\n",
            "33/33 [==============================] - 11s 342ms/step - loss: 0.4760 - val_loss: 0.6191\n",
            "Epoch 36/80\n",
            "33/33 [==============================] - 11s 342ms/step - loss: 0.4779 - val_loss: 0.6191\n",
            "Epoch 37/80\n",
            "33/33 [==============================] - 11s 342ms/step - loss: 0.4863 - val_loss: 0.6193\n",
            "Epoch 38/80\n",
            "33/33 [==============================] - 11s 341ms/step - loss: 0.4733 - val_loss: 0.6199\n",
            "Epoch 39/80\n",
            "33/33 [==============================] - 11s 342ms/step - loss: 0.5058 - val_loss: 0.6199\n",
            "Epoch 40/80\n",
            "33/33 [==============================] - 11s 342ms/step - loss: 0.5046 - val_loss: 0.6201\n",
            "Epoch 41/80\n",
            "33/33 [==============================] - 11s 342ms/step - loss: 0.5188 - val_loss: 0.6193\n",
            "Epoch 42/80\n",
            "33/33 [==============================] - 11s 342ms/step - loss: 0.5384 - val_loss: 0.6193\n",
            "Epoch 43/80\n",
            "33/33 [==============================] - 11s 342ms/step - loss: 0.4877 - val_loss: 0.6195\n",
            "Epoch 44/80\n",
            "33/33 [==============================] - 11s 342ms/step - loss: 0.4886 - val_loss: 0.6192\n",
            "Epoch 45/80\n",
            "33/33 [==============================] - 11s 342ms/step - loss: 0.5107 - val_loss: 0.6192\n",
            "Epoch 46/80\n",
            "33/33 [==============================] - 11s 342ms/step - loss: 0.4985 - val_loss: 0.6191\n",
            "Epoch 47/80\n",
            "33/33 [==============================] - 11s 342ms/step - loss: 0.4899 - val_loss: 0.6190\n",
            "Epoch 48/80\n",
            "33/33 [==============================] - 11s 342ms/step - loss: 0.4828 - val_loss: 0.6192\n",
            "Epoch 49/80\n",
            "33/33 [==============================] - 11s 342ms/step - loss: 0.4865 - val_loss: 0.6191\n",
            "Epoch 50/80\n",
            "33/33 [==============================] - 11s 342ms/step - loss: 0.5087 - val_loss: 0.6191\n",
            "Epoch 51/80\n",
            "33/33 [==============================] - 11s 342ms/step - loss: 0.5278 - val_loss: 0.6192\n",
            "Epoch 52/80\n",
            "33/33 [==============================] - 11s 342ms/step - loss: 0.5125 - val_loss: 0.6191\n",
            "Epoch 53/80\n",
            "33/33 [==============================] - 11s 342ms/step - loss: 0.5302 - val_loss: 0.6191\n",
            "Epoch 54/80\n",
            "33/33 [==============================] - 11s 342ms/step - loss: 0.5327 - val_loss: 0.6190\n",
            "Epoch 55/80\n",
            "33/33 [==============================] - 11s 342ms/step - loss: 0.5156 - val_loss: 0.6190\n",
            "Epoch 56/80\n",
            "33/33 [==============================] - 11s 342ms/step - loss: 0.4801 - val_loss: 0.6190\n",
            "Epoch 57/80\n",
            "33/33 [==============================] - 11s 342ms/step - loss: 0.4931 - val_loss: 0.6190\n",
            "Epoch 58/80\n",
            "33/33 [==============================] - 11s 342ms/step - loss: 0.4856 - val_loss: 0.6197\n",
            "Epoch 59/80\n",
            "33/33 [==============================] - 11s 342ms/step - loss: 0.5206 - val_loss: 0.6190\n",
            "Epoch 60/80\n",
            "33/33 [==============================] - 11s 342ms/step - loss: 0.5476 - val_loss: 0.6191\n",
            "Epoch 61/80\n",
            "33/33 [==============================] - 11s 342ms/step - loss: 0.5065 - val_loss: 0.6192\n",
            "Epoch 62/80\n",
            "33/33 [==============================] - 11s 342ms/step - loss: 0.5036 - val_loss: 0.6190\n",
            "Epoch 63/80\n",
            "33/33 [==============================] - 11s 342ms/step - loss: 0.4931 - val_loss: 0.6182\n",
            "Epoch 64/80\n",
            "33/33 [==============================] - 11s 342ms/step - loss: 0.5121 - val_loss: 0.6182\n",
            "Epoch 65/80\n",
            "33/33 [==============================] - 11s 342ms/step - loss: 0.5125 - val_loss: 0.6190\n",
            "Epoch 66/80\n",
            "33/33 [==============================] - 11s 342ms/step - loss: 0.4834 - val_loss: 0.6190\n",
            "Epoch 67/80\n",
            "33/33 [==============================] - 11s 342ms/step - loss: 0.5010 - val_loss: 0.6191\n",
            "Epoch 68/80\n",
            "33/33 [==============================] - 11s 342ms/step - loss: 0.4838 - val_loss: 0.6190\n",
            "Epoch 69/80\n",
            "33/33 [==============================] - 11s 342ms/step - loss: 0.4903 - val_loss: 0.6190\n",
            "Epoch 70/80\n",
            "33/33 [==============================] - 11s 342ms/step - loss: 0.5021 - val_loss: 0.6190\n",
            "Epoch 71/80\n",
            "33/33 [==============================] - 11s 342ms/step - loss: 0.5083 - val_loss: 0.6190\n",
            "Epoch 72/80\n",
            "33/33 [==============================] - 11s 342ms/step - loss: 0.4951 - val_loss: 0.6190\n",
            "Epoch 73/80\n",
            "33/33 [==============================] - 11s 342ms/step - loss: 0.4853 - val_loss: 0.6191\n",
            "Epoch 74/80\n",
            "33/33 [==============================] - 11s 342ms/step - loss: 0.4991 - val_loss: 0.6189\n",
            "Epoch 75/80\n",
            "33/33 [==============================] - 11s 342ms/step - loss: 0.5077 - val_loss: 0.6189\n",
            "Epoch 76/80\n",
            "33/33 [==============================] - 11s 342ms/step - loss: 0.5340 - val_loss: 0.6190\n",
            "Epoch 77/80\n",
            "33/33 [==============================] - 11s 342ms/step - loss: 0.4665 - val_loss: 0.6190\n",
            "Epoch 78/80\n",
            "33/33 [==============================] - 11s 341ms/step - loss: 0.5236 - val_loss: 0.6191\n",
            "Epoch 79/80\n",
            "33/33 [==============================] - 11s 342ms/step - loss: 0.5014 - val_loss: 0.6191\n",
            "Epoch 80/80\n",
            "33/33 [==============================] - 11s 341ms/step - loss: 0.5086 - val_loss: 0.6190\n"
          ],
          "name": "stdout"
        }
      ]
    },
    {
      "cell_type": "code",
      "metadata": {
        "colab": {
          "base_uri": "https://localhost:8080/",
          "height": 295
        },
        "id": "urgwvTOe6BoG",
        "outputId": "ee72d472-8461-46bb-cf40-df3335c61c8f"
      },
      "source": [
        "plot_history(triplet_history)\n",
        "test_features = triplet_model(X_test)"
      ],
      "execution_count": null,
      "outputs": [
        {
          "output_type": "display_data",
          "data": {
            "image/png": "[encoded data removed]",
            "text/plain": [
              "<Figure size 432x288 with 1 Axes>"
            ]
          },
          "metadata": {
            "tags": [],
            "needs_background": "light"
          }
        }
      ]
    },
    {
      "cell_type": "code",
      "metadata": {
        "colab": {
          "base_uri": "https://localhost:8080/"
        },
        "id": "-YejJxyoEc3J",
        "outputId": "a295ee39-05c3-4686-d850-9ed11ff63247"
      },
      "source": [
        "model_basepath = \"drive/MyDrive/mlexperiments/siamese/\"\n",
        "\n",
        "def save_model(name, model):\n",
        "  print(\">>> Saving model\", name) \n",
        "  model.save(\"models/\" + name)  \n",
        "  !cp -r models $model_basepath \n",
        " \n",
        "save_model(\"cedar_triplet\", triplet_model) "
      ],
      "execution_count": null,
      "outputs": [
        {
          "output_type": "stream",
          "text": [
            ">>> Saving model cedar_triplet\n",
            "INFO:tensorflow:Assets written to: models/cedar_triplet/assets\n"
          ],
          "name": "stdout"
        }
      ]
    },
    {
      "cell_type": "code",
      "metadata": {
        "id": "vU5v4pcfVIt-"
      },
      "source": [
        ""
      ],
      "execution_count": null,
      "outputs": []
    },
    {
      "cell_type": "code",
      "metadata": {
        "colab": {
          "base_uri": "https://localhost:8080/",
          "height": 954
        },
        "id": "qmmqGHPa2HKZ",
        "outputId": "c583e376-e4dc-4854-ec4d-8074ca3a46fa"
      },
      "source": [
        "test_features = triplet_model(X_test)\n",
        "plot_features(test_features, y_test, title=\"UMAP Embedding Projection  Triplet\" , metric=\"cosine\" )"
      ],
      "execution_count": null,
      "outputs": [
        {
          "output_type": "stream",
          "text": [
            "Compute UMAP for vector with shape (528, 256)  metric: cosine\n"
          ],
          "name": "stdout"
        },
        {
          "output_type": "display_data",
          "data": {
            "text/html": [
              "<html>\n",
              "<head><meta charset=\"utf-8\" /></head>\n",
              "<body>\n",
              "    <div>\n",
              "            <script src=\"https://cdnjs.cloudflare.com/ajax/libs/mathjax/2.7.5/MathJax.js?config=TeX-AMS-MML_SVG\"></script><script type=\"text/javascript\">if (window.MathJax) {MathJax.Hub.Config({SVG: {font: \"STIX-Web\"}});}</script>\n",
              "                <script type=\"text/javascript\">window.PlotlyConfig = {MathJaxConfig: 'local'};</script>\n",
              "        <script src=\"https://cdn.plot.ly/plotly-latest.min.js\"></script>    \n",
              "            <div id=\"4b1ad004-9b4d-4027-b390-94da42e08493\" class=\"plotly-graph-div\" style=\"height:900px; width:1200px;\"></div>\n",
              "            <script type=\"text/javascript\">\n",
              "                \n",
              "                    window.PLOTLYENV=window.PLOTLYENV || {};\n",
              "                    \n",
              "                if (document.getElementById(\"4b1ad004-9b4d-4027-b390-94da42e08493\")) {\n",
              "                    Plotly.newPlot(\n",
              "                        '4b1ad004-9b4d-4027-b390-94da42e08493',\n",
              "                        [{\"hoverlabel\": {\"namelength\": 0}, \"hovertemplate\": \"<b>%{hovertext}</b><br><br>color=84<br>symbol=84<br>x=%{x}<br>y=%{y}\", \"hovertext\": [\"84\", \"84\", \"84\", \"84\", \"84\", \"84\"], \"legendgroup\": \"color=84, symbol=84\", \"marker\": {\"color\": \"#636efa\", \"opacity\": 0.5, \"symbol\": \"circle\"}, \"mode\": \"markers\", \"name\": \"color=84, symbol=84\", \"showlegend\": true, \"type\": \"scatter\", \"x\": [13.327587127685547, 13.632904052734375, 13.2089262008667, 13.225226402282715, 13.232280731201172, 13.253375053405762], \"xaxis\": \"x\", \"y\": [11.524681091308594, 11.890954971313477, 11.402003288269043, 11.387015342712402, 11.467182159423828, 11.424623489379883], \"yaxis\": \"y\"}, {\"hoverlabel\": {\"namelength\": 0}, \"hovertemplate\": \"<b>%{hovertext}</b><br><br>color=2<br>symbol=2<br>x=%{x}<br>y=%{y}\", \"hovertext\": [\"2\", \"2\", \"2\", \"2\", \"2\"], \"legendgroup\": \"color=2, symbol=2\", \"marker\": {\"color\": \"#EF553B\", \"opacity\": 0.5, \"symbol\": \"diamond\"}, \"mode\": \"markers\", \"name\": \"color=2, symbol=2\", \"showlegend\": true, \"type\": \"scatter\", \"x\": [-2.2868504524230957, -2.3344085216522217, -2.302670955657959, -2.2930796146392822, -2.3089020252227783], \"xaxis\": \"x\", \"y\": [6.7378315925598145, 6.7225422859191895, 6.711185932159424, 6.707825183868408, 6.68781042098999], \"yaxis\": \"y\"}, {\"hoverlabel\": {\"namelength\": 0}, \"hovertemplate\": \"<b>%{hovertext}</b><br><br>color=41<br>symbol=41<br>x=%{x}<br>y=%{y}\", \"hovertext\": [\"41\", \"41\", \"41\", \"41\"], \"legendgroup\": \"color=41, symbol=41\", \"marker\": {\"color\": \"#00cc96\", \"opacity\": 0.5, \"symbol\": \"square\"}, \"mode\": \"markers\", \"name\": \"color=41, symbol=41\", \"showlegend\": true, \"type\": \"scatter\", \"x\": [-2.2117934226989746, -2.6994376182556152, -2.318359375, -2.1455163955688477], \"xaxis\": \"x\", \"y\": [10.72054386138916, 10.2866849899292, 10.595223426818848, 10.701252937316895], \"yaxis\": \"y\"}, {\"hoverlabel\": {\"namelength\": 0}, \"hovertemplate\": \"<b>%{hovertext}</b><br><br>color=61<br>symbol=61<br>x=%{x}<br>y=%{y}\", \"hovertext\": [\"61\", \"61\", \"61\", \"61\", \"61\", \"61\"], \"legendgroup\": \"color=61, symbol=61\", \"marker\": {\"color\": \"#ab63fa\", \"opacity\": 0.5, \"symbol\": \"x\"}, \"mode\": \"markers\", \"name\": \"color=61, symbol=61\", \"showlegend\": true, \"type\": \"scatter\", \"x\": [11.067062377929688, 10.990704536437988, 10.884129524230957, 10.950429916381836, 11.230620384216309, 11.074556350708008], \"xaxis\": \"x\", \"y\": [11.199814796447754, 11.625059127807617, 11.526880264282227, 11.723777770996094, 10.801671981811523, 11.01468563079834], \"yaxis\": \"y\"}, {\"hoverlabel\": {\"namelength\": 0}, \"hovertemplate\": \"<b>%{hovertext}</b><br><br>color=20<br>symbol=20<br>x=%{x}<br>y=%{y}\", \"hovertext\": [\"20\", \"20\", \"20\", \"20\", \"20\", \"20\", \"20\", \"20\"], \"legendgroup\": \"color=20, symbol=20\", \"marker\": {\"color\": \"#FFA15A\", \"opacity\": 0.5, \"symbol\": \"cross\"}, \"mode\": \"markers\", \"name\": \"color=20, symbol=20\", \"showlegend\": true, \"type\": \"scatter\", \"x\": [-3.3903841972351074, -3.176193952560425, -3.3766262531280518, -3.4339733123779297, -3.3743951320648193, -3.377291679382324, -3.3812224864959717, -3.3756229877471924], \"xaxis\": \"x\", \"y\": [7.913617134094238, 8.040725708007812, 7.934146404266357, 7.9938063621521, 7.94124174118042, 8.002187728881836, 7.941319465637207, 7.917725086212158], \"yaxis\": \"y\"}, {\"hoverlabel\": {\"namelength\": 0}, \"hovertemplate\": \"<b>%{hovertext}</b><br><br>color=54<br>symbol=54<br>x=%{x}<br>y=%{y}\", \"hovertext\": [\"54\", \"54\", \"54\", \"54\"], \"legendgroup\": \"color=54, symbol=54\", \"marker\": {\"color\": \"#19d3f3\", \"opacity\": 0.5, \"symbol\": \"circle\"}, \"mode\": \"markers\", \"name\": \"color=54, symbol=54\", \"showlegend\": true, \"type\": \"scatter\", \"x\": [-3.0000247955322266, -2.7922446727752686, -2.931969165802002, -2.8372724056243896], \"xaxis\": \"x\", \"y\": [10.24719524383545, 10.120247840881348, 10.093832969665527, 10.22071647644043], \"yaxis\": \"y\"}, {\"hoverlabel\": {\"namelength\": 0}, \"hovertemplate\": \"<b>%{hovertext}</b><br><br>color=9<br>symbol=9<br>x=%{x}<br>y=%{y}\", \"hovertext\": [\"9\", \"9\", \"9\", \"9\", \"9\", \"9\", \"9\"], \"legendgroup\": \"color=9, symbol=9\", \"marker\": {\"color\": \"#FF6692\", \"opacity\": 0.5, \"symbol\": \"diamond\"}, \"mode\": \"markers\", \"name\": \"color=9, symbol=9\", \"showlegend\": true, \"type\": \"scatter\", \"x\": [-4.83889102935791, -4.829919815063477, -4.857028961181641, -4.795696258544922, -4.859530448913574, -4.799714088439941, -4.8207621574401855], \"xaxis\": \"x\", \"y\": [9.232508659362793, 9.210330963134766, 9.259970664978027, 9.286884307861328, 9.21896743774414, 9.271552085876465, 9.259178161621094], \"yaxis\": \"y\"}, {\"hoverlabel\": {\"namelength\": 0}, \"hovertemplate\": \"<b>%{hovertext}</b><br><br>color=55<br>symbol=55<br>x=%{x}<br>y=%{y}\", \"hovertext\": [\"55\", \"55\", \"55\"], \"legendgroup\": \"color=55, symbol=55\", \"marker\": {\"color\": \"#B6E880\", \"opacity\": 0.5, \"symbol\": \"square\"}, \"mode\": \"markers\", \"name\": \"color=55, symbol=55\", \"showlegend\": true, \"type\": \"scatter\", \"x\": [-4.088348388671875, -4.000409126281738, -4.0430145263671875], \"xaxis\": \"x\", \"y\": [12.158061027526855, 12.117875099182129, 12.120004653930664], \"yaxis\": \"y\"}, {\"hoverlabel\": {\"namelength\": 0}, \"hovertemplate\": \"<b>%{hovertext}</b><br><br>color=73<br>symbol=73<br>x=%{x}<br>y=%{y}\", \"hovertext\": [\"73\", \"73\", \"73\", \"73\", \"73\", \"73\", \"73\", \"73\", \"73\"], \"legendgroup\": \"color=73, symbol=73\", \"marker\": {\"color\": \"#FF97FF\", \"opacity\": 0.5, \"symbol\": \"x\"}, \"mode\": \"markers\", \"name\": \"color=73, symbol=73\", \"showlegend\": true, \"type\": \"scatter\", \"x\": [15.70705509185791, 15.782937049865723, 15.713610649108887, 15.723319053649902, 15.70751667022705, 15.77082347869873, 15.726739883422852, 15.732476234436035, 15.682815551757812], \"xaxis\": \"x\", \"y\": [10.398186683654785, 10.4020357131958, 10.363390922546387, 10.60315990447998, 10.591559410095215, 10.403764724731445, 10.345636367797852, 10.48654842376709, 10.374494552612305], \"yaxis\": \"y\"}, {\"hoverlabel\": {\"namelength\": 0}, \"hovertemplate\": \"<b>%{hovertext}</b><br><br>color=63<br>symbol=63<br>x=%{x}<br>y=%{y}\", \"hovertext\": [\"63\", \"63\", \"63\", \"63\", \"63\", \"63\", \"63\", \"63\"], \"legendgroup\": \"color=63, symbol=63\", \"marker\": {\"color\": \"#FECB52\", \"opacity\": 0.5, \"symbol\": \"cross\"}, \"mode\": \"markers\", \"name\": \"color=63, symbol=63\", \"showlegend\": true, \"type\": \"scatter\", \"x\": [12.585418701171875, 12.66932201385498, 12.635369300842285, 12.651363372802734, 12.605990409851074, 12.594183921813965, 12.7114896774292, 12.728142738342285], \"xaxis\": \"x\", \"y\": [7.698814868927002, 7.559146881103516, 7.647425651550293, 7.660489082336426, 7.671950817108154, 7.648342609405518, 7.646733283996582, 7.734741687774658], \"yaxis\": \"y\"}, {\"hoverlabel\": {\"namelength\": 0}, \"hovertemplate\": \"<b>%{hovertext}</b><br><br>color=59<br>symbol=59<br>x=%{x}<br>y=%{y}\", \"hovertext\": [\"59\", \"59\", \"59\", \"59\", \"59\", \"59\", \"59\"], \"legendgroup\": \"color=59, symbol=59\", \"marker\": {\"color\": \"#636efa\", \"opacity\": 0.5, \"symbol\": \"circle\"}, \"mode\": \"markers\", \"name\": \"color=59, symbol=59\", \"showlegend\": true, \"type\": \"scatter\", \"x\": [11.946704864501953, 11.904144287109375, 11.9629545211792, 11.982209205627441, 11.55080509185791, 12.258772850036621, 12.115436553955078], \"xaxis\": \"x\", \"y\": [12.68403434753418, 12.778559684753418, 12.543964385986328, 12.886168479919434, 12.555753707885742, 12.694734573364258, 12.71280574798584], \"yaxis\": \"y\"}, {\"hoverlabel\": {\"namelength\": 0}, \"hovertemplate\": \"<b>%{hovertext}</b><br><br>color=104<br>symbol=104<br>x=%{x}<br>y=%{y}\", \"hovertext\": [\"104\", \"104\", \"104\", \"104\", \"104\"], \"legendgroup\": \"color=104, symbol=104\", \"marker\": {\"color\": \"#EF553B\", \"opacity\": 0.5, \"symbol\": \"diamond\"}, \"mode\": \"markers\", \"name\": \"color=104, symbol=104\", \"showlegend\": true, \"type\": \"scatter\", \"x\": [9.076290130615234, 9.05812931060791, 9.010262489318848, 9.07788372039795, 9.068384170532227], \"xaxis\": \"x\", \"y\": [9.798872947692871, 9.782681465148926, 9.780795097351074, 9.760807991027832, 9.776610374450684], \"yaxis\": \"y\"}, {\"hoverlabel\": {\"namelength\": 0}, \"hovertemplate\": \"<b>%{hovertext}</b><br><br>color=53<br>symbol=53<br>x=%{x}<br>y=%{y}\", \"hovertext\": [\"53\", \"53\", \"53\", \"53\", \"53\", \"53\", \"53\"], \"legendgroup\": \"color=53, symbol=53\", \"marker\": {\"color\": \"#00cc96\", \"opacity\": 0.5, \"symbol\": \"square\"}, \"mode\": \"markers\", \"name\": \"color=53, symbol=53\", \"showlegend\": true, \"type\": \"scatter\", \"x\": [-1.4228670597076416, -1.4730802774429321, -1.4021539688110352, -1.4232200384140015, -1.4394469261169434, -1.469834327697754, -1.4565606117248535], \"xaxis\": \"x\", \"y\": [13.428851127624512, 13.35161304473877, 13.457075119018555, 13.409955024719238, 13.400148391723633, 13.34352970123291, 13.336033821105957], \"yaxis\": \"y\"}, {\"hoverlabel\": {\"namelength\": 0}, \"hovertemplate\": \"<b>%{hovertext}</b><br><br>color=102<br>symbol=102<br>x=%{x}<br>y=%{y}\", \"hovertext\": [\"102\", \"102\", \"102\", \"102\", \"102\", \"102\"], \"legendgroup\": \"color=102, symbol=102\", \"marker\": {\"color\": \"#ab63fa\", \"opacity\": 0.5, \"symbol\": \"x\"}, \"mode\": \"markers\", \"name\": \"color=102, symbol=102\", \"showlegend\": true, \"type\": \"scatter\", \"x\": [17.776782989501953, 17.84718132019043, 17.805734634399414, 17.796852111816406, 17.816492080688477, 17.812883377075195], \"xaxis\": \"x\", \"y\": [10.615118026733398, 10.536763191223145, 10.576443672180176, 10.574601173400879, 10.555627822875977, 10.582462310791016], \"yaxis\": \"y\"}, {\"hoverlabel\": {\"namelength\": 0}, \"hovertemplate\": \"<b>%{hovertext}</b><br><br>color=89<br>symbol=89<br>x=%{x}<br>y=%{y}\", \"hovertext\": [\"89\", \"89\", \"89\", \"89\", \"89\", \"89\", \"89\", \"89\", \"89\", \"89\", \"89\"], \"legendgroup\": \"color=89, symbol=89\", \"marker\": {\"color\": \"#FFA15A\", \"opacity\": 0.5, \"symbol\": \"cross\"}, \"mode\": \"markers\", \"name\": \"color=89, symbol=89\", \"showlegend\": true, \"type\": \"scatter\", \"x\": [9.702709197998047, 9.988410949707031, 9.681174278259277, 9.890341758728027, 9.63019847869873, 9.8250093460083, 9.699926376342773, 9.618029594421387, 9.805549621582031, 9.693331718444824, 9.668959617614746], \"xaxis\": \"x\", \"y\": [10.326120376586914, 10.52785587310791, 10.470176696777344, 10.462274551391602, 10.39293384552002, 10.551809310913086, 10.324097633361816, 10.38463306427002, 10.52208423614502, 10.411190032958984, 10.417716979980469], \"yaxis\": \"y\"}, {\"hoverlabel\": {\"namelength\": 0}, \"hovertemplate\": \"<b>%{hovertext}</b><br><br>color=56<br>symbol=56<br>x=%{x}<br>y=%{y}\", \"hovertext\": [\"56\", \"56\", \"56\", \"56\"], \"legendgroup\": \"color=56, symbol=56\", \"marker\": {\"color\": \"#19d3f3\", \"opacity\": 0.5, \"symbol\": \"circle\"}, \"mode\": \"markers\", \"name\": \"color=56, symbol=56\", \"showlegend\": true, \"type\": \"scatter\", \"x\": [10.527496337890625, 10.68794059753418, 10.728479385375977, 10.323647499084473], \"xaxis\": \"x\", \"y\": [10.6205472946167, 10.786687850952148, 10.861536026000977, 10.534171104431152], \"yaxis\": \"y\"}, {\"hoverlabel\": {\"namelength\": 0}, \"hovertemplate\": \"<b>%{hovertext}</b><br><br>color=21<br>symbol=21<br>x=%{x}<br>y=%{y}\", \"hovertext\": [\"21\", \"21\", \"21\", \"21\", \"21\"], \"legendgroup\": \"color=21, symbol=21\", \"marker\": {\"color\": \"#FF6692\", \"opacity\": 0.5, \"symbol\": \"diamond\"}, \"mode\": \"markers\", \"name\": \"color=21, symbol=21\", \"showlegend\": true, \"type\": \"scatter\", \"x\": [-6.629944801330566, -6.607524871826172, -6.546726226806641, -6.622378826141357, -6.6108880043029785], \"xaxis\": \"x\", \"y\": [10.521784782409668, 10.45740032196045, 10.509988784790039, 10.469029426574707, 10.581518173217773], \"yaxis\": \"y\"}, {\"hoverlabel\": {\"namelength\": 0}, \"hovertemplate\": \"<b>%{hovertext}</b><br><br>color=45<br>symbol=45<br>x=%{x}<br>y=%{y}\", \"hovertext\": [\"45\", \"45\", \"45\", \"45\", \"45\", \"45\", \"45\"], \"legendgroup\": \"color=45, symbol=45\", \"marker\": {\"color\": \"#B6E880\", \"opacity\": 0.5, \"symbol\": \"square\"}, \"mode\": \"markers\", \"name\": \"color=45, symbol=45\", \"showlegend\": true, \"type\": \"scatter\", \"x\": [-2.755220413208008, -2.783071279525757, -2.3129265308380127, -2.4873275756835938, -2.7828452587127686, -2.1041505336761475, -2.168074369430542], \"xaxis\": \"x\", \"y\": [8.531327247619629, 8.562154769897461, 11.263826370239258, 8.61507797241211, 8.564541816711426, 10.964519500732422, 11.043392181396484], \"yaxis\": \"y\"}, {\"hoverlabel\": {\"namelength\": 0}, \"hovertemplate\": \"<b>%{hovertext}</b><br><br>color=18<br>symbol=18<br>x=%{x}<br>y=%{y}\", \"hovertext\": [\"18\", \"18\", \"18\", \"18\", \"18\", \"18\", \"18\"], \"legendgroup\": \"color=18, symbol=18\", \"marker\": {\"color\": \"#FF97FF\", \"opacity\": 0.5, \"symbol\": \"x\"}, \"mode\": \"markers\", \"name\": \"color=18, symbol=18\", \"showlegend\": true, \"type\": \"scatter\", \"x\": [-2.967512369155884, -2.9663169384002686, -2.860908269882202, -2.943873882293701, -2.961956739425659, -2.9847588539123535, -2.9442050457000732], \"xaxis\": \"x\", \"y\": [6.974696159362793, 7.024930953979492, 6.936336517333984, 6.935327529907227, 6.970494270324707, 6.962710857391357, 6.903824806213379], \"yaxis\": \"y\"}, {\"hoverlabel\": {\"namelength\": 0}, \"hovertemplate\": \"<b>%{hovertext}</b><br><br>color=51<br>symbol=51<br>x=%{x}<br>y=%{y}\", \"hovertext\": [\"51\", \"51\", \"51\", \"51\", \"51\", \"51\"], \"legendgroup\": \"color=51, symbol=51\", \"marker\": {\"color\": \"#FECB52\", \"opacity\": 0.5, \"symbol\": \"cross\"}, \"mode\": \"markers\", \"name\": \"color=51, symbol=51\", \"showlegend\": true, \"type\": \"scatter\", \"x\": [-4.510438442230225, -4.487462520599365, -4.527827739715576, -4.641660213470459, -4.5051045417785645, -4.548323631286621], \"xaxis\": \"x\", \"y\": [9.845732688903809, 9.851140975952148, 9.85316276550293, 9.79797649383545, 9.876270294189453, 9.934931755065918], \"yaxis\": \"y\"}, {\"hoverlabel\": {\"namelength\": 0}, \"hovertemplate\": \"<b>%{hovertext}</b><br><br>color=107<br>symbol=107<br>x=%{x}<br>y=%{y}\", \"hovertext\": [\"107\", \"107\", \"107\", \"107\", \"107\"], \"legendgroup\": \"color=107, symbol=107\", \"marker\": {\"color\": \"#636efa\", \"opacity\": 0.5, \"symbol\": \"circle\"}, \"mode\": \"markers\", \"name\": \"color=107, symbol=107\", \"showlegend\": true, \"type\": \"scatter\", \"x\": [11.280113220214844, 11.401532173156738, 11.440186500549316, 11.333915710449219, 11.284281730651855], \"xaxis\": \"x\", \"y\": [12.465238571166992, 12.490832328796387, 12.400320053100586, 12.574671745300293, 12.447770118713379], \"yaxis\": \"y\"}, {\"hoverlabel\": {\"namelength\": 0}, \"hovertemplate\": \"<b>%{hovertext}</b><br><br>color=103<br>symbol=103<br>x=%{x}<br>y=%{y}\", \"hovertext\": [\"103\", \"103\", \"103\", \"103\", \"103\", \"103\"], \"legendgroup\": \"color=103, symbol=103\", \"marker\": {\"color\": \"#EF553B\", \"opacity\": 0.5, \"symbol\": \"diamond\"}, \"mode\": \"markers\", \"name\": \"color=103, symbol=103\", \"showlegend\": true, \"type\": \"scatter\", \"x\": [14.918599128723145, 14.890442848205566, 14.963001251220703, 14.98995590209961, 14.898113250732422, 14.91121768951416], \"xaxis\": \"x\", \"y\": [11.485899925231934, 11.462193489074707, 11.489892959594727, 11.425439834594727, 11.486876487731934, 11.446229934692383], \"yaxis\": \"y\"}, {\"hoverlabel\": {\"namelength\": 0}, \"hovertemplate\": \"<b>%{hovertext}</b><br><br>color=74<br>symbol=74<br>x=%{x}<br>y=%{y}\", \"hovertext\": [\"74\", \"74\", \"74\"], \"legendgroup\": \"color=74, symbol=74\", \"marker\": {\"color\": \"#00cc96\", \"opacity\": 0.5, \"symbol\": \"square\"}, \"mode\": \"markers\", \"name\": \"color=74, symbol=74\", \"showlegend\": true, \"type\": \"scatter\", \"x\": [11.459494590759277, 11.447717666625977, 11.55678653717041], \"xaxis\": \"x\", \"y\": [9.486578941345215, 9.419754981994629, 9.31890869140625], \"yaxis\": \"y\"}, {\"hoverlabel\": {\"namelength\": 0}, \"hovertemplate\": \"<b>%{hovertext}</b><br><br>color=25<br>symbol=25<br>x=%{x}<br>y=%{y}\", \"hovertext\": [\"25\", \"25\", \"25\", \"25\"], \"legendgroup\": \"color=25, symbol=25\", \"marker\": {\"color\": \"#ab63fa\", \"opacity\": 0.5, \"symbol\": \"x\"}, \"mode\": \"markers\", \"name\": \"color=25, symbol=25\", \"showlegend\": true, \"type\": \"scatter\", \"x\": [-2.34367299079895, -2.3202366828918457, -2.437082052230835, -2.4753544330596924], \"xaxis\": \"x\", \"y\": [11.672935485839844, 11.475905418395996, 11.75103759765625, 11.715848922729492], \"yaxis\": \"y\"}, {\"hoverlabel\": {\"namelength\": 0}, \"hovertemplate\": \"<b>%{hovertext}</b><br><br>color=91<br>symbol=91<br>x=%{x}<br>y=%{y}\", \"hovertext\": [\"91\", \"91\", \"91\", \"91\"], \"legendgroup\": \"color=91, symbol=91\", \"marker\": {\"color\": \"#FFA15A\", \"opacity\": 0.5, \"symbol\": \"cross\"}, \"mode\": \"markers\", \"name\": \"color=91, symbol=91\", \"showlegend\": true, \"type\": \"scatter\", \"x\": [13.897849082946777, 13.885713577270508, 13.858379364013672, 13.90736198425293], \"xaxis\": \"x\", \"y\": [8.094642639160156, 8.043352127075195, 8.054938316345215, 8.098878860473633], \"yaxis\": \"y\"}, {\"hoverlabel\": {\"namelength\": 0}, \"hovertemplate\": \"<b>%{hovertext}</b><br><br>color=58<br>symbol=58<br>x=%{x}<br>y=%{y}\", \"hovertext\": [\"58\", \"58\"], \"legendgroup\": \"color=58, symbol=58\", \"marker\": {\"color\": \"#19d3f3\", \"opacity\": 0.5, \"symbol\": \"circle\"}, \"mode\": \"markers\", \"name\": \"color=58, symbol=58\", \"showlegend\": true, \"type\": \"scatter\", \"x\": [12.756874084472656, 12.772809982299805], \"xaxis\": \"x\", \"y\": [9.460763931274414, 9.546969413757324], \"yaxis\": \"y\"}, {\"hoverlabel\": {\"namelength\": 0}, \"hovertemplate\": \"<b>%{hovertext}</b><br><br>color=85<br>symbol=85<br>x=%{x}<br>y=%{y}\", \"hovertext\": [\"85\", \"85\", \"85\", \"85\", \"85\", \"85\"], \"legendgroup\": \"color=85, symbol=85\", \"marker\": {\"color\": \"#FF6692\", \"opacity\": 0.5, \"symbol\": \"diamond\"}, \"mode\": \"markers\", \"name\": \"color=85, symbol=85\", \"showlegend\": true, \"type\": \"scatter\", \"x\": [13.250175476074219, 12.811491966247559, 12.468805313110352, 12.40884017944336, 12.41660213470459, 12.43336296081543], \"xaxis\": \"x\", \"y\": [10.867280006408691, 11.326310157775879, 10.004371643066406, 9.946823120117188, 9.931870460510254, 9.964787483215332], \"yaxis\": \"y\"}, {\"hoverlabel\": {\"namelength\": 0}, \"hovertemplate\": \"<b>%{hovertext}</b><br><br>color=3<br>symbol=3<br>x=%{x}<br>y=%{y}\", \"hovertext\": [\"3\", \"3\", \"3\", \"3\", \"3\", \"3\"], \"legendgroup\": \"color=3, symbol=3\", \"marker\": {\"color\": \"#B6E880\", \"opacity\": 0.5, \"symbol\": \"square\"}, \"mode\": \"markers\", \"name\": \"color=3, symbol=3\", \"showlegend\": true, \"type\": \"scatter\", \"x\": [-1.9604144096374512, -1.942745566368103, -1.8929457664489746, -1.9296679496765137, -1.987684726715088, -1.9350987672805786], \"xaxis\": \"x\", \"y\": [11.06392765045166, 11.085476875305176, 11.10239028930664, 11.092852592468262, 11.13145923614502, 11.090741157531738], \"yaxis\": \"y\"}, {\"hoverlabel\": {\"namelength\": 0}, \"hovertemplate\": \"<b>%{hovertext}</b><br><br>color=82<br>symbol=82<br>x=%{x}<br>y=%{y}\", \"hovertext\": [\"82\", \"82\", \"82\", \"82\", \"82\"], \"legendgroup\": \"color=82, symbol=82\", \"marker\": {\"color\": \"#FF97FF\", \"opacity\": 0.5, \"symbol\": \"x\"}, \"mode\": \"markers\", \"name\": \"color=82, symbol=82\", \"showlegend\": true, \"type\": \"scatter\", \"x\": [12.167119026184082, 11.988763809204102, 12.133429527282715, 11.976508140563965, 12.10103702545166], \"xaxis\": \"x\", \"y\": [8.483125686645508, 8.29936695098877, 8.291912078857422, 8.313796043395996, 8.366414070129395], \"yaxis\": \"y\"}, {\"hoverlabel\": {\"namelength\": 0}, \"hovertemplate\": \"<b>%{hovertext}</b><br><br>color=47<br>symbol=47<br>x=%{x}<br>y=%{y}\", \"hovertext\": [\"47\", \"47\", \"47\", \"47\"], \"legendgroup\": \"color=47, symbol=47\", \"marker\": {\"color\": \"#FECB52\", \"opacity\": 0.5, \"symbol\": \"cross\"}, \"mode\": \"markers\", \"name\": \"color=47, symbol=47\", \"showlegend\": true, \"type\": \"scatter\", \"x\": [-3.3374366760253906, -3.371638536453247, -3.3598620891571045, -3.411677360534668], \"xaxis\": \"x\", \"y\": [10.2855224609375, 10.299844741821289, 10.337329864501953, 10.245277404785156], \"yaxis\": \"y\"}, {\"hoverlabel\": {\"namelength\": 0}, \"hovertemplate\": \"<b>%{hovertext}</b><br><br>color=30<br>symbol=30<br>x=%{x}<br>y=%{y}\", \"hovertext\": [\"30\", \"30\", \"30\", \"30\"], \"legendgroup\": \"color=30, symbol=30\", \"marker\": {\"color\": \"#636efa\", \"opacity\": 0.5, \"symbol\": \"circle\"}, \"mode\": \"markers\", \"name\": \"color=30, symbol=30\", \"showlegend\": true, \"type\": \"scatter\", \"x\": [-6.470628261566162, -6.442303657531738, -6.48848819732666, -6.360614776611328], \"xaxis\": \"x\", \"y\": [10.808935165405273, 10.845925331115723, 10.839664459228516, 10.825943946838379], \"yaxis\": \"y\"}, {\"hoverlabel\": {\"namelength\": 0}, \"hovertemplate\": \"<b>%{hovertext}</b><br><br>color=76<br>symbol=76<br>x=%{x}<br>y=%{y}\", \"hovertext\": [\"76\", \"76\", \"76\", \"76\", \"76\", \"76\", \"76\"], \"legendgroup\": \"color=76, symbol=76\", \"marker\": {\"color\": \"#EF553B\", \"opacity\": 0.5, \"symbol\": \"diamond\"}, \"mode\": \"markers\", \"name\": \"color=76, symbol=76\", \"showlegend\": true, \"type\": \"scatter\", \"x\": [12.206180572509766, 11.295554161071777, 11.891358375549316, 11.713059425354004, 11.852056503295898, 11.690774917602539, 11.63503646850586], \"xaxis\": \"x\", \"y\": [9.74548053741455, 8.458342552185059, 9.461090087890625, 9.298897743225098, 9.278550148010254, 9.137474060058594, 9.400225639343262], \"yaxis\": \"y\"}, {\"hoverlabel\": {\"namelength\": 0}, \"hovertemplate\": \"<b>%{hovertext}</b><br><br>color=44<br>symbol=44<br>x=%{x}<br>y=%{y}\", \"hovertext\": [\"44\", \"44\", \"44\", \"44\", \"44\", \"44\"], \"legendgroup\": \"color=44, symbol=44\", \"marker\": {\"color\": \"#00cc96\", \"opacity\": 0.5, \"symbol\": \"square\"}, \"mode\": \"markers\", \"name\": \"color=44, symbol=44\", \"showlegend\": true, \"type\": \"scatter\", \"x\": [-2.5788159370422363, -2.8025238513946533, -3.132007360458374, -2.7801222801208496, -2.6940810680389404, -2.6899118423461914], \"xaxis\": \"x\", \"y\": [11.824373245239258, 11.98015022277832, 11.994308471679688, 11.997732162475586, 11.90394115447998, 11.904797554016113], \"yaxis\": \"y\"}, {\"hoverlabel\": {\"namelength\": 0}, \"hovertemplate\": \"<b>%{hovertext}</b><br><br>color=81<br>symbol=81<br>x=%{x}<br>y=%{y}\", \"hovertext\": [\"81\", \"81\", \"81\", \"81\", \"81\"], \"legendgroup\": \"color=81, symbol=81\", \"marker\": {\"color\": \"#ab63fa\", \"opacity\": 0.5, \"symbol\": \"x\"}, \"mode\": \"markers\", \"name\": \"color=81, symbol=81\", \"showlegend\": true, \"type\": \"scatter\", \"x\": [13.167012214660645, 13.199722290039062, 13.181443214416504, 13.041293144226074, 13.057974815368652], \"xaxis\": \"x\", \"y\": [10.509683609008789, 10.475881576538086, 10.480998992919922, 10.632611274719238, 10.642435073852539], \"yaxis\": \"y\"}, {\"hoverlabel\": {\"namelength\": 0}, \"hovertemplate\": \"<b>%{hovertext}</b><br><br>color=27<br>symbol=27<br>x=%{x}<br>y=%{y}\", \"hovertext\": [\"27\"], \"legendgroup\": \"color=27, symbol=27\", \"marker\": {\"color\": \"#FFA15A\", \"opacity\": 0.5, \"symbol\": \"cross\"}, \"mode\": \"markers\", \"name\": \"color=27, symbol=27\", \"showlegend\": true, \"type\": \"scatter\", \"x\": [-5.738109588623047], \"xaxis\": \"x\", \"y\": [10.478602409362793], \"yaxis\": \"y\"}, {\"hoverlabel\": {\"namelength\": 0}, \"hovertemplate\": \"<b>%{hovertext}</b><br><br>color=101<br>symbol=101<br>x=%{x}<br>y=%{y}\", \"hovertext\": [\"101\", \"101\", \"101\"], \"legendgroup\": \"color=101, symbol=101\", \"marker\": {\"color\": \"#19d3f3\", \"opacity\": 0.5, \"symbol\": \"circle\"}, \"mode\": \"markers\", \"name\": \"color=101, symbol=101\", \"showlegend\": true, \"type\": \"scatter\", \"x\": [11.889124870300293, 11.73159122467041, 12.069053649902344], \"xaxis\": \"x\", \"y\": [9.446904182434082, 9.352153778076172, 9.55970287322998], \"yaxis\": \"y\"}, {\"hoverlabel\": {\"namelength\": 0}, \"hovertemplate\": \"<b>%{hovertext}</b><br><br>color=40<br>symbol=40<br>x=%{x}<br>y=%{y}\", \"hovertext\": [\"40\", \"40\", \"40\", \"40\", \"40\"], \"legendgroup\": \"color=40, symbol=40\", \"marker\": {\"color\": \"#FF6692\", \"opacity\": 0.5, \"symbol\": \"diamond\"}, \"mode\": \"markers\", \"name\": \"color=40, symbol=40\", \"showlegend\": true, \"type\": \"scatter\", \"x\": [-2.9772019386291504, -3.016484022140503, -2.840244770050049, -2.9896433353424072, -2.9516513347625732], \"xaxis\": \"x\", \"y\": [10.07440185546875, 10.049054145812988, 9.916958808898926, 10.104358673095703, 10.0533447265625], \"yaxis\": \"y\"}, {\"hoverlabel\": {\"namelength\": 0}, \"hovertemplate\": \"<b>%{hovertext}</b><br><br>color=94<br>symbol=94<br>x=%{x}<br>y=%{y}\", \"hovertext\": [\"94\", \"94\", \"94\", \"94\"], \"legendgroup\": \"color=94, symbol=94\", \"marker\": {\"color\": \"#B6E880\", \"opacity\": 0.5, \"symbol\": \"square\"}, \"mode\": \"markers\", \"name\": \"color=94, symbol=94\", \"showlegend\": true, \"type\": \"scatter\", \"x\": [10.483087539672852, 10.362667083740234, 10.636813163757324, 10.350702285766602], \"xaxis\": \"x\", \"y\": [9.59248161315918, 9.829034805297852, 9.328688621520996, 9.771465301513672], \"yaxis\": \"y\"}, {\"hoverlabel\": {\"namelength\": 0}, \"hovertemplate\": \"<b>%{hovertext}</b><br><br>color=62<br>symbol=62<br>x=%{x}<br>y=%{y}\", \"hovertext\": [\"62\", \"62\", \"62\", \"62\", \"62\"], \"legendgroup\": \"color=62, symbol=62\", \"marker\": {\"color\": \"#FF97FF\", \"opacity\": 0.5, \"symbol\": \"x\"}, \"mode\": \"markers\", \"name\": \"color=62, symbol=62\", \"showlegend\": true, \"type\": \"scatter\", \"x\": [13.078449249267578, 13.189973831176758, 13.091591835021973, 13.150772094726562, 13.126523971557617], \"xaxis\": \"x\", \"y\": [10.54765510559082, 10.542181015014648, 10.849886894226074, 10.48869800567627, 10.582596778869629], \"yaxis\": \"y\"}, {\"hoverlabel\": {\"namelength\": 0}, \"hovertemplate\": \"<b>%{hovertext}</b><br><br>color=109<br>symbol=109<br>x=%{x}<br>y=%{y}\", \"hovertext\": [\"109\", \"109\", \"109\", \"109\", \"109\"], \"legendgroup\": \"color=109, symbol=109\", \"marker\": {\"color\": \"#FECB52\", \"opacity\": 0.5, \"symbol\": \"cross\"}, \"mode\": \"markers\", \"name\": \"color=109, symbol=109\", \"showlegend\": true, \"type\": \"scatter\", \"x\": [10.950145721435547, 11.093840599060059, 10.794647216796875, 11.171798706054688, 10.871397972106934], \"xaxis\": \"x\", \"y\": [11.949207305908203, 12.188453674316406, 11.629999160766602, 12.121950149536133, 11.928971290588379], \"yaxis\": \"y\"}, {\"hoverlabel\": {\"namelength\": 0}, \"hovertemplate\": \"<b>%{hovertext}</b><br><br>color=98<br>symbol=98<br>x=%{x}<br>y=%{y}\", \"hovertext\": [\"98\", \"98\", \"98\", \"98\", \"98\"], \"legendgroup\": \"color=98, symbol=98\", \"marker\": {\"color\": \"#636efa\", \"opacity\": 0.5, \"symbol\": \"circle\"}, \"mode\": \"markers\", \"name\": \"color=98, symbol=98\", \"showlegend\": true, \"type\": \"scatter\", \"x\": [12.97917652130127, 12.992948532104492, 13.02435302734375, 13.089431762695312, 13.01258373260498], \"xaxis\": \"x\", \"y\": [7.7844319343566895, 7.744112014770508, 7.725550651550293, 7.801229953765869, 7.86259651184082], \"yaxis\": \"y\"}, {\"hoverlabel\": {\"namelength\": 0}, \"hovertemplate\": \"<b>%{hovertext}</b><br><br>color=17<br>symbol=17<br>x=%{x}<br>y=%{y}\", \"hovertext\": [\"17\", \"17\", \"17\", \"17\"], \"legendgroup\": \"color=17, symbol=17\", \"marker\": {\"color\": \"#EF553B\", \"opacity\": 0.5, \"symbol\": \"diamond\"}, \"mode\": \"markers\", \"name\": \"color=17, symbol=17\", \"showlegend\": true, \"type\": \"scatter\", \"x\": [-4.325380325317383, -4.257256031036377, -4.297271251678467, -4.250222206115723], \"xaxis\": \"x\", \"y\": [9.933472633361816, 9.945759773254395, 9.947572708129883, 9.974714279174805], \"yaxis\": \"y\"}, {\"hoverlabel\": {\"namelength\": 0}, \"hovertemplate\": \"<b>%{hovertext}</b><br><br>color=92<br>symbol=92<br>x=%{x}<br>y=%{y}\", \"hovertext\": [\"92\", \"92\", \"92\", \"92\"], \"legendgroup\": \"color=92, symbol=92\", \"marker\": {\"color\": \"#00cc96\", \"opacity\": 0.5, \"symbol\": \"square\"}, \"mode\": \"markers\", \"name\": \"color=92, symbol=92\", \"showlegend\": true, \"type\": \"scatter\", \"x\": [11.949777603149414, 11.928411483764648, 11.97676944732666, 11.60749626159668], \"xaxis\": \"x\", \"y\": [11.424880981445312, 11.440530776977539, 11.408459663391113, 11.569867134094238], \"yaxis\": \"y\"}, {\"hoverlabel\": {\"namelength\": 0}, \"hovertemplate\": \"<b>%{hovertext}</b><br><br>color=4<br>symbol=4<br>x=%{x}<br>y=%{y}\", \"hovertext\": [\"4\", \"4\"], \"legendgroup\": \"color=4, symbol=4\", \"marker\": {\"color\": \"#ab63fa\", \"opacity\": 0.5, \"symbol\": \"x\"}, \"mode\": \"markers\", \"name\": \"color=4, symbol=4\", \"showlegend\": true, \"type\": \"scatter\", \"x\": [-5.0567240715026855, -1.5898209810256958], \"xaxis\": \"x\", \"y\": [10.027219772338867, 12.73958969116211], \"yaxis\": \"y\"}, {\"hoverlabel\": {\"namelength\": 0}, \"hovertemplate\": \"<b>%{hovertext}</b><br><br>color=36<br>symbol=36<br>x=%{x}<br>y=%{y}\", \"hovertext\": [\"36\", \"36\", \"36\", \"36\"], \"legendgroup\": \"color=36, symbol=36\", \"marker\": {\"color\": \"#FFA15A\", \"opacity\": 0.5, \"symbol\": \"cross\"}, \"mode\": \"markers\", \"name\": \"color=36, symbol=36\", \"showlegend\": true, \"type\": \"scatter\", \"x\": [-1.7044355869293213, -1.7713680267333984, -1.7115800380706787, -1.7684874534606934], \"xaxis\": \"x\", \"y\": [12.24952220916748, 12.205412864685059, 12.244117736816406, 12.197107315063477], \"yaxis\": \"y\"}, {\"hoverlabel\": {\"namelength\": 0}, \"hovertemplate\": \"<b>%{hovertext}</b><br><br>color=24<br>symbol=24<br>x=%{x}<br>y=%{y}\", \"hovertext\": [\"24\", \"24\", \"24\", \"24\", \"24\", \"24\"], \"legendgroup\": \"color=24, symbol=24\", \"marker\": {\"color\": \"#19d3f3\", \"opacity\": 0.5, \"symbol\": \"circle\"}, \"mode\": \"markers\", \"name\": \"color=24, symbol=24\", \"showlegend\": true, \"type\": \"scatter\", \"x\": [-1.2941443920135498, -1.3214932680130005, -1.3943650722503662, -1.3877596855163574, -1.344448208808899, -1.2874201536178589], \"xaxis\": \"x\", \"y\": [10.7008056640625, 10.759560585021973, 10.733123779296875, 10.734196662902832, 10.70980167388916, 10.56067180633545], \"yaxis\": \"y\"}, {\"hoverlabel\": {\"namelength\": 0}, \"hovertemplate\": \"<b>%{hovertext}</b><br><br>color=80<br>symbol=80<br>x=%{x}<br>y=%{y}\", \"hovertext\": [\"80\", \"80\", \"80\", \"80\", \"80\", \"80\", \"80\"], \"legendgroup\": \"color=80, symbol=80\", \"marker\": {\"color\": \"#FF6692\", \"opacity\": 0.5, \"symbol\": \"diamond\"}, \"mode\": \"markers\", \"name\": \"color=80, symbol=80\", \"showlegend\": true, \"type\": \"scatter\", \"x\": [14.343708992004395, 14.103994369506836, 12.794620513916016, 14.378807067871094, 14.250277519226074, 14.232255935668945, 12.98707103729248], \"xaxis\": \"x\", \"y\": [8.604778289794922, 8.497721672058105, 7.771371841430664, 8.128833770751953, 8.51146411895752, 8.294614791870117, 9.993844032287598], \"yaxis\": \"y\"}, {\"hoverlabel\": {\"namelength\": 0}, \"hovertemplate\": \"<b>%{hovertext}</b><br><br>color=32<br>symbol=32<br>x=%{x}<br>y=%{y}\", \"hovertext\": [\"32\", \"32\", \"32\", \"32\", \"32\"], \"legendgroup\": \"color=32, symbol=32\", \"marker\": {\"color\": \"#B6E880\", \"opacity\": 0.5, \"symbol\": \"square\"}, \"mode\": \"markers\", \"name\": \"color=32, symbol=32\", \"showlegend\": true, \"type\": \"scatter\", \"x\": [-1.7523151636123657, -1.864060878753662, -2.118178129196167, -1.856054425239563, -1.8191962242126465], \"xaxis\": \"x\", \"y\": [12.712778091430664, 12.680898666381836, 12.582613945007324, 12.631486892700195, 12.665444374084473], \"yaxis\": \"y\"}, {\"hoverlabel\": {\"namelength\": 0}, \"hovertemplate\": \"<b>%{hovertext}</b><br><br>color=64<br>symbol=64<br>x=%{x}<br>y=%{y}\", \"hovertext\": [\"64\", \"64\", \"64\", \"64\", \"64\", \"64\"], \"legendgroup\": \"color=64, symbol=64\", \"marker\": {\"color\": \"#FF97FF\", \"opacity\": 0.5, \"symbol\": \"x\"}, \"mode\": \"markers\", \"name\": \"color=64, symbol=64\", \"showlegend\": true, \"type\": \"scatter\", \"x\": [12.150864601135254, 11.363356590270996, 11.741556167602539, 11.504590034484863, 11.756706237792969, 11.996264457702637], \"xaxis\": \"x\", \"y\": [12.832869529724121, 12.663741111755371, 12.759775161743164, 12.703737258911133, 12.858036041259766, 12.884382247924805], \"yaxis\": \"y\"}, {\"hoverlabel\": {\"namelength\": 0}, \"hovertemplate\": \"<b>%{hovertext}</b><br><br>color=34<br>symbol=34<br>x=%{x}<br>y=%{y}\", \"hovertext\": [\"34\", \"34\", \"34\", \"34\", \"34\", \"34\", \"34\", \"34\"], \"legendgroup\": \"color=34, symbol=34\", \"marker\": {\"color\": \"#FECB52\", \"opacity\": 0.5, \"symbol\": \"cross\"}, \"mode\": \"markers\", \"name\": \"color=34, symbol=34\", \"showlegend\": true, \"type\": \"scatter\", \"x\": [3.0931806564331055, 3.0320236682891846, 3.074655532836914, 3.0336194038391113, 3.0565145015716553, 3.0991928577423096, 3.0950558185577393, 3.1051082611083984], \"xaxis\": \"x\", \"y\": [1.226222276687622, 1.2878146171569824, 1.24432373046875, 1.2861707210540771, 1.2626523971557617, 1.2197258472442627, 1.2238506078720093, 1.2137556076049805], \"yaxis\": \"y\"}, {\"hoverlabel\": {\"namelength\": 0}, \"hovertemplate\": \"<b>%{hovertext}</b><br><br>color=6<br>symbol=6<br>x=%{x}<br>y=%{y}\", \"hovertext\": [\"6\", \"6\", \"6\", \"6\"], \"legendgroup\": \"color=6, symbol=6\", \"marker\": {\"color\": \"#636efa\", \"opacity\": 0.5, \"symbol\": \"circle\"}, \"mode\": \"markers\", \"name\": \"color=6, symbol=6\", \"showlegend\": true, \"type\": \"scatter\", \"x\": [-0.9221072793006897, -0.8604834079742432, -0.8302282691001892, -0.8591269850730896], \"xaxis\": \"x\", \"y\": [10.105021476745605, 10.078222274780273, 10.032020568847656, 10.073929786682129], \"yaxis\": \"y\"}, {\"hoverlabel\": {\"namelength\": 0}, \"hovertemplate\": \"<b>%{hovertext}</b><br><br>color=66<br>symbol=66<br>x=%{x}<br>y=%{y}\", \"hovertext\": [\"66\", \"66\", \"66\", \"66\", \"66\", \"66\", \"66\"], \"legendgroup\": \"color=66, symbol=66\", \"marker\": {\"color\": \"#EF553B\", \"opacity\": 0.5, \"symbol\": \"diamond\"}, \"mode\": \"markers\", \"name\": \"color=66, symbol=66\", \"showlegend\": true, \"type\": \"scatter\", \"x\": [15.315315246582031, 14.505025863647461, 14.839400291442871, 15.587029457092285, 15.203645706176758, 14.696377754211426, 15.23086166381836], \"xaxis\": \"x\", \"y\": [8.539933204650879, 11.4063081741333, 8.207178115844727, 8.567347526550293, 8.485225677490234, 8.057883262634277, 8.508279800415039], \"yaxis\": \"y\"}, {\"hoverlabel\": {\"namelength\": 0}, \"hovertemplate\": \"<b>%{hovertext}</b><br><br>color=97<br>symbol=97<br>x=%{x}<br>y=%{y}\", \"hovertext\": [\"97\", \"97\", \"97\", \"97\", \"97\"], \"legendgroup\": \"color=97, symbol=97\", \"marker\": {\"color\": \"#00cc96\", \"opacity\": 0.5, \"symbol\": \"square\"}, \"mode\": \"markers\", \"name\": \"color=97, symbol=97\", \"showlegend\": true, \"type\": \"scatter\", \"x\": [10.409146308898926, 10.38015079498291, 10.35467529296875, 10.499908447265625, 10.392084121704102], \"xaxis\": \"x\", \"y\": [8.060577392578125, 8.103090286254883, 8.093666076660156, 8.016728401184082, 8.074225425720215], \"yaxis\": \"y\"}, {\"hoverlabel\": {\"namelength\": 0}, \"hovertemplate\": \"<b>%{hovertext}</b><br><br>color=52<br>symbol=52<br>x=%{x}<br>y=%{y}\", \"hovertext\": [\"52\", \"52\", \"52\", \"52\", \"52\", \"52\"], \"legendgroup\": \"color=52, symbol=52\", \"marker\": {\"color\": \"#ab63fa\", \"opacity\": 0.5, \"symbol\": \"x\"}, \"mode\": \"markers\", \"name\": \"color=52, symbol=52\", \"showlegend\": true, \"type\": \"scatter\", \"x\": [-1.795739769935608, -1.7987991571426392, -1.8255466222763062, -1.7746264934539795, -1.8189189434051514, -1.8509821891784668], \"xaxis\": \"x\", \"y\": [8.112292289733887, 8.113277435302734, 8.138086318969727, 8.070758819580078, 8.144932746887207, 8.170422554016113], \"yaxis\": \"y\"}, {\"hoverlabel\": {\"namelength\": 0}, \"hovertemplate\": \"<b>%{hovertext}</b><br><br>color=26<br>symbol=26<br>x=%{x}<br>y=%{y}\", \"hovertext\": [\"26\", \"26\", \"26\", \"26\", \"26\", \"26\"], \"legendgroup\": \"color=26, symbol=26\", \"marker\": {\"color\": \"#FFA15A\", \"opacity\": 0.5, \"symbol\": \"cross\"}, \"mode\": \"markers\", \"name\": \"color=26, symbol=26\", \"showlegend\": true, \"type\": \"scatter\", \"x\": [0.3098718822002411, 0.23457078635692596, 0.31585219502449036, 0.27726268768310547, 0.303907185792923, 0.2778252363204956], \"xaxis\": \"x\", \"y\": [10.103240013122559, 10.024174690246582, 10.09084415435791, 10.065725326538086, 10.083300590515137, 10.059503555297852], \"yaxis\": \"y\"}, {\"hoverlabel\": {\"namelength\": 0}, \"hovertemplate\": \"<b>%{hovertext}</b><br><br>color=37<br>symbol=37<br>x=%{x}<br>y=%{y}\", \"hovertext\": [\"37\", \"37\", \"37\", \"37\", \"37\"], \"legendgroup\": \"color=37, symbol=37\", \"marker\": {\"color\": \"#19d3f3\", \"opacity\": 0.5, \"symbol\": \"circle\"}, \"mode\": \"markers\", \"name\": \"color=37, symbol=37\", \"showlegend\": true, \"type\": \"scatter\", \"x\": [-6.808876037597656, -6.880771636962891, -6.781112194061279, -6.731131076812744, -6.778114318847656], \"xaxis\": \"x\", \"y\": [11.248583793640137, 11.388187408447266, 11.220199584960938, 11.09221076965332, 11.213167190551758], \"yaxis\": \"y\"}, {\"hoverlabel\": {\"namelength\": 0}, \"hovertemplate\": \"<b>%{hovertext}</b><br><br>color=100<br>symbol=100<br>x=%{x}<br>y=%{y}\", \"hovertext\": [\"100\", \"100\", \"100\", \"100\", \"100\", \"100\", \"100\"], \"legendgroup\": \"color=100, symbol=100\", \"marker\": {\"color\": \"#FF6692\", \"opacity\": 0.5, \"symbol\": \"diamond\"}, \"mode\": \"markers\", \"name\": \"color=100, symbol=100\", \"showlegend\": true, \"type\": \"scatter\", \"x\": [15.4849271774292, 12.0018892288208, 12.26848030090332, 11.661101341247559, 11.690415382385254, 12.025874137878418, 11.734556198120117], \"xaxis\": \"x\", \"y\": [11.094128608703613, 12.353063583374023, 11.647303581237793, 12.32666301727295, 12.247101783752441, 12.060457229614258, 12.139264106750488], \"yaxis\": \"y\"}, {\"hoverlabel\": {\"namelength\": 0}, \"hovertemplate\": \"<b>%{hovertext}</b><br><br>color=79<br>symbol=79<br>x=%{x}<br>y=%{y}\", \"hovertext\": [\"79\", \"79\", \"79\", \"79\", \"79\", \"79\"], \"legendgroup\": \"color=79, symbol=79\", \"marker\": {\"color\": \"#B6E880\", \"opacity\": 0.5, \"symbol\": \"square\"}, \"mode\": \"markers\", \"name\": \"color=79, symbol=79\", \"showlegend\": true, \"type\": \"scatter\", \"x\": [14.25090503692627, 14.456280708312988, 14.212540626525879, 14.340529441833496, 14.428871154785156, 13.82962417602539], \"xaxis\": \"x\", \"y\": [8.641380310058594, 8.73205852508545, 8.62755012512207, 8.699010848999023, 8.809568405151367, 8.70294189453125], \"yaxis\": \"y\"}, {\"hoverlabel\": {\"namelength\": 0}, \"hovertemplate\": \"<b>%{hovertext}</b><br><br>color=57<br>symbol=57<br>x=%{x}<br>y=%{y}\", \"hovertext\": [\"57\", \"57\", \"57\", \"57\", \"57\", \"57\", \"57\"], \"legendgroup\": \"color=57, symbol=57\", \"marker\": {\"color\": \"#FF97FF\", \"opacity\": 0.5, \"symbol\": \"x\"}, \"mode\": \"markers\", \"name\": \"color=57, symbol=57\", \"showlegend\": true, \"type\": \"scatter\", \"x\": [13.731902122497559, 13.763669967651367, 13.803110122680664, 13.728170394897461, 13.729019165039062, 13.684755325317383, 13.684842109680176], \"xaxis\": \"x\", \"y\": [11.9906644821167, 11.968827247619629, 12.016600608825684, 11.993085861206055, 11.991409301757812, 11.949706077575684, 11.967968940734863], \"yaxis\": \"y\"}, {\"hoverlabel\": {\"namelength\": 0}, \"hovertemplate\": \"<b>%{hovertext}</b><br><br>color=69<br>symbol=69<br>x=%{x}<br>y=%{y}\", \"hovertext\": [\"69\", \"69\", \"69\", \"69\", \"69\", \"69\"], \"legendgroup\": \"color=69, symbol=69\", \"marker\": {\"color\": \"#FECB52\", \"opacity\": 0.5, \"symbol\": \"cross\"}, \"mode\": \"markers\", \"name\": \"color=69, symbol=69\", \"showlegend\": true, \"type\": \"scatter\", \"x\": [14.319120407104492, 14.469317436218262, 14.461494445800781, 14.501765251159668, 14.385229110717773, 14.44170093536377], \"xaxis\": \"x\", \"y\": [7.917954444885254, 7.912069797515869, 7.8786749839782715, 7.878259658813477, 7.912031173706055, 7.959285259246826], \"yaxis\": \"y\"}, {\"hoverlabel\": {\"namelength\": 0}, \"hovertemplate\": \"<b>%{hovertext}</b><br><br>color=11<br>symbol=11<br>x=%{x}<br>y=%{y}\", \"hovertext\": [\"11\", \"11\", \"11\", \"11\", \"11\", \"11\", \"11\", \"11\"], \"legendgroup\": \"color=11, symbol=11\", \"marker\": {\"color\": \"#636efa\", \"opacity\": 0.5, \"symbol\": \"circle\"}, \"mode\": \"markers\", \"name\": \"color=11, symbol=11\", \"showlegend\": true, \"type\": \"scatter\", \"x\": [-3.7226009368896484, -3.8206264972686768, -3.923201560974121, -3.9502556324005127, -3.8843677043914795, -3.8484363555908203, -3.830936908721924, -3.8374881744384766], \"xaxis\": \"x\", \"y\": [12.016213417053223, 11.905584335327148, 11.918700218200684, 12.074371337890625, 11.999064445495605, 11.975743293762207, 11.932841300964355, 11.958841323852539], \"yaxis\": \"y\"}, {\"hoverlabel\": {\"namelength\": 0}, \"hovertemplate\": \"<b>%{hovertext}</b><br><br>color=90<br>symbol=90<br>x=%{x}<br>y=%{y}\", \"hovertext\": [\"90\", \"90\", \"90\", \"90\", \"90\"], \"legendgroup\": \"color=90, symbol=90\", \"marker\": {\"color\": \"#EF553B\", \"opacity\": 0.5, \"symbol\": \"diamond\"}, \"mode\": \"markers\", \"name\": \"color=90, symbol=90\", \"showlegend\": true, \"type\": \"scatter\", \"x\": [11.921097755432129, 11.953085899353027, 12.041909217834473, 12.053099632263184, 11.989006996154785], \"xaxis\": \"x\", \"y\": [12.606278419494629, 12.596569061279297, 12.477771759033203, 12.830321311950684, 12.474908828735352], \"yaxis\": \"y\"}, {\"hoverlabel\": {\"namelength\": 0}, \"hovertemplate\": \"<b>%{hovertext}</b><br><br>color=10<br>symbol=10<br>x=%{x}<br>y=%{y}\", \"hovertext\": [\"10\", \"10\", \"10\", \"10\", \"10\", \"10\", \"10\", \"10\"], \"legendgroup\": \"color=10, symbol=10\", \"marker\": {\"color\": \"#00cc96\", \"opacity\": 0.5, \"symbol\": \"square\"}, \"mode\": \"markers\", \"name\": \"color=10, symbol=10\", \"showlegend\": true, \"type\": \"scatter\", \"x\": [-5.162176132202148, -5.223845481872559, -5.225556373596191, -5.256959438323975, -5.129580020904541, -5.320324420928955, -5.181463241577148, -5.310705661773682], \"xaxis\": \"x\", \"y\": [10.445815086364746, 10.481100082397461, 10.490540504455566, 10.479887962341309, 10.38149642944336, 10.580161094665527, 10.458187103271484, 10.54104232788086], \"yaxis\": \"y\"}, {\"hoverlabel\": {\"namelength\": 0}, \"hovertemplate\": \"<b>%{hovertext}</b><br><br>color=78<br>symbol=78<br>x=%{x}<br>y=%{y}\", \"hovertext\": [\"78\", \"78\", \"78\", \"78\", \"78\", \"78\", \"78\", \"78\", \"78\"], \"legendgroup\": \"color=78, symbol=78\", \"marker\": {\"color\": \"#ab63fa\", \"opacity\": 0.5, \"symbol\": \"x\"}, \"mode\": \"markers\", \"name\": \"color=78, symbol=78\", \"showlegend\": true, \"type\": \"scatter\", \"x\": [11.315374374389648, 11.264677047729492, 11.3623628616333, 11.405008316040039, 11.234932899475098, 11.350526809692383, 11.442925453186035, 11.324370384216309, 11.064532279968262], \"xaxis\": \"x\", \"y\": [8.437423706054688, 8.677064895629883, 8.530616760253906, 8.497557640075684, 8.488748550415039, 8.551437377929688, 8.565101623535156, 8.440114974975586, 8.536027908325195], \"yaxis\": \"y\"}, {\"hoverlabel\": {\"namelength\": 0}, \"hovertemplate\": \"<b>%{hovertext}</b><br><br>color=96<br>symbol=96<br>x=%{x}<br>y=%{y}\", \"hovertext\": [\"96\", \"96\"], \"legendgroup\": \"color=96, symbol=96\", \"marker\": {\"color\": \"#FFA15A\", \"opacity\": 0.5, \"symbol\": \"cross\"}, \"mode\": \"markers\", \"name\": \"color=96, symbol=96\", \"showlegend\": true, \"type\": \"scatter\", \"x\": [12.429865837097168, 11.95769214630127], \"xaxis\": \"x\", \"y\": [12.480971336364746, 12.143887519836426], \"yaxis\": \"y\"}, {\"hoverlabel\": {\"namelength\": 0}, \"hovertemplate\": \"<b>%{hovertext}</b><br><br>color=46<br>symbol=46<br>x=%{x}<br>y=%{y}\", \"hovertext\": [\"46\", \"46\", \"46\", \"46\", \"46\", \"46\", \"46\", \"46\", \"46\"], \"legendgroup\": \"color=46, symbol=46\", \"marker\": {\"color\": \"#19d3f3\", \"opacity\": 0.5, \"symbol\": \"circle\"}, \"mode\": \"markers\", \"name\": \"color=46, symbol=46\", \"showlegend\": true, \"type\": \"scatter\", \"x\": [-7.097311973571777, -7.247241020202637, -7.111303329467773, -7.1287078857421875, -7.147615909576416, -7.132716655731201, -7.124310493469238, -7.040627956390381, -7.097743988037109], \"xaxis\": \"x\", \"y\": [11.760042190551758, 11.927146911621094, 11.838342666625977, 11.795262336730957, 11.797913551330566, 11.863983154296875, 11.800810813903809, 11.789430618286133, 11.775404930114746], \"yaxis\": \"y\"}, {\"hoverlabel\": {\"namelength\": 0}, \"hovertemplate\": \"<b>%{hovertext}</b><br><br>color=75<br>symbol=75<br>x=%{x}<br>y=%{y}\", \"hovertext\": [\"75\", \"75\", \"75\"], \"legendgroup\": \"color=75, symbol=75\", \"marker\": {\"color\": \"#FF6692\", \"opacity\": 0.5, \"symbol\": \"diamond\"}, \"mode\": \"markers\", \"name\": \"color=75, symbol=75\", \"showlegend\": true, \"type\": \"scatter\", \"x\": [11.415911674499512, 11.432908058166504, 11.503166198730469], \"xaxis\": \"x\", \"y\": [9.54775333404541, 9.584479331970215, 9.450357437133789], \"yaxis\": \"y\"}, {\"hoverlabel\": {\"namelength\": 0}, \"hovertemplate\": \"<b>%{hovertext}</b><br><br>color=13<br>symbol=13<br>x=%{x}<br>y=%{y}\", \"hovertext\": [\"13\", \"13\", \"13\", \"13\"], \"legendgroup\": \"color=13, symbol=13\", \"marker\": {\"color\": \"#B6E880\", \"opacity\": 0.5, \"symbol\": \"square\"}, \"mode\": \"markers\", \"name\": \"color=13, symbol=13\", \"showlegend\": true, \"type\": \"scatter\", \"x\": [-2.071735143661499, -2.0486273765563965, -2.085920572280884, -2.0882797241210938], \"xaxis\": \"x\", \"y\": [7.530163764953613, 7.555610179901123, 7.50516939163208, 7.507095813751221], \"yaxis\": \"y\"}, {\"hoverlabel\": {\"namelength\": 0}, \"hovertemplate\": \"<b>%{hovertext}</b><br><br>color=110<br>symbol=110<br>x=%{x}<br>y=%{y}\", \"hovertext\": [\"110\", \"110\", \"110\"], \"legendgroup\": \"color=110, symbol=110\", \"marker\": {\"color\": \"#FF97FF\", \"opacity\": 0.5, \"symbol\": \"x\"}, \"mode\": \"markers\", \"name\": \"color=110, symbol=110\", \"showlegend\": true, \"type\": \"scatter\", \"x\": [13.919620513916016, 13.472750663757324, 13.50557804107666], \"xaxis\": \"x\", \"y\": [10.872461318969727, 10.504524230957031, 10.53774642944336], \"yaxis\": \"y\"}, {\"hoverlabel\": {\"namelength\": 0}, \"hovertemplate\": \"<b>%{hovertext}</b><br><br>color=43<br>symbol=43<br>x=%{x}<br>y=%{y}\", \"hovertext\": [\"43\", \"43\", \"43\"], \"legendgroup\": \"color=43, symbol=43\", \"marker\": {\"color\": \"#FECB52\", \"opacity\": 0.5, \"symbol\": \"cross\"}, \"mode\": \"markers\", \"name\": \"color=43, symbol=43\", \"showlegend\": true, \"type\": \"scatter\", \"x\": [-1.2448755502700806, -1.15129816532135, -1.1480695009231567], \"xaxis\": \"x\", \"y\": [9.284534454345703, 9.326560020446777, 9.388924598693848], \"yaxis\": \"y\"}, {\"hoverlabel\": {\"namelength\": 0}, \"hovertemplate\": \"<b>%{hovertext}</b><br><br>color=68<br>symbol=68<br>x=%{x}<br>y=%{y}\", \"hovertext\": [\"68\", \"68\", \"68\", \"68\", \"68\", \"68\"], \"legendgroup\": \"color=68, symbol=68\", \"marker\": {\"color\": \"#636efa\", \"opacity\": 0.5, \"symbol\": \"circle\"}, \"mode\": \"markers\", \"name\": \"color=68, symbol=68\", \"showlegend\": true, \"type\": \"scatter\", \"x\": [15.473701477050781, 15.601037979125977, 15.632585525512695, 15.442041397094727, 15.549738883972168, 15.505097389221191], \"xaxis\": \"x\", \"y\": [11.057724952697754, 10.922525405883789, 10.927347183227539, 11.015149116516113, 8.541470527648926, 11.046500205993652], \"yaxis\": \"y\"}, {\"hoverlabel\": {\"namelength\": 0}, \"hovertemplate\": \"<b>%{hovertext}</b><br><br>color=19<br>symbol=19<br>x=%{x}<br>y=%{y}\", \"hovertext\": [\"19\", \"19\", \"19\", \"19\", \"19\", \"19\", \"19\", \"19\"], \"legendgroup\": \"color=19, symbol=19\", \"marker\": {\"color\": \"#EF553B\", \"opacity\": 0.5, \"symbol\": \"diamond\"}, \"mode\": \"markers\", \"name\": \"color=19, symbol=19\", \"showlegend\": true, \"type\": \"scatter\", \"x\": [-6.606928825378418, -6.596198081970215, -6.620414733886719, -6.447550296783447, -6.519913673400879, -6.568661212921143, -6.529317378997803, -6.545986175537109], \"xaxis\": \"x\", \"y\": [9.781255722045898, 9.772478103637695, 9.80584716796875, 9.887445449829102, 9.806439399719238, 9.761341094970703, 9.87623405456543, 9.839694023132324], \"yaxis\": \"y\"}, {\"hoverlabel\": {\"namelength\": 0}, \"hovertemplate\": \"<b>%{hovertext}</b><br><br>color=105<br>symbol=105<br>x=%{x}<br>y=%{y}\", \"hovertext\": [\"105\", \"105\", \"105\", \"105\", \"105\"], \"legendgroup\": \"color=105, symbol=105\", \"marker\": {\"color\": \"#00cc96\", \"opacity\": 0.5, \"symbol\": \"square\"}, \"mode\": \"markers\", \"name\": \"color=105, symbol=105\", \"showlegend\": true, \"type\": \"scatter\", \"x\": [10.198888778686523, 10.280716896057129, 10.309480667114258, 10.329584121704102, 10.286842346191406], \"xaxis\": \"x\", \"y\": [8.27397346496582, 8.18129825592041, 8.183000564575195, 8.132661819458008, 8.18795108795166], \"yaxis\": \"y\"}, {\"hoverlabel\": {\"namelength\": 0}, \"hovertemplate\": \"<b>%{hovertext}</b><br><br>color=48<br>symbol=48<br>x=%{x}<br>y=%{y}\", \"hovertext\": [\"48\", \"48\", \"48\", \"48\", \"48\"], \"legendgroup\": \"color=48, symbol=48\", \"marker\": {\"color\": \"#ab63fa\", \"opacity\": 0.5, \"symbol\": \"x\"}, \"mode\": \"markers\", \"name\": \"color=48, symbol=48\", \"showlegend\": true, \"type\": \"scatter\", \"x\": [-1.7878303527832031, -1.8937817811965942, -1.9948309659957886, -1.8503305912017822, -1.8675447702407837], \"xaxis\": \"x\", \"y\": [6.194559574127197, 6.289676666259766, 6.372280120849609, 6.240627765655518, 6.260906219482422], \"yaxis\": \"y\"}, {\"hoverlabel\": {\"namelength\": 0}, \"hovertemplate\": \"<b>%{hovertext}</b><br><br>color=67<br>symbol=67<br>x=%{x}<br>y=%{y}\", \"hovertext\": [\"67\", \"67\", \"67\", \"67\", \"67\"], \"legendgroup\": \"color=67, symbol=67\", \"marker\": {\"color\": \"#FFA15A\", \"opacity\": 0.5, \"symbol\": \"cross\"}, \"mode\": \"markers\", \"name\": \"color=67, symbol=67\", \"showlegend\": true, \"type\": \"scatter\", \"x\": [15.352714538574219, 15.294827461242676, 15.301547050476074, 15.431044578552246, 15.335314750671387], \"xaxis\": \"x\", \"y\": [9.965664863586426, 9.901956558227539, 9.991881370544434, 10.076913833618164, 9.979583740234375], \"yaxis\": \"y\"}, {\"hoverlabel\": {\"namelength\": 0}, \"hovertemplate\": \"<b>%{hovertext}</b><br><br>color=35<br>symbol=35<br>x=%{x}<br>y=%{y}\", \"hovertext\": [\"35\", \"35\", \"35\", \"35\", \"35\", \"35\", \"35\"], \"legendgroup\": \"color=35, symbol=35\", \"marker\": {\"color\": \"#19d3f3\", \"opacity\": 0.5, \"symbol\": \"circle\"}, \"mode\": \"markers\", \"name\": \"color=35, symbol=35\", \"showlegend\": true, \"type\": \"scatter\", \"x\": [-1.4585134983062744, -1.4901138544082642, -1.453614592552185, -1.3699634075164795, -1.4664311408996582, -1.4142793416976929, -1.421194314956665], \"xaxis\": \"x\", \"y\": [12.58674144744873, 12.875530242919922, 12.513693809509277, 12.666144371032715, 12.693159103393555, 12.66122817993164, 12.53919792175293], \"yaxis\": \"y\"}, {\"hoverlabel\": {\"namelength\": 0}, \"hovertemplate\": \"<b>%{hovertext}</b><br><br>color=14<br>symbol=14<br>x=%{x}<br>y=%{y}\", \"hovertext\": [\"14\", \"14\", \"14\", \"14\", \"14\", \"14\"], \"legendgroup\": \"color=14, symbol=14\", \"marker\": {\"color\": \"#FF6692\", \"opacity\": 0.5, \"symbol\": \"diamond\"}, \"mode\": \"markers\", \"name\": \"color=14, symbol=14\", \"showlegend\": true, \"type\": \"scatter\", \"x\": [-1.382496953010559, -1.4102928638458252, -1.468339443206787, -1.4440635442733765, -1.4455653429031372, -1.5184128284454346], \"xaxis\": \"x\", \"y\": [9.18332576751709, 9.145732879638672, 9.096171379089355, 9.08681583404541, 9.088644981384277, 9.097904205322266], \"yaxis\": \"y\"}, {\"hoverlabel\": {\"namelength\": 0}, \"hovertemplate\": \"<b>%{hovertext}</b><br><br>color=42<br>symbol=42<br>x=%{x}<br>y=%{y}\", \"hovertext\": [\"42\", \"42\", \"42\", \"42\", \"42\"], \"legendgroup\": \"color=42, symbol=42\", \"marker\": {\"color\": \"#B6E880\", \"opacity\": 0.5, \"symbol\": \"square\"}, \"mode\": \"markers\", \"name\": \"color=42, symbol=42\", \"showlegend\": true, \"type\": \"scatter\", \"x\": [-4.074066638946533, -4.063912868499756, -3.856152057647705, -3.9836642742156982, -3.987840414047241], \"xaxis\": \"x\", \"y\": [9.130742073059082, 9.145959854125977, 8.945642471313477, 9.147123336791992, 9.08460521697998], \"yaxis\": \"y\"}, {\"hoverlabel\": {\"namelength\": 0}, \"hovertemplate\": \"<b>%{hovertext}</b><br><br>color=8<br>symbol=8<br>x=%{x}<br>y=%{y}\", \"hovertext\": [\"8\", \"8\", \"8\", \"8\", \"8\", \"8\", \"8\"], \"legendgroup\": \"color=8, symbol=8\", \"marker\": {\"color\": \"#FF97FF\", \"opacity\": 0.5, \"symbol\": \"x\"}, \"mode\": \"markers\", \"name\": \"color=8, symbol=8\", \"showlegend\": true, \"type\": \"scatter\", \"x\": [-3.446861982345581, -3.2908778190612793, -3.592179536819458, -3.90431547164917, -3.3634376525878906, -3.2485804557800293, -3.290591239929199], \"xaxis\": \"x\", \"y\": [11.133207321166992, 10.842512130737305, 10.762998580932617, 9.574828147888184, 10.749438285827637, 10.754112243652344, 10.856917381286621], \"yaxis\": \"y\"}, {\"hoverlabel\": {\"namelength\": 0}, \"hovertemplate\": \"<b>%{hovertext}</b><br><br>color=28<br>symbol=28<br>x=%{x}<br>y=%{y}\", \"hovertext\": [\"28\", \"28\", \"28\", \"28\", \"28\", \"28\"], \"legendgroup\": \"color=28, symbol=28\", \"marker\": {\"color\": \"#FECB52\", \"opacity\": 0.5, \"symbol\": \"cross\"}, \"mode\": \"markers\", \"name\": \"color=28, symbol=28\", \"showlegend\": true, \"type\": \"scatter\", \"x\": [-1.3015297651290894, -1.272424340248108, -1.0778353214263916, -1.0773518085479736, -1.2140170335769653, -1.1996461153030396], \"xaxis\": \"x\", \"y\": [10.187186241149902, 10.163331031799316, 10.149052619934082, 10.109203338623047, 10.151248931884766, 10.170125007629395], \"yaxis\": \"y\"}, {\"hoverlabel\": {\"namelength\": 0}, \"hovertemplate\": \"<b>%{hovertext}</b><br><br>color=70<br>symbol=70<br>x=%{x}<br>y=%{y}\", \"hovertext\": [\"70\", \"70\"], \"legendgroup\": \"color=70, symbol=70\", \"marker\": {\"color\": \"#636efa\", \"opacity\": 0.5, \"symbol\": \"circle\"}, \"mode\": \"markers\", \"name\": \"color=70, symbol=70\", \"showlegend\": true, \"type\": \"scatter\", \"x\": [15.197628021240234, 15.259916305541992], \"xaxis\": \"x\", \"y\": [9.866754531860352, 9.956528663635254], \"yaxis\": \"y\"}, {\"hoverlabel\": {\"namelength\": 0}, \"hovertemplate\": \"<b>%{hovertext}</b><br><br>color=99<br>symbol=99<br>x=%{x}<br>y=%{y}\", \"hovertext\": [\"99\", \"99\", \"99\"], \"legendgroup\": \"color=99, symbol=99\", \"marker\": {\"color\": \"#EF553B\", \"opacity\": 0.5, \"symbol\": \"diamond\"}, \"mode\": \"markers\", \"name\": \"color=99, symbol=99\", \"showlegend\": true, \"type\": \"scatter\", \"x\": [11.357108116149902, 11.269930839538574, 11.335747718811035], \"xaxis\": \"x\", \"y\": [11.601053237915039, 11.544349670410156, 11.600364685058594], \"yaxis\": \"y\"}, {\"hoverlabel\": {\"namelength\": 0}, \"hovertemplate\": \"<b>%{hovertext}</b><br><br>color=108<br>symbol=108<br>x=%{x}<br>y=%{y}\", \"hovertext\": [\"108\", \"108\", \"108\"], \"legendgroup\": \"color=108, symbol=108\", \"marker\": {\"color\": \"#00cc96\", \"opacity\": 0.5, \"symbol\": \"square\"}, \"mode\": \"markers\", \"name\": \"color=108, symbol=108\", \"showlegend\": true, \"type\": \"scatter\", \"x\": [14.298946380615234, 14.265053749084473, 14.546563148498535], \"xaxis\": \"x\", \"y\": [11.624418258666992, 11.655584335327148, 11.492868423461914], \"yaxis\": \"y\"}, {\"hoverlabel\": {\"namelength\": 0}, \"hovertemplate\": \"<b>%{hovertext}</b><br><br>color=16<br>symbol=16<br>x=%{x}<br>y=%{y}\", \"hovertext\": [\"16\", \"16\"], \"legendgroup\": \"color=16, symbol=16\", \"marker\": {\"color\": \"#ab63fa\", \"opacity\": 0.5, \"symbol\": \"x\"}, \"mode\": \"markers\", \"name\": \"color=16, symbol=16\", \"showlegend\": true, \"type\": \"scatter\", \"x\": [-1.76240074634552, -2.1268792152404785], \"xaxis\": \"x\", \"y\": [6.194549560546875, 7.1839423179626465], \"yaxis\": \"y\"}, {\"hoverlabel\": {\"namelength\": 0}, \"hovertemplate\": \"<b>%{hovertext}</b><br><br>color=60<br>symbol=60<br>x=%{x}<br>y=%{y}\", \"hovertext\": [\"60\", \"60\", \"60\", \"60\", \"60\"], \"legendgroup\": \"color=60, symbol=60\", \"marker\": {\"color\": \"#FFA15A\", \"opacity\": 0.5, \"symbol\": \"cross\"}, \"mode\": \"markers\", \"name\": \"color=60, symbol=60\", \"showlegend\": true, \"type\": \"scatter\", \"x\": [12.765920639038086, 12.697407722473145, 12.622049331665039, 12.876376152038574, 12.734506607055664], \"xaxis\": \"x\", \"y\": [8.546402931213379, 8.97808837890625, 8.467251777648926, 8.19427490234375, 8.394352912902832], \"yaxis\": \"y\"}, {\"hoverlabel\": {\"namelength\": 0}, \"hovertemplate\": \"<b>%{hovertext}</b><br><br>color=39<br>symbol=39<br>x=%{x}<br>y=%{y}\", \"hovertext\": [\"39\", \"39\"], \"legendgroup\": \"color=39, symbol=39\", \"marker\": {\"color\": \"#19d3f3\", \"opacity\": 0.5, \"symbol\": \"circle\"}, \"mode\": \"markers\", \"name\": \"color=39, symbol=39\", \"showlegend\": true, \"type\": \"scatter\", \"x\": [-2.830507516860962, -2.8578782081604004], \"xaxis\": \"x\", \"y\": [8.527012825012207, 8.543875694274902], \"yaxis\": \"y\"}, {\"hoverlabel\": {\"namelength\": 0}, \"hovertemplate\": \"<b>%{hovertext}</b><br><br>color=87<br>symbol=87<br>x=%{x}<br>y=%{y}\", \"hovertext\": [\"87\", \"87\", \"87\", \"87\"], \"legendgroup\": \"color=87, symbol=87\", \"marker\": {\"color\": \"#FF6692\", \"opacity\": 0.5, \"symbol\": \"diamond\"}, \"mode\": \"markers\", \"name\": \"color=87, symbol=87\", \"showlegend\": true, \"type\": \"scatter\", \"x\": [15.913439750671387, 12.507699012756348, 15.79731559753418, 15.80003833770752], \"xaxis\": \"x\", \"y\": [10.661001205444336, 10.011041641235352, 10.606351852416992, 10.648636817932129], \"yaxis\": \"y\"}, {\"hoverlabel\": {\"namelength\": 0}, \"hovertemplate\": \"<b>%{hovertext}</b><br><br>color=29<br>symbol=29<br>x=%{x}<br>y=%{y}\", \"hovertext\": [\"29\", \"29\", \"29\", \"29\"], \"legendgroup\": \"color=29, symbol=29\", \"marker\": {\"color\": \"#B6E880\", \"opacity\": 0.5, \"symbol\": \"square\"}, \"mode\": \"markers\", \"name\": \"color=29, symbol=29\", \"showlegend\": true, \"type\": \"scatter\", \"x\": [-1.73595130443573, -1.7372782230377197, -1.7116204500198364, -1.7177709341049194], \"xaxis\": \"x\", \"y\": [6.163214206695557, 6.168632984161377, 6.160134315490723, 6.151320457458496], \"yaxis\": \"y\"}, {\"hoverlabel\": {\"namelength\": 0}, \"hovertemplate\": \"<b>%{hovertext}</b><br><br>color=72<br>symbol=72<br>x=%{x}<br>y=%{y}\", \"hovertext\": [\"72\", \"72\", \"72\", \"72\", \"72\", \"72\"], \"legendgroup\": \"color=72, symbol=72\", \"marker\": {\"color\": \"#FF97FF\", \"opacity\": 0.5, \"symbol\": \"x\"}, \"mode\": \"markers\", \"name\": \"color=72, symbol=72\", \"showlegend\": true, \"type\": \"scatter\", \"x\": [15.594598770141602, 15.523056030273438, 15.644376754760742, 15.593018531799316, 15.599315643310547, 15.601656913757324], \"xaxis\": \"x\", \"y\": [8.614367485046387, 8.559535026550293, 8.464076042175293, 8.522913932800293, 8.50441837310791, 8.492470741271973], \"yaxis\": \"y\"}, {\"hoverlabel\": {\"namelength\": 0}, \"hovertemplate\": \"<b>%{hovertext}</b><br><br>color=95<br>symbol=95<br>x=%{x}<br>y=%{y}\", \"hovertext\": [\"95\", \"95\", \"95\", \"95\", \"95\", \"95\", \"95\"], \"legendgroup\": \"color=95, symbol=95\", \"marker\": {\"color\": \"#FECB52\", \"opacity\": 0.5, \"symbol\": \"cross\"}, \"mode\": \"markers\", \"name\": \"color=95, symbol=95\", \"showlegend\": true, \"type\": \"scatter\", \"x\": [10.7271089553833, 10.829739570617676, 10.805514335632324, 10.704730987548828, 10.666748046875, 10.705134391784668, 10.754390716552734], \"xaxis\": \"x\", \"y\": [11.755928993225098, 11.741037368774414, 11.75090217590332, 11.701338768005371, 11.618011474609375, 11.721160888671875, 11.623899459838867], \"yaxis\": \"y\"}, {\"hoverlabel\": {\"namelength\": 0}, \"hovertemplate\": \"<b>%{hovertext}</b><br><br>color=77<br>symbol=77<br>x=%{x}<br>y=%{y}\", \"hovertext\": [\"77\"], \"legendgroup\": \"color=77, symbol=77\", \"marker\": {\"color\": \"#636efa\", \"opacity\": 0.5, \"symbol\": \"circle\"}, \"mode\": \"markers\", \"name\": \"color=77, symbol=77\", \"showlegend\": true, \"type\": \"scatter\", \"x\": [11.481559753417969], \"xaxis\": \"x\", \"y\": [8.6146821975708], \"yaxis\": \"y\"}, {\"hoverlabel\": {\"namelength\": 0}, \"hovertemplate\": \"<b>%{hovertext}</b><br><br>color=83<br>symbol=83<br>x=%{x}<br>y=%{y}\", \"hovertext\": [\"83\", \"83\"], \"legendgroup\": \"color=83, symbol=83\", \"marker\": {\"color\": \"#EF553B\", \"opacity\": 0.5, \"symbol\": \"diamond\"}, \"mode\": \"markers\", \"name\": \"color=83, symbol=83\", \"showlegend\": true, \"type\": \"scatter\", \"x\": [12.655770301818848, 12.721916198730469], \"xaxis\": \"x\", \"y\": [8.929105758666992, 9.171818733215332], \"yaxis\": \"y\"}, {\"hoverlabel\": {\"namelength\": 0}, \"hovertemplate\": \"<b>%{hovertext}</b><br><br>color=15<br>symbol=15<br>x=%{x}<br>y=%{y}\", \"hovertext\": [\"15\", \"15\", \"15\"], \"legendgroup\": \"color=15, symbol=15\", \"marker\": {\"color\": \"#00cc96\", \"opacity\": 0.5, \"symbol\": \"square\"}, \"mode\": \"markers\", \"name\": \"color=15, symbol=15\", \"showlegend\": true, \"type\": \"scatter\", \"x\": [-2.038417100906372, -2.086683750152588, -2.0055992603302], \"xaxis\": \"x\", \"y\": [8.426912307739258, 8.408793449401855, 8.320423126220703], \"yaxis\": \"y\"}, {\"hoverlabel\": {\"namelength\": 0}, \"hovertemplate\": \"<b>%{hovertext}</b><br><br>color=65<br>symbol=65<br>x=%{x}<br>y=%{y}\", \"hovertext\": [\"65\", \"65\"], \"legendgroup\": \"color=65, symbol=65\", \"marker\": {\"color\": \"#ab63fa\", \"opacity\": 0.5, \"symbol\": \"x\"}, \"mode\": \"markers\", \"name\": \"color=65, symbol=65\", \"showlegend\": true, \"type\": \"scatter\", \"x\": [15.63304615020752, 15.617112159729004], \"xaxis\": \"x\", \"y\": [8.472264289855957, 8.501543998718262], \"yaxis\": \"y\"}, {\"hoverlabel\": {\"namelength\": 0}, \"hovertemplate\": \"<b>%{hovertext}</b><br><br>color=71<br>symbol=71<br>x=%{x}<br>y=%{y}\", \"hovertext\": [\"71\", \"71\"], \"legendgroup\": \"color=71, symbol=71\", \"marker\": {\"color\": \"#FFA15A\", \"opacity\": 0.5, \"symbol\": \"cross\"}, \"mode\": \"markers\", \"name\": \"color=71, symbol=71\", \"showlegend\": true, \"type\": \"scatter\", \"x\": [12.239977836608887, 12.388978004455566], \"xaxis\": \"x\", \"y\": [12.888890266418457, 12.74084758758545], \"yaxis\": \"y\"}, {\"hoverlabel\": {\"namelength\": 0}, \"hovertemplate\": \"<b>%{hovertext}</b><br><br>color=22<br>symbol=22<br>x=%{x}<br>y=%{y}\", \"hovertext\": [\"22\", \"22\", \"22\", \"22\", \"22\", \"22\"], \"legendgroup\": \"color=22, symbol=22\", \"marker\": {\"color\": \"#19d3f3\", \"opacity\": 0.5, \"symbol\": \"circle\"}, \"mode\": \"markers\", \"name\": \"color=22, symbol=22\", \"showlegend\": true, \"type\": \"scatter\", \"x\": [-7.075102806091309, -7.134895324707031, -7.136384010314941, -7.135467052459717, -7.129268646240234, -7.179052829742432], \"xaxis\": \"x\", \"y\": [9.995443344116211, 9.892751693725586, 9.995007514953613, 9.95251750946045, 10.065789222717285, 9.950406074523926], \"yaxis\": \"y\"}, {\"hoverlabel\": {\"namelength\": 0}, \"hovertemplate\": \"<b>%{hovertext}</b><br><br>color=50<br>symbol=50<br>x=%{x}<br>y=%{y}\", \"hovertext\": [\"50\", \"50\"], \"legendgroup\": \"color=50, symbol=50\", \"marker\": {\"color\": \"#FF6692\", \"opacity\": 0.5, \"symbol\": \"diamond\"}, \"mode\": \"markers\", \"name\": \"color=50, symbol=50\", \"showlegend\": true, \"type\": \"scatter\", \"x\": [-3.5463550090789795, -3.5803375244140625], \"xaxis\": \"x\", \"y\": [8.719568252563477, 8.6791353225708], \"yaxis\": \"y\"}, {\"hoverlabel\": {\"namelength\": 0}, \"hovertemplate\": \"<b>%{hovertext}</b><br><br>color=12<br>symbol=12<br>x=%{x}<br>y=%{y}\", \"hovertext\": [\"12\", \"12\"], \"legendgroup\": \"color=12, symbol=12\", \"marker\": {\"color\": \"#B6E880\", \"opacity\": 0.5, \"symbol\": \"square\"}, \"mode\": \"markers\", \"name\": \"color=12, symbol=12\", \"showlegend\": true, \"type\": \"scatter\", \"x\": [-1.9570703506469727, -1.9741562604904175], \"xaxis\": \"x\", \"y\": [10.570833206176758, 10.773465156555176], \"yaxis\": \"y\"}, {\"hoverlabel\": {\"namelength\": 0}, \"hovertemplate\": \"<b>%{hovertext}</b><br><br>color=88<br>symbol=88<br>x=%{x}<br>y=%{y}\", \"hovertext\": [\"88\", \"88\", \"88\", \"88\", \"88\"], \"legendgroup\": \"color=88, symbol=88\", \"marker\": {\"color\": \"#FF97FF\", \"opacity\": 0.5, \"symbol\": \"x\"}, \"mode\": \"markers\", \"name\": \"color=88, symbol=88\", \"showlegend\": true, \"type\": \"scatter\", \"x\": [12.252069473266602, 12.258355140686035, 13.037734985351562, 12.725403785705566, 12.383278846740723], \"xaxis\": \"x\", \"y\": [11.571709632873535, 11.675539016723633, 11.321293830871582, 11.11717700958252, 11.508899688720703], \"yaxis\": \"y\"}, {\"hoverlabel\": {\"namelength\": 0}, \"hovertemplate\": \"<b>%{hovertext}</b><br><br>color=5<br>symbol=5<br>x=%{x}<br>y=%{y}\", \"hovertext\": [\"5\", \"5\", \"5\", \"5\", \"5\"], \"legendgroup\": \"color=5, symbol=5\", \"marker\": {\"color\": \"#FECB52\", \"opacity\": 0.5, \"symbol\": \"cross\"}, \"mode\": \"markers\", \"name\": \"color=5, symbol=5\", \"showlegend\": true, \"type\": \"scatter\", \"x\": [-3.2590487003326416, -3.264690399169922, -2.95375394821167, -3.1784591674804688, -2.9413163661956787], \"xaxis\": \"x\", \"y\": [10.829843521118164, 10.907135009765625, 10.726946830749512, 10.780393600463867, 10.68781566619873], \"yaxis\": \"y\"}, {\"hoverlabel\": {\"namelength\": 0}, \"hovertemplate\": \"<b>%{hovertext}</b><br><br>color=31<br>symbol=31<br>x=%{x}<br>y=%{y}\", \"hovertext\": [\"31\"], \"legendgroup\": \"color=31, symbol=31\", \"marker\": {\"color\": \"#636efa\", \"opacity\": 0.5, \"symbol\": \"circle\"}, \"mode\": \"markers\", \"name\": \"color=31, symbol=31\", \"showlegend\": true, \"type\": \"scatter\", \"x\": [-6.527168273925781], \"xaxis\": \"x\", \"y\": [9.71014404296875], \"yaxis\": \"y\"}, {\"hoverlabel\": {\"namelength\": 0}, \"hovertemplate\": \"<b>%{hovertext}</b><br><br>color=38<br>symbol=38<br>x=%{x}<br>y=%{y}\", \"hovertext\": [\"38\", \"38\", \"38\"], \"legendgroup\": \"color=38, symbol=38\", \"marker\": {\"color\": \"#EF553B\", \"opacity\": 0.5, \"symbol\": \"diamond\"}, \"mode\": \"markers\", \"name\": \"color=38, symbol=38\", \"showlegend\": true, \"type\": \"scatter\", \"x\": [-1.561877727508545, -1.5629949569702148, -1.607591986656189], \"xaxis\": \"x\", \"y\": [9.133782386779785, 9.220542907714844, 9.21481704711914], \"yaxis\": \"y\"}, {\"hoverlabel\": {\"namelength\": 0}, \"hovertemplate\": \"<b>%{hovertext}</b><br><br>color=23<br>symbol=23<br>x=%{x}<br>y=%{y}\", \"hovertext\": [\"23\", \"23\", \"23\"], \"legendgroup\": \"color=23, symbol=23\", \"marker\": {\"color\": \"#00cc96\", \"opacity\": 0.5, \"symbol\": \"square\"}, \"mode\": \"markers\", \"name\": \"color=23, symbol=23\", \"showlegend\": true, \"type\": \"scatter\", \"x\": [-3.3445324897766113, -3.366875648498535, -3.4000473022460938], \"xaxis\": \"x\", \"y\": [8.528576850891113, 8.540220260620117, 8.483619689941406], \"yaxis\": \"y\"}, {\"hoverlabel\": {\"namelength\": 0}, \"hovertemplate\": \"<b>%{hovertext}</b><br><br>color=106<br>symbol=106<br>x=%{x}<br>y=%{y}\", \"hovertext\": [\"106\", \"106\"], \"legendgroup\": \"color=106, symbol=106\", \"marker\": {\"color\": \"#ab63fa\", \"opacity\": 0.5, \"symbol\": \"x\"}, \"mode\": \"markers\", \"name\": \"color=106, symbol=106\", \"showlegend\": true, \"type\": \"scatter\", \"x\": [15.898271560668945, 15.9999418258667], \"xaxis\": \"x\", \"y\": [10.634243965148926, 10.65936279296875], \"yaxis\": \"y\"}, {\"hoverlabel\": {\"namelength\": 0}, \"hovertemplate\": \"<b>%{hovertext}</b><br><br>color=7<br>symbol=7<br>x=%{x}<br>y=%{y}\", \"hovertext\": [\"7\", \"7\", \"7\"], \"legendgroup\": \"color=7, symbol=7\", \"marker\": {\"color\": \"#FFA15A\", \"opacity\": 0.5, \"symbol\": \"cross\"}, \"mode\": \"markers\", \"name\": \"color=7, symbol=7\", \"showlegend\": true, \"type\": \"scatter\", \"x\": [-3.620939254760742, -3.675905704498291, -3.646803379058838], \"xaxis\": \"x\", \"y\": [11.689530372619629, 11.639386177062988, 11.642589569091797], \"yaxis\": \"y\"}, {\"hoverlabel\": {\"namelength\": 0}, \"hovertemplate\": \"<b>%{hovertext}</b><br><br>color=33<br>symbol=33<br>x=%{x}<br>y=%{y}\", \"hovertext\": [\"33\", \"33\", \"33\", \"33\"], \"legendgroup\": \"color=33, symbol=33\", \"marker\": {\"color\": \"#19d3f3\", \"opacity\": 0.5, \"symbol\": \"circle\"}, \"mode\": \"markers\", \"name\": \"color=33, symbol=33\", \"showlegend\": true, \"type\": \"scatter\", \"x\": [-7.274234294891357, -7.232546806335449, -7.217771530151367, -7.228647708892822], \"xaxis\": \"x\", \"y\": [9.99942398071289, 10.016928672790527, 9.983809471130371, 10.048877716064453], \"yaxis\": \"y\"}, {\"hoverlabel\": {\"namelength\": 0}, \"hovertemplate\": \"<b>%{hovertext}</b><br><br>color=93<br>symbol=93<br>x=%{x}<br>y=%{y}\", \"hovertext\": [\"93\", \"93\", \"93\"], \"legendgroup\": \"color=93, symbol=93\", \"marker\": {\"color\": \"#FF6692\", \"opacity\": 0.5, \"symbol\": \"diamond\"}, \"mode\": \"markers\", \"name\": \"color=93, symbol=93\", \"showlegend\": true, \"type\": \"scatter\", \"x\": [10.2426176071167, 10.219987869262695, 10.114019393920898], \"xaxis\": \"x\", \"y\": [10.661456108093262, 10.664107322692871, 10.588515281677246], \"yaxis\": \"y\"}, {\"hoverlabel\": {\"namelength\": 0}, \"hovertemplate\": \"<b>%{hovertext}</b><br><br>color=49<br>symbol=49<br>x=%{x}<br>y=%{y}\", \"hovertext\": [\"49\"], \"legendgroup\": \"color=49, symbol=49\", \"marker\": {\"color\": \"#B6E880\", \"opacity\": 0.5, \"symbol\": \"square\"}, \"mode\": \"markers\", \"name\": \"color=49, symbol=49\", \"showlegend\": true, \"type\": \"scatter\", \"x\": [-1.2347718477249146], \"xaxis\": \"x\", \"y\": [10.920433044433594], \"yaxis\": \"y\"}, {\"hoverlabel\": {\"namelength\": 0}, \"hovertemplate\": \"<b>%{hovertext}</b><br><br>color=86<br>symbol=86<br>x=%{x}<br>y=%{y}\", \"hovertext\": [\"86\"], \"legendgroup\": \"color=86, symbol=86\", \"marker\": {\"color\": \"#FF97FF\", \"opacity\": 0.5, \"symbol\": \"x\"}, \"mode\": \"markers\", \"name\": \"color=86, symbol=86\", \"showlegend\": true, \"type\": \"scatter\", \"x\": [14.555689811706543], \"xaxis\": \"x\", \"y\": [7.889435291290283], \"yaxis\": \"y\"}],\n",
              "                        {\"height\": 900, \"legend\": {\"tracegroupgap\": 0}, \"template\": {\"data\": {\"bar\": [{\"error_x\": {\"color\": \"#2a3f5f\"}, \"error_y\": {\"color\": \"#2a3f5f\"}, \"marker\": {\"line\": {\"color\": \"#E5ECF6\", \"width\": 0.5}}, \"type\": \"bar\"}], \"barpolar\": [{\"marker\": {\"line\": {\"color\": \"#E5ECF6\", \"width\": 0.5}}, \"type\": \"barpolar\"}], \"carpet\": [{\"aaxis\": {\"endlinecolor\": \"#2a3f5f\", \"gridcolor\": \"white\", \"linecolor\": \"white\", \"minorgridcolor\": \"white\", \"startlinecolor\": \"#2a3f5f\"}, \"baxis\": {\"endlinecolor\": \"#2a3f5f\", \"gridcolor\": \"white\", \"linecolor\": \"white\", \"minorgridcolor\": \"white\", \"startlinecolor\": \"#2a3f5f\"}, \"type\": \"carpet\"}], \"choropleth\": [{\"colorbar\": {\"outlinewidth\": 0, \"ticks\": \"\"}, \"type\": \"choropleth\"}], \"contour\": [{\"colorbar\": {\"outlinewidth\": 0, \"ticks\": \"\"}, \"colorscale\": [[0.0, \"#0d0887\"], [0.1111111111111111, \"#46039f\"], [0.2222222222222222, \"#7201a8\"], [0.3333333333333333, \"#9c179e\"], [0.4444444444444444, \"#bd3786\"], [0.5555555555555556, \"#d8576b\"], [0.6666666666666666, \"#ed7953\"], [0.7777777777777778, \"#fb9f3a\"], [0.8888888888888888, \"#fdca26\"], [1.0, \"#f0f921\"]], \"type\": \"contour\"}], \"contourcarpet\": [{\"colorbar\": {\"outlinewidth\": 0, \"ticks\": \"\"}, \"type\": \"contourcarpet\"}], \"heatmap\": [{\"colorbar\": {\"outlinewidth\": 0, \"ticks\": \"\"}, \"colorscale\": [[0.0, \"#0d0887\"], [0.1111111111111111, \"#46039f\"], [0.2222222222222222, \"#7201a8\"], [0.3333333333333333, \"#9c179e\"], [0.4444444444444444, \"#bd3786\"], [0.5555555555555556, \"#d8576b\"], [0.6666666666666666, \"#ed7953\"], [0.7777777777777778, \"#fb9f3a\"], [0.8888888888888888, \"#fdca26\"], [1.0, \"#f0f921\"]], \"type\": \"heatmap\"}], \"heatmapgl\": [{\"colorbar\": {\"outlinewidth\": 0, \"ticks\": \"\"}, \"colorscale\": [[0.0, \"#0d0887\"], [0.1111111111111111, \"#46039f\"], [0.2222222222222222, \"#7201a8\"], [0.3333333333333333, \"#9c179e\"], [0.4444444444444444, \"#bd3786\"], [0.5555555555555556, \"#d8576b\"], [0.6666666666666666, \"#ed7953\"], [0.7777777777777778, \"#fb9f3a\"], [0.8888888888888888, \"#fdca26\"], [1.0, \"#f0f921\"]], \"type\": \"heatmapgl\"}], \"histogram\": [{\"marker\": {\"colorbar\": {\"outlinewidth\": 0, \"ticks\": \"\"}}, \"type\": \"histogram\"}], \"histogram2d\": [{\"colorbar\": {\"outlinewidth\": 0, \"ticks\": \"\"}, \"colorscale\": [[0.0, \"#0d0887\"], [0.1111111111111111, \"#46039f\"], [0.2222222222222222, \"#7201a8\"], [0.3333333333333333, \"#9c179e\"], [0.4444444444444444, \"#bd3786\"], [0.5555555555555556, \"#d8576b\"], [0.6666666666666666, \"#ed7953\"], [0.7777777777777778, \"#fb9f3a\"], [0.8888888888888888, \"#fdca26\"], [1.0, \"#f0f921\"]], \"type\": \"histogram2d\"}], \"histogram2dcontour\": [{\"colorbar\": {\"outlinewidth\": 0, \"ticks\": \"\"}, \"colorscale\": [[0.0, \"#0d0887\"], [0.1111111111111111, \"#46039f\"], [0.2222222222222222, \"#7201a8\"], [0.3333333333333333, \"#9c179e\"], [0.4444444444444444, \"#bd3786\"], [0.5555555555555556, \"#d8576b\"], [0.6666666666666666, \"#ed7953\"], [0.7777777777777778, \"#fb9f3a\"], [0.8888888888888888, \"#fdca26\"], [1.0, \"#f0f921\"]], \"type\": \"histogram2dcontour\"}], \"mesh3d\": [{\"colorbar\": {\"outlinewidth\": 0, \"ticks\": \"\"}, \"type\": \"mesh3d\"}], \"parcoords\": [{\"line\": {\"colorbar\": {\"outlinewidth\": 0, \"ticks\": \"\"}}, \"type\": \"parcoords\"}], \"pie\": [{\"automargin\": true, \"type\": \"pie\"}], \"scatter\": [{\"marker\": {\"colorbar\": {\"outlinewidth\": 0, \"ticks\": \"\"}}, \"type\": \"scatter\"}], \"scatter3d\": [{\"line\": {\"colorbar\": {\"outlinewidth\": 0, \"ticks\": \"\"}}, \"marker\": {\"colorbar\": {\"outlinewidth\": 0, \"ticks\": \"\"}}, \"type\": \"scatter3d\"}], \"scattercarpet\": [{\"marker\": {\"colorbar\": {\"outlinewidth\": 0, \"ticks\": \"\"}}, \"type\": \"scattercarpet\"}], \"scattergeo\": [{\"marker\": {\"colorbar\": {\"outlinewidth\": 0, \"ticks\": \"\"}}, \"type\": \"scattergeo\"}], \"scattergl\": [{\"marker\": {\"colorbar\": {\"outlinewidth\": 0, \"ticks\": \"\"}}, \"type\": \"scattergl\"}], \"scattermapbox\": [{\"marker\": {\"colorbar\": {\"outlinewidth\": 0, \"ticks\": \"\"}}, \"type\": \"scattermapbox\"}], \"scatterpolar\": [{\"marker\": {\"colorbar\": {\"outlinewidth\": 0, \"ticks\": \"\"}}, \"type\": \"scatterpolar\"}], \"scatterpolargl\": [{\"marker\": {\"colorbar\": {\"outlinewidth\": 0, \"ticks\": \"\"}}, \"type\": \"scatterpolargl\"}], \"scatterternary\": [{\"marker\": {\"colorbar\": {\"outlinewidth\": 0, \"ticks\": \"\"}}, \"type\": \"scatterternary\"}], \"surface\": [{\"colorbar\": {\"outlinewidth\": 0, \"ticks\": \"\"}, \"colorscale\": [[0.0, \"#0d0887\"], [0.1111111111111111, \"#46039f\"], [0.2222222222222222, \"#7201a8\"], [0.3333333333333333, \"#9c179e\"], [0.4444444444444444, \"#bd3786\"], [0.5555555555555556, \"#d8576b\"], [0.6666666666666666, \"#ed7953\"], [0.7777777777777778, \"#fb9f3a\"], [0.8888888888888888, \"#fdca26\"], [1.0, \"#f0f921\"]], \"type\": \"surface\"}], \"table\": [{\"cells\": {\"fill\": {\"color\": \"#EBF0F8\"}, \"line\": {\"color\": \"white\"}}, \"header\": {\"fill\": {\"color\": \"#C8D4E3\"}, \"line\": {\"color\": \"white\"}}, \"type\": \"table\"}]}, \"layout\": {\"annotationdefaults\": {\"arrowcolor\": \"#2a3f5f\", \"arrowhead\": 0, \"arrowwidth\": 1}, \"coloraxis\": {\"colorbar\": {\"outlinewidth\": 0, \"ticks\": \"\"}}, \"colorscale\": {\"diverging\": [[0, \"#8e0152\"], [0.1, \"#c51b7d\"], [0.2, \"#de77ae\"], [0.3, \"#f1b6da\"], [0.4, \"#fde0ef\"], [0.5, \"#f7f7f7\"], [0.6, \"#e6f5d0\"], [0.7, \"#b8e186\"], [0.8, \"#7fbc41\"], [0.9, \"#4d9221\"], [1, \"#276419\"]], \"sequential\": [[0.0, \"#0d0887\"], [0.1111111111111111, \"#46039f\"], [0.2222222222222222, \"#7201a8\"], [0.3333333333333333, \"#9c179e\"], [0.4444444444444444, \"#bd3786\"], [0.5555555555555556, \"#d8576b\"], [0.6666666666666666, \"#ed7953\"], [0.7777777777777778, \"#fb9f3a\"], [0.8888888888888888, \"#fdca26\"], [1.0, \"#f0f921\"]], \"sequentialminus\": [[0.0, \"#0d0887\"], [0.1111111111111111, \"#46039f\"], [0.2222222222222222, \"#7201a8\"], [0.3333333333333333, \"#9c179e\"], [0.4444444444444444, \"#bd3786\"], [0.5555555555555556, \"#d8576b\"], [0.6666666666666666, \"#ed7953\"], [0.7777777777777778, \"#fb9f3a\"], [0.8888888888888888, \"#fdca26\"], [1.0, \"#f0f921\"]]}, \"colorway\": [\"#636efa\", \"#EF553B\", \"#00cc96\", \"#ab63fa\", \"#FFA15A\", \"#19d3f3\", \"#FF6692\", \"#B6E880\", \"#FF97FF\", \"#FECB52\"], \"font\": {\"color\": \"#2a3f5f\"}, \"geo\": {\"bgcolor\": \"white\", \"lakecolor\": \"white\", \"landcolor\": \"#E5ECF6\", \"showlakes\": true, \"showland\": true, \"subunitcolor\": \"white\"}, \"hoverlabel\": {\"align\": \"left\"}, \"hovermode\": \"closest\", \"mapbox\": {\"style\": \"light\"}, \"paper_bgcolor\": \"white\", \"plot_bgcolor\": \"#E5ECF6\", \"polar\": {\"angularaxis\": {\"gridcolor\": \"white\", \"linecolor\": \"white\", \"ticks\": \"\"}, \"bgcolor\": \"#E5ECF6\", \"radialaxis\": {\"gridcolor\": \"white\", \"linecolor\": \"white\", \"ticks\": \"\"}}, \"scene\": {\"xaxis\": {\"backgroundcolor\": \"#E5ECF6\", \"gridcolor\": \"white\", \"gridwidth\": 2, \"linecolor\": \"white\", \"showbackground\": true, \"ticks\": \"\", \"zerolinecolor\": \"white\"}, \"yaxis\": {\"backgroundcolor\": \"#E5ECF6\", \"gridcolor\": \"white\", \"gridwidth\": 2, \"linecolor\": \"white\", \"showbackground\": true, \"ticks\": \"\", \"zerolinecolor\": \"white\"}, \"zaxis\": {\"backgroundcolor\": \"#E5ECF6\", \"gridcolor\": \"white\", \"gridwidth\": 2, \"linecolor\": \"white\", \"showbackground\": true, \"ticks\": \"\", \"zerolinecolor\": \"white\"}}, \"shapedefaults\": {\"line\": {\"color\": \"#2a3f5f\"}}, \"ternary\": {\"aaxis\": {\"gridcolor\": \"white\", \"linecolor\": \"white\", \"ticks\": \"\"}, \"baxis\": {\"gridcolor\": \"white\", \"linecolor\": \"white\", \"ticks\": \"\"}, \"bgcolor\": \"#E5ECF6\", \"caxis\": {\"gridcolor\": \"white\", \"linecolor\": \"white\", \"ticks\": \"\"}}, \"title\": {\"x\": 0.05}, \"xaxis\": {\"automargin\": true, \"gridcolor\": \"white\", \"linecolor\": \"white\", \"ticks\": \"\", \"title\": {\"standoff\": 15}, \"zerolinecolor\": \"white\", \"zerolinewidth\": 2}, \"yaxis\": {\"automargin\": true, \"gridcolor\": \"white\", \"linecolor\": \"white\", \"ticks\": \"\", \"title\": {\"standoff\": 15}, \"zerolinecolor\": \"white\", \"zerolinewidth\": 2}}}, \"title\": {\"text\": \"UMAP Embedding Projection  Triplet\"}, \"width\": 1200, \"xaxis\": {\"anchor\": \"y\", \"domain\": [0.0, 1.0], \"title\": {\"text\": \"x\"}}, \"yaxis\": {\"anchor\": \"x\", \"domain\": [0.0, 1.0], \"title\": {\"text\": \"y\"}}},\n",
              "                        {\"responsive\": true}\n",
              "                    ).then(function(){\n",
              "                            \n",
              "var gd = document.getElementById('4b1ad004-9b4d-4027-b390-94da42e08493');\n",
              "var x = new MutationObserver(function (mutations, observer) {{\n",
              "        var display = window.getComputedStyle(gd).display;\n",
              "        if (!display || display === 'none') {{\n",
              "            console.log([gd, 'removed!']);\n",
              "            Plotly.purge(gd);\n",
              "            observer.disconnect();\n",
              "        }}\n",
              "}});\n",
              "\n",
              "// Listen for the removal of the full notebook cells\n",
              "var notebookContainer = gd.closest('#notebook-container');\n",
              "if (notebookContainer) {{\n",
              "    x.observe(notebookContainer, {childList: true});\n",
              "}}\n",
              "\n",
              "// Listen for the clearing of the current output cell\n",
              "var outputEl = gd.closest('.output');\n",
              "if (outputEl) {{\n",
              "    x.observe(outputEl, {childList: true});\n",
              "}}\n",
              "\n",
              "                        })\n",
              "                };\n",
              "                \n",
              "            </script>\n",
              "        </div>\n",
              "</body>\n",
              "</html>"
            ]
          },
          "metadata": {
            "tags": []
          }
        }
      ]
    },
    {
      "cell_type": "code",
      "metadata": {
        "id": "mBY68Wt4VINB"
      },
      "source": [
        "import tensorflow"
      ],
      "execution_count": 47,
      "outputs": []
    },
    {
      "cell_type": "code",
      "metadata": {
        "id": "6SjVhauR2rah"
      },
      "source": [
        "cedar_model =  tensorflow.keras.models.load_model(model_basepath +'models/cedar_triplet')\n"
      ],
      "execution_count": 48,
      "outputs": []
    },
    {
      "cell_type": "code",
      "metadata": {
        "colab": {
          "base_uri": "https://localhost:8080/"
        },
        "id": "z2IP4-VB6Sp-",
        "outputId": "a5f0cd60-013c-4e44-8edd-9b3748cb3b40"
      },
      "source": [
        "! zip -r resnet_cedar.zip models/cedar_triplet/\n"
      ],
      "execution_count": 51,
      "outputs": [
        {
          "output_type": "stream",
          "text": [
            "  adding: models/cedar_triplet/ (stored 0%)\n",
            "  adding: models/cedar_triplet/variables/ (stored 0%)\n",
            "  adding: models/cedar_triplet/variables/variables.data-00000-of-00001 (deflated 14%)\n",
            "  adding: models/cedar_triplet/variables/variables.index (deflated 81%)\n",
            "  adding: models/cedar_triplet/saved_model.pb (deflated 93%)\n",
            "  adding: models/cedar_triplet/assets/ (stored 0%)\n"
          ],
          "name": "stdout"
        }
      ]
    },
    {
      "cell_type": "code",
      "metadata": {
        "colab": {
          "base_uri": "https://localhost:8080/"
        },
        "id": "ha_D9rSEFKsQ",
        "outputId": "e55f578f-3b9a-4b3c-9665-af9c22becd0d"
      },
      "source": [
        "!ls -lh resnet_cedar.zip"
      ],
      "execution_count": 52,
      "outputs": [
        {
          "output_type": "stream",
          "text": [
            "-rw-r--r-- 1 root root 743M May 18 20:06 resnet_cedar.zip\n"
          ],
          "name": "stdout"
        }
      ]
    },
    {
      "cell_type": "code",
      "metadata": {
        "id": "3J65MYpmFq5W"
      },
      "source": [
        ""
      ],
      "execution_count": null,
      "outputs": []
    }
  ]
}